{
 "cells": [
  {
   "cell_type": "markdown",
   "id": "7b8bec6d-e234-4658-92cd-d11e7d2061ee",
   "metadata": {},
   "source": [
    "# Country racing chart using Google Search Console data"
   ]
  },
  {
   "cell_type": "code",
   "execution_count": null,
   "id": "7030c81f-1f86-47b7-977d-b6059cbce12e",
   "metadata": {},
   "outputs": [],
   "source": [
    "import calendar\n",
    "from unicodedata import lookup\n",
    "\n",
    "import advertools as adv\n",
    "import adviz\n",
    "import pandas as pd\n",
    "import numpy as np\n",
    "import plotly.express as px\n",
    "import searchconsole"
   ]
  },
  {
   "cell_type": "markdown",
   "id": "bc3530e5-ece7-4f2e-a1e2-0e6ef68506ce",
   "metadata": {},
   "source": [
    "## Function to make a flag using two country letters"
   ]
  },
  {
   "cell_type": "code",
   "execution_count": null,
   "id": "6c5a90be-a237-4dcb-9d51-a1c4c8262145",
   "metadata": {},
   "outputs": [],
   "source": [
    "def flag(letters):\n",
    "    if letters in [None, '', np.nan]:\n",
    "        return ''\n",
    "    l0 = lookup(f'REGIONAL INDICATOR SYMBOL LETTER {letters[0]}')\n",
    "    l1 = lookup(f'REGIONAL INDICATOR SYMBOL LETTER {letters[1]}')\n",
    "    return l0 + l1"
   ]
  },
  {
   "cell_type": "code",
   "execution_count": null,
   "id": "bc6ce349-da64-4ea8-a339-08d08dd26b0b",
   "metadata": {},
   "outputs": [
    {
     "data": {
      "text/plain": [
       "('🇧🇷', '🇯🇵', '🇪🇬', '🇦🇺')"
      ]
     },
     "execution_count": null,
     "metadata": {},
     "output_type": "execute_result"
    }
   ],
   "source": [
    "flag('br'), flag('jp'), flag('eg'), flag('au')"
   ]
  },
  {
   "cell_type": "markdown",
   "id": "f2d662d8-35f8-430b-8d81-03565c4ad5ad",
   "metadata": {},
   "source": [
    "## Convert 3-letter country codes to 2-letter"
   ]
  },
  {
   "cell_type": "code",
   "execution_count": null,
   "id": "7360329e-0c1d-47dc-933c-235afb760baa",
   "metadata": {},
   "outputs": [],
   "source": [
    "iso3_to_2 = {\n",
    "    'AFG': 'AF',\n",
    "    'ALA': 'AX',\n",
    "    'ALB': 'AL',\n",
    "    'DZA': 'DZ',\n",
    "    'ASM': 'AS',\n",
    "    'AND': 'AD',\n",
    "    'AGO': 'AO',\n",
    "    'AIA': 'AI',\n",
    "    'ATA': 'AQ',\n",
    "    'ATG': 'AG',\n",
    "    'ARG': 'AR',\n",
    "    'ARM': 'AM',\n",
    "    'ABW': 'AW',\n",
    "    'AUS': 'AU',\n",
    "    'AUT': 'AT',\n",
    "    'AZE': 'AZ',\n",
    "    'BHS': 'BS',\n",
    "    'BHR': 'BH',\n",
    "    'BGD': 'BD',\n",
    "    'BRB': 'BB',\n",
    "    'BLR': 'BY',\n",
    "    'BEL': 'BE',\n",
    "    'BLZ': 'BZ',\n",
    "    'BEN': 'BJ',\n",
    "    'BMU': 'BM',\n",
    "    'BTN': 'BT',\n",
    "    'BOL': 'BO',\n",
    "    'BES': 'BQ',\n",
    "    'BIH': 'BA',\n",
    "    'BWA': 'BW',\n",
    "    'BVT': 'BV',\n",
    "    'BRA': 'BR',\n",
    "    'IOT': 'IO',\n",
    "    'BRN': 'BN',\n",
    "    'BGR': 'BG',\n",
    "    'BFA': 'BF',\n",
    "    'BDI': 'BI',\n",
    "    'CPV': 'CV',\n",
    "    'KHM': 'KH',\n",
    "    'CMR': 'CM',\n",
    "    'CAN': 'CA',\n",
    "    'CYM': 'KY',\n",
    "    'CAF': 'CF',\n",
    "    'TCD': 'TD',\n",
    "    'CHL': 'CL',\n",
    "    'CHN': 'CN',\n",
    "    'CXR': 'CX',\n",
    "    'CCK': 'CC',\n",
    "    'COL': 'CO',\n",
    "    'COM': 'KM',\n",
    "    'COD': 'CD',\n",
    "    'COG': 'CG',\n",
    "    'COK': 'CK',\n",
    "    'CRI': 'CR',\n",
    "    'CIV': 'CI',\n",
    "    'HRV': 'HR',\n",
    "    'CUB': 'CU',\n",
    "    'CUW': 'CW',\n",
    "    'CYP': 'CY',\n",
    "    'CZE': 'CZ',\n",
    "    'DNK': 'DK',\n",
    "    'DJI': 'DJ',\n",
    "    'DMA': 'DM',\n",
    "    'DOM': 'DO',\n",
    "    'ECU': 'EC',\n",
    "    'EGY': 'EG',\n",
    "    'SLV': 'SV',\n",
    "    'GNQ': 'GQ',\n",
    "    'ERI': 'ER',\n",
    "    'EST': 'EE',\n",
    "    'SWZ': 'SZ',\n",
    "    'ETH': 'ET',\n",
    "    'FLK': 'FK',\n",
    "    'FRO': 'FO',\n",
    "    'FJI': 'FJ',\n",
    "    'FIN': 'FI',\n",
    "    'FRA': 'FR',\n",
    "    'GUF': 'GF',\n",
    "    'PYF': 'PF',\n",
    "    'ATF': 'TF',\n",
    "    'GAB': 'GA',\n",
    "    'GMB': 'GM',\n",
    "    'GEO': 'GE',\n",
    "    'DEU': 'DE',\n",
    "    'GHA': 'GH',\n",
    "    'GIB': 'GI',\n",
    "    'GRC': 'GR',\n",
    "    'GRL': 'GL',\n",
    "    'GRD': 'GD',\n",
    "    'GLP': 'GP',\n",
    "    'GUM': 'GU',\n",
    "    'GTM': 'GT',\n",
    "    'GGY': 'GG',\n",
    "    'GIN': 'GN',\n",
    "    'GNB': 'GW',\n",
    "    'GUY': 'GY',\n",
    "    'HTI': 'HT',\n",
    "    'HMD': 'HM',\n",
    "    'VAT': 'VA',\n",
    "    'HND': 'HN',\n",
    "    'HKG': 'HK',\n",
    "    'HUN': 'HU',\n",
    "    'ISL': 'IS',\n",
    "    'IND': 'IN',\n",
    "    'IDN': 'ID',\n",
    "    'IRN': 'IR',\n",
    "    'IRQ': 'IQ',\n",
    "    'IRL': 'IE',\n",
    "    'IMN': 'IM',\n",
    "    'ISR': 'IL',\n",
    "    'ITA': 'IT',\n",
    "    'JAM': 'JM',\n",
    "    'JPN': 'JP',\n",
    "    'JEY': 'JE',\n",
    "    'JOR': 'JO',\n",
    "    'KAZ': 'KZ',\n",
    "    'KEN': 'KE',\n",
    "    'KIR': 'KI',\n",
    "    'PRK': 'KP',\n",
    "    'KOR': 'KR',\n",
    "    'KWT': 'KW',\n",
    "    'KGZ': 'KG',\n",
    "    'LAO': 'LA',\n",
    "    'LVA': 'LV',\n",
    "    'LBN': 'LB',\n",
    "    'LSO': 'LS',\n",
    "    'LBR': 'LR',\n",
    "    'LBY': 'LY',\n",
    "    'LIE': 'LI',\n",
    "    'LTU': 'LT',\n",
    "    'LUX': 'LU',\n",
    "    'MAC': 'MO',\n",
    "    'MKD': 'MK',\n",
    "    'MDG': 'MG',\n",
    "    'MWI': 'MW',\n",
    "    'MYS': 'MY',\n",
    "    'MDV': 'MV',\n",
    "    'MLI': 'ML',\n",
    "    'MLT': 'MT',\n",
    "    'MHL': 'MH',\n",
    "    'MTQ': 'MQ',\n",
    "    'MRT': 'MR',\n",
    "    'MUS': 'MU',\n",
    "    'MYT': 'YT',\n",
    "    'MEX': 'MX',\n",
    "    'FSM': 'FM',\n",
    "    'MDA': 'MD',\n",
    "    'MCO': 'MC',\n",
    "    'MNG': 'MN',\n",
    "    'MNE': 'ME',\n",
    "    'MSR': 'MS',\n",
    "    'MAR': 'MA',\n",
    "    'MOZ': 'MZ',\n",
    "    'MMR': 'MM',\n",
    "    'NAM': '',\n",
    "    'NRU': 'NR',\n",
    "    'NPL': 'NP',\n",
    "    'NLD': 'NL',\n",
    "    'NCL': 'NC',\n",
    "    'NZL': 'NZ',\n",
    "    'NIC': 'NI',\n",
    "    'NER': 'NE',\n",
    "    'NGA': 'NG',\n",
    "    'NIU': 'NU',\n",
    "    'NFK': 'NF',\n",
    "    'MNP': 'MP',\n",
    "    'NOR': 'NO',\n",
    "    'OMN': 'OM',\n",
    "    'PAK': 'PK',\n",
    "    'PLW': 'PW',\n",
    "    'PSE': 'PS',\n",
    "    'PAN': 'PA',\n",
    "    'PNG': 'PG',\n",
    "    'PRY': 'PY',\n",
    "    'PER': 'PE',\n",
    "    'PHL': 'PH',\n",
    "    'PCN': 'PN',\n",
    "    'POL': 'PL',\n",
    "    'PRT': 'PT',\n",
    "    'PRI': 'PR',\n",
    "    'QAT': 'QA',\n",
    "    'REU': 'RE',\n",
    "    'ROU': 'RO',\n",
    "    'RUS': 'RU',\n",
    "    'RWA': 'RW',\n",
    "    'BLM': 'BL',\n",
    "    'SHN': 'SH',\n",
    "    'KNA': 'KN',\n",
    "    'LCA': 'LC',\n",
    "    'MAF': 'MF',\n",
    "    'SPM': 'PM',\n",
    "    'VCT': 'VC',\n",
    "    'WSM': 'WS',\n",
    "    'SMR': 'SM',\n",
    "    'STP': 'ST',\n",
    "    'SAU': 'SA',\n",
    "    'SEN': 'SN',\n",
    "    'SRB': 'RS',\n",
    "    'SYC': 'SC',\n",
    "    'SLE': 'SL',\n",
    "    'SGP': 'SG',\n",
    "    'SXM': 'SX',\n",
    "    'SVK': 'SK',\n",
    "    'SVN': 'SI',\n",
    "    'SLB': 'SB',\n",
    "    'SOM': 'SO',\n",
    "    'ZAF': 'ZA',\n",
    "    'SGS': 'GS',\n",
    "    'SSD': 'SS',\n",
    "    'ESP': 'ES',\n",
    "    'LKA': 'LK',\n",
    "    'SDN': 'SD',\n",
    "    'SUR': 'SR',\n",
    "    'SJM': 'SJ',\n",
    "    'SWE': 'SE',\n",
    "    'CHE': 'CH',\n",
    "    'SYR': 'SY',\n",
    "    'TWN': 'TW',\n",
    "    'TJK': 'TJ',\n",
    "    'TZA': 'TZ',\n",
    "    'THA': 'TH',\n",
    "    'TLS': 'TL',\n",
    "    'TGO': 'TG',\n",
    "    'TKL': 'TK',\n",
    "    'TON': 'TO',\n",
    "    'TTO': 'TT',\n",
    "    'TUN': 'TN',\n",
    "    'TUR': 'TR',\n",
    "    'TKM': 'TM',\n",
    "    'TCA': 'TC',\n",
    "    'TUV': 'TV',\n",
    "    'UGA': 'UG',\n",
    "    'UKR': 'UA',\n",
    "    'ARE': 'AE',\n",
    "    'GBR': 'GB',\n",
    "    'UMI': 'UM',\n",
    "    'USA': 'US',\n",
    "    'URY': 'UY',\n",
    "    'UZB': 'UZ',\n",
    "    'VUT': 'VU',\n",
    "    'VEN': 'VE',\n",
    "    'VNM': 'VN',\n",
    "    'VGB': 'VG',\n",
    "    'VIR': 'VI',\n",
    "    'WLF': 'WF',\n",
    "    'ESH': 'EH',\n",
    "    'YEM': 'YE',\n",
    "    'ZMB': 'ZM',\n",
    "    'ZWE': 'ZW'\n",
    "}"
   ]
  },
  {
   "cell_type": "markdown",
   "id": "f8dd6430-b42a-49e2-941d-c1015a926d69",
   "metadata": {},
   "source": [
    "## Google Search Console config file and authentication"
   ]
  },
  {
   "cell_type": "code",
   "execution_count": null,
   "id": "aff7e474-4e00-4e14-aa5d-5a1407f5ebe1",
   "metadata": {},
   "outputs": [],
   "source": [
    "client_config = 'som_random_set_of_characters.apps.googleusercontent.com.json'"
   ]
  },
  {
   "cell_type": "code",
   "execution_count": null,
   "id": "e099a6f9-9539-4ae2-a016-12df45a237d2",
   "metadata": {},
   "outputs": [],
   "source": [
    "account = searchconsole.authenticate(client_config=client_config)"
   ]
  },
  {
   "cell_type": "markdown",
   "id": "9b8ad538-59af-43b4-9ddf-fd9fc4e0facc",
   "metadata": {},
   "source": [
    "## Get data for twelve months"
   ]
  },
  {
   "cell_type": "code",
   "execution_count": null,
   "id": "0cd0cd45-f9b9-4c26-9533-9b5ab28b2a9e",
   "metadata": {},
   "outputs": [
    {
     "name": "stdout",
     "output_type": "stream",
     "text": [
      "Getting:  2022-01-31\n",
      "Getting:  2022-02-28\n",
      "Getting:  2022-03-31\n",
      "Getting:  2022-04-30\n",
      "Getting:  2022-05-31\n",
      "Getting:  2022-06-30\n",
      "Getting:  2022-07-31\n",
      "Getting:  2022-08-31\n",
      "Getting:  2022-09-30\n",
      "Getting:  2022-10-31\n",
      "Getting:  2022-11-30\n",
      "Getting:  2022-12-31\n"
     ]
    }
   ],
   "source": [
    "webproperty = account['https://exmaple.com']\n",
    "\n",
    "last_days = ['-'.join(['2022', str(month).zfill(2), str(calendar.monthrange(2023, month)[1])]) for month in range(1, 13)]\n",
    "\n",
    "country_month_reports = []\n",
    "for date in last_days:\n",
    "    print('Getting: ', date)\n",
    "    temp_report = webproperty.query.range(date, months=-1).dimension('country').get()\n",
    "    tempdf = temp_report.to_dataframe().assign(date=date)\n",
    "    country_month_reports.append(tempdf)"
   ]
  },
  {
   "cell_type": "markdown",
   "id": "df9eb3e0-7bed-42d6-820b-eccc5b62d2c7",
   "metadata": {},
   "source": [
    "## Create `country_df` with a few additional data"
   ]
  },
  {
   "cell_type": "code",
   "execution_count": null,
   "id": "f2711b01-aa48-4787-8396-903666b696a5",
   "metadata": {},
   "outputs": [
    {
     "data": {
      "text/html": [
       "<div>\n",
       "<style scoped>\n",
       "    .dataframe tbody tr th:only-of-type {\n",
       "        vertical-align: middle;\n",
       "    }\n",
       "\n",
       "    .dataframe tbody tr th {\n",
       "        vertical-align: top;\n",
       "    }\n",
       "\n",
       "    .dataframe thead th {\n",
       "        text-align: right;\n",
       "    }\n",
       "</style>\n",
       "<table border=\"1\" class=\"dataframe\">\n",
       "  <thead>\n",
       "    <tr style=\"text-align: right;\">\n",
       "      <th></th>\n",
       "      <th>country</th>\n",
       "      <th>clicks</th>\n",
       "      <th>impressions</th>\n",
       "      <th>ctr</th>\n",
       "      <th>position</th>\n",
       "      <th>date</th>\n",
       "      <th>iso_2</th>\n",
       "      <th>flag</th>\n",
       "    </tr>\n",
       "  </thead>\n",
       "  <tbody>\n",
       "    <tr>\n",
       "      <th>0</th>\n",
       "      <td>usa</td>\n",
       "      <td>185</td>\n",
       "      <td>11397</td>\n",
       "      <td>0.016232</td>\n",
       "      <td>38.121435</td>\n",
       "      <td>2022-01-31</td>\n",
       "      <td>US</td>\n",
       "      <td>🇺🇸</td>\n",
       "    </tr>\n",
       "    <tr>\n",
       "      <th>1</th>\n",
       "      <td>ind</td>\n",
       "      <td>157</td>\n",
       "      <td>6777</td>\n",
       "      <td>0.023167</td>\n",
       "      <td>33.000443</td>\n",
       "      <td>2022-01-31</td>\n",
       "      <td>IN</td>\n",
       "      <td>🇮🇳</td>\n",
       "    </tr>\n",
       "    <tr>\n",
       "      <th>2</th>\n",
       "      <td>deu</td>\n",
       "      <td>69</td>\n",
       "      <td>1538</td>\n",
       "      <td>0.044863</td>\n",
       "      <td>20.850455</td>\n",
       "      <td>2022-01-31</td>\n",
       "      <td>DE</td>\n",
       "      <td>🇩🇪</td>\n",
       "    </tr>\n",
       "    <tr>\n",
       "      <th>3</th>\n",
       "      <td>gbr</td>\n",
       "      <td>64</td>\n",
       "      <td>2414</td>\n",
       "      <td>0.026512</td>\n",
       "      <td>35.425849</td>\n",
       "      <td>2022-01-31</td>\n",
       "      <td>GB</td>\n",
       "      <td>🇬🇧</td>\n",
       "    </tr>\n",
       "    <tr>\n",
       "      <th>4</th>\n",
       "      <td>fra</td>\n",
       "      <td>58</td>\n",
       "      <td>1260</td>\n",
       "      <td>0.046032</td>\n",
       "      <td>29.206349</td>\n",
       "      <td>2022-01-31</td>\n",
       "      <td>FR</td>\n",
       "      <td>🇫🇷</td>\n",
       "    </tr>\n",
       "    <tr>\n",
       "      <th>...</th>\n",
       "      <td>...</td>\n",
       "      <td>...</td>\n",
       "      <td>...</td>\n",
       "      <td>...</td>\n",
       "      <td>...</td>\n",
       "      <td>...</td>\n",
       "      <td>...</td>\n",
       "      <td>...</td>\n",
       "    </tr>\n",
       "    <tr>\n",
       "      <th>2433</th>\n",
       "      <td>vgb</td>\n",
       "      <td>0</td>\n",
       "      <td>8</td>\n",
       "      <td>0.000000</td>\n",
       "      <td>43.875000</td>\n",
       "      <td>2022-12-31</td>\n",
       "      <td>VG</td>\n",
       "      <td>🇻🇬</td>\n",
       "    </tr>\n",
       "    <tr>\n",
       "      <th>2434</th>\n",
       "      <td>vir</td>\n",
       "      <td>0</td>\n",
       "      <td>1</td>\n",
       "      <td>0.000000</td>\n",
       "      <td>81.000000</td>\n",
       "      <td>2022-12-31</td>\n",
       "      <td>VI</td>\n",
       "      <td>🇻🇮</td>\n",
       "    </tr>\n",
       "    <tr>\n",
       "      <th>2435</th>\n",
       "      <td>vut</td>\n",
       "      <td>0</td>\n",
       "      <td>1</td>\n",
       "      <td>0.000000</td>\n",
       "      <td>35.000000</td>\n",
       "      <td>2022-12-31</td>\n",
       "      <td>VU</td>\n",
       "      <td>🇻🇺</td>\n",
       "    </tr>\n",
       "    <tr>\n",
       "      <th>2436</th>\n",
       "      <td>zmb</td>\n",
       "      <td>0</td>\n",
       "      <td>11</td>\n",
       "      <td>0.000000</td>\n",
       "      <td>52.000000</td>\n",
       "      <td>2022-12-31</td>\n",
       "      <td>ZM</td>\n",
       "      <td>🇿🇲</td>\n",
       "    </tr>\n",
       "    <tr>\n",
       "      <th>2437</th>\n",
       "      <td>zwe</td>\n",
       "      <td>0</td>\n",
       "      <td>17</td>\n",
       "      <td>0.000000</td>\n",
       "      <td>49.235294</td>\n",
       "      <td>2022-12-31</td>\n",
       "      <td>ZW</td>\n",
       "      <td>🇿🇼</td>\n",
       "    </tr>\n",
       "  </tbody>\n",
       "</table>\n",
       "<p>2438 rows × 8 columns</p>\n",
       "</div>"
      ],
      "text/plain": [
       "     country  clicks  impressions       ctr   position        date iso_2 flag\n",
       "0        usa     185        11397  0.016232  38.121435  2022-01-31    US   🇺🇸\n",
       "1        ind     157         6777  0.023167  33.000443  2022-01-31    IN   🇮🇳\n",
       "2        deu      69         1538  0.044863  20.850455  2022-01-31    DE   🇩🇪\n",
       "3        gbr      64         2414  0.026512  35.425849  2022-01-31    GB   🇬🇧\n",
       "4        fra      58         1260  0.046032  29.206349  2022-01-31    FR   🇫🇷\n",
       "...      ...     ...          ...       ...        ...         ...   ...  ...\n",
       "2433     vgb       0            8  0.000000  43.875000  2022-12-31    VG   🇻🇬\n",
       "2434     vir       0            1  0.000000  81.000000  2022-12-31    VI   🇻🇮\n",
       "2435     vut       0            1  0.000000  35.000000  2022-12-31    VU   🇻🇺\n",
       "2436     zmb       0           11  0.000000  52.000000  2022-12-31    ZM   🇿🇲\n",
       "2437     zwe       0           17  0.000000  49.235294  2022-12-31    ZW   🇿🇼\n",
       "\n",
       "[2438 rows x 8 columns]"
      ]
     },
     "execution_count": null,
     "metadata": {},
     "output_type": "execute_result"
    }
   ],
   "source": [
    "country_df = pd.concat(country_month_reports, ignore_index=True)\n",
    "country_df['iso_2'] = [iso3_to_2.get(country, '') for country in country_df['country'].str.upper()]\n",
    "country_df['flag'] = [flag(country) for country in country_df['iso_2']]\n",
    "country_df"
   ]
  },
  {
   "cell_type": "markdown",
   "id": "1ab1bec6-709a-4a54-b639-7a0941f4147f",
   "metadata": {},
   "source": [
    "## Get the top `n` observations (countries) in the last period"
   ]
  },
  {
   "cell_type": "code",
   "execution_count": null,
   "id": "d1c93adf-d0e2-4563-9097-7c801b1ad0d0",
   "metadata": {},
   "outputs": [
    {
     "data": {
      "text/plain": [
       "['🇵🇰',\n",
       " '🇻🇳',\n",
       " '🇮🇷',\n",
       " '🇷🇺',\n",
       " '🇵🇱',\n",
       " '🇳🇱',\n",
       " '🇨🇦',\n",
       " '🇹🇷',\n",
       " '🇪🇸',\n",
       " '🇮🇹',\n",
       " '🇬🇧',\n",
       " '🇫🇷',\n",
       " '🇩🇪',\n",
       " '🇺🇸',\n",
       " '🇮🇳']"
      ]
     },
     "execution_count": null,
     "metadata": {},
     "output_type": "execute_result"
    }
   ],
   "source": [
    "n = 15\n",
    "top_last_month = country_df[country_df['date'].eq(country_df['date'].max())].head(n)['flag'].tolist()[::-1]\n",
    "top_last_month"
   ]
  },
  {
   "cell_type": "markdown",
   "id": "ec1c4e37-5fbf-4227-a1f8-fc352df3f5b1",
   "metadata": {},
   "source": [
    "## Create the country racing chart"
   ]
  },
  {
   "cell_type": "code",
   "execution_count": null,
   "id": "281f946f-9bb9-4314-b124-fa44a1594be8",
   "metadata": {},
   "outputs": [
    {
     "data": {
      "application/vnd.plotly.v1+json": {
       "config": {
        "plotlyServerURL": "https://plot.ly"
       },
       "data": [
        {
         "alignmentgroup": "True",
         "hovertemplate": "<b>%{hovertext}</b><br><br>flag=%{y}<br>date=2022-01-31<br>clicks=%{x}<extra></extra>",
         "hovertext": [
          "usa"
         ],
         "legendgroup": "🇺🇸",
         "marker": {
          "color": "#1F77B4",
          "pattern": {
           "shape": ""
          }
         },
         "name": "🇺🇸",
         "offsetgroup": "🇺🇸",
         "orientation": "h",
         "showlegend": true,
         "textposition": "auto",
         "type": "bar",
         "x": [
          185
         ],
         "xaxis": "x",
         "y": [
          "🇺🇸"
         ],
         "yaxis": "y"
        },
        {
         "alignmentgroup": "True",
         "hovertemplate": "<b>%{hovertext}</b><br><br>flag=%{y}<br>date=2022-01-31<br>clicks=%{x}<extra></extra>",
         "hovertext": [
          "ind"
         ],
         "legendgroup": "🇮🇳",
         "marker": {
          "color": "#FF7F0E",
          "pattern": {
           "shape": ""
          }
         },
         "name": "🇮🇳",
         "offsetgroup": "🇮🇳",
         "orientation": "h",
         "showlegend": true,
         "textposition": "auto",
         "type": "bar",
         "x": [
          157
         ],
         "xaxis": "x",
         "y": [
          "🇮🇳"
         ],
         "yaxis": "y"
        },
        {
         "alignmentgroup": "True",
         "hovertemplate": "<b>%{hovertext}</b><br><br>flag=%{y}<br>date=2022-01-31<br>clicks=%{x}<extra></extra>",
         "hovertext": [
          "deu"
         ],
         "legendgroup": "🇩🇪",
         "marker": {
          "color": "#2CA02C",
          "pattern": {
           "shape": ""
          }
         },
         "name": "🇩🇪",
         "offsetgroup": "🇩🇪",
         "orientation": "h",
         "showlegend": true,
         "textposition": "auto",
         "type": "bar",
         "x": [
          69
         ],
         "xaxis": "x",
         "y": [
          "🇩🇪"
         ],
         "yaxis": "y"
        },
        {
         "alignmentgroup": "True",
         "hovertemplate": "<b>%{hovertext}</b><br><br>flag=%{y}<br>date=2022-01-31<br>clicks=%{x}<extra></extra>",
         "hovertext": [
          "gbr"
         ],
         "legendgroup": "🇬🇧",
         "marker": {
          "color": "#D62728",
          "pattern": {
           "shape": ""
          }
         },
         "name": "🇬🇧",
         "offsetgroup": "🇬🇧",
         "orientation": "h",
         "showlegend": true,
         "textposition": "auto",
         "type": "bar",
         "x": [
          64
         ],
         "xaxis": "x",
         "y": [
          "🇬🇧"
         ],
         "yaxis": "y"
        },
        {
         "alignmentgroup": "True",
         "hovertemplate": "<b>%{hovertext}</b><br><br>flag=%{y}<br>date=2022-01-31<br>clicks=%{x}<extra></extra>",
         "hovertext": [
          "fra"
         ],
         "legendgroup": "🇫🇷",
         "marker": {
          "color": "#9467BD",
          "pattern": {
           "shape": ""
          }
         },
         "name": "🇫🇷",
         "offsetgroup": "🇫🇷",
         "orientation": "h",
         "showlegend": true,
         "textposition": "auto",
         "type": "bar",
         "x": [
          58
         ],
         "xaxis": "x",
         "y": [
          "🇫🇷"
         ],
         "yaxis": "y"
        },
        {
         "alignmentgroup": "True",
         "hovertemplate": "<b>%{hovertext}</b><br><br>flag=%{y}<br>date=2022-01-31<br>clicks=%{x}<extra></extra>",
         "hovertext": [
          "esp"
         ],
         "legendgroup": "🇪🇸",
         "marker": {
          "color": "#8C564B",
          "pattern": {
           "shape": ""
          }
         },
         "name": "🇪🇸",
         "offsetgroup": "🇪🇸",
         "orientation": "h",
         "showlegend": true,
         "textposition": "auto",
         "type": "bar",
         "x": [
          30
         ],
         "xaxis": "x",
         "y": [
          "🇪🇸"
         ],
         "yaxis": "y"
        },
        {
         "alignmentgroup": "True",
         "hovertemplate": "<b>%{hovertext}</b><br><br>flag=%{y}<br>date=2022-01-31<br>clicks=%{x}<extra></extra>",
         "hovertext": [
          "can"
         ],
         "legendgroup": "🇨🇦",
         "marker": {
          "color": "#E377C2",
          "pattern": {
           "shape": ""
          }
         },
         "name": "🇨🇦",
         "offsetgroup": "🇨🇦",
         "orientation": "h",
         "showlegend": true,
         "textposition": "auto",
         "type": "bar",
         "x": [
          28
         ],
         "xaxis": "x",
         "y": [
          "🇨🇦"
         ],
         "yaxis": "y"
        },
        {
         "alignmentgroup": "True",
         "hovertemplate": "<b>%{hovertext}</b><br><br>flag=%{y}<br>date=2022-01-31<br>clicks=%{x}<extra></extra>",
         "hovertext": [
          "tur"
         ],
         "legendgroup": "🇹🇷",
         "marker": {
          "color": "#7F7F7F",
          "pattern": {
           "shape": ""
          }
         },
         "name": "🇹🇷",
         "offsetgroup": "🇹🇷",
         "orientation": "h",
         "showlegend": true,
         "textposition": "auto",
         "type": "bar",
         "x": [
          26
         ],
         "xaxis": "x",
         "y": [
          "🇹🇷"
         ],
         "yaxis": "y"
        },
        {
         "alignmentgroup": "True",
         "hovertemplate": "<b>%{hovertext}</b><br><br>flag=%{y}<br>date=2022-01-31<br>clicks=%{x}<extra></extra>",
         "hovertext": [
          "ita"
         ],
         "legendgroup": "🇮🇹",
         "marker": {
          "color": "#BCBD22",
          "pattern": {
           "shape": ""
          }
         },
         "name": "🇮🇹",
         "offsetgroup": "🇮🇹",
         "orientation": "h",
         "showlegend": true,
         "textposition": "auto",
         "type": "bar",
         "x": [
          23
         ],
         "xaxis": "x",
         "y": [
          "🇮🇹"
         ],
         "yaxis": "y"
        },
        {
         "alignmentgroup": "True",
         "hovertemplate": "<b>%{hovertext}</b><br><br>flag=%{y}<br>date=2022-01-31<br>clicks=%{x}<extra></extra>",
         "hovertext": [
          "nld"
         ],
         "legendgroup": "🇳🇱",
         "marker": {
          "color": "#17BECF",
          "pattern": {
           "shape": ""
          }
         },
         "name": "🇳🇱",
         "offsetgroup": "🇳🇱",
         "orientation": "h",
         "showlegend": true,
         "textposition": "auto",
         "type": "bar",
         "x": [
          23
         ],
         "xaxis": "x",
         "y": [
          "🇳🇱"
         ],
         "yaxis": "y"
        },
        {
         "alignmentgroup": "True",
         "hovertemplate": "<b>%{hovertext}</b><br><br>flag=%{y}<br>date=2022-01-31<br>clicks=%{x}<extra></extra>",
         "hovertext": [
          "pak"
         ],
         "legendgroup": "🇵🇰",
         "marker": {
          "color": "#1F77B4",
          "pattern": {
           "shape": ""
          }
         },
         "name": "🇵🇰",
         "offsetgroup": "🇵🇰",
         "orientation": "h",
         "showlegend": true,
         "textposition": "auto",
         "type": "bar",
         "x": [
          18
         ],
         "xaxis": "x",
         "y": [
          "🇵🇰"
         ],
         "yaxis": "y"
        },
        {
         "alignmentgroup": "True",
         "hovertemplate": "<b>%{hovertext}</b><br><br>flag=%{y}<br>date=2022-01-31<br>clicks=%{x}<extra></extra>",
         "hovertext": [
          "pol"
         ],
         "legendgroup": "🇵🇱",
         "marker": {
          "color": "#FF7F0E",
          "pattern": {
           "shape": ""
          }
         },
         "name": "🇵🇱",
         "offsetgroup": "🇵🇱",
         "orientation": "h",
         "showlegend": true,
         "textposition": "auto",
         "type": "bar",
         "x": [
          18
         ],
         "xaxis": "x",
         "y": [
          "🇵🇱"
         ],
         "yaxis": "y"
        },
        {
         "alignmentgroup": "True",
         "hovertemplate": "<b>%{hovertext}</b><br><br>flag=%{y}<br>date=2022-01-31<br>clicks=%{x}<extra></extra>",
         "hovertext": [
          "rus"
         ],
         "legendgroup": "🇷🇺",
         "marker": {
          "color": "#2CA02C",
          "pattern": {
           "shape": ""
          }
         },
         "name": "🇷🇺",
         "offsetgroup": "🇷🇺",
         "orientation": "h",
         "showlegend": true,
         "textposition": "auto",
         "type": "bar",
         "x": [
          18
         ],
         "xaxis": "x",
         "y": [
          "🇷🇺"
         ],
         "yaxis": "y"
        },
        {
         "alignmentgroup": "True",
         "hovertemplate": "<b>%{hovertext}</b><br><br>flag=%{y}<br>date=2022-01-31<br>clicks=%{x}<extra></extra>",
         "hovertext": [
          "vnm"
         ],
         "legendgroup": "🇻🇳",
         "marker": {
          "color": "#D62728",
          "pattern": {
           "shape": ""
          }
         },
         "name": "🇻🇳",
         "offsetgroup": "🇻🇳",
         "orientation": "h",
         "showlegend": true,
         "textposition": "auto",
         "type": "bar",
         "x": [
          9
         ],
         "xaxis": "x",
         "y": [
          "🇻🇳"
         ],
         "yaxis": "y"
        },
        {
         "alignmentgroup": "True",
         "hovertemplate": "<b>%{hovertext}</b><br><br>flag=%{y}<br>date=2022-01-31<br>clicks=%{x}<extra></extra>",
         "hovertext": [
          "irn"
         ],
         "legendgroup": "🇮🇷",
         "marker": {
          "color": "#9467BD",
          "pattern": {
           "shape": ""
          }
         },
         "name": "🇮🇷",
         "offsetgroup": "🇮🇷",
         "orientation": "h",
         "showlegend": true,
         "textposition": "auto",
         "type": "bar",
         "x": [
          5
         ],
         "xaxis": "x",
         "y": [
          "🇮🇷"
         ],
         "yaxis": "y"
        }
       ],
       "frames": [
        {
         "data": [
          {
           "alignmentgroup": "True",
           "hovertemplate": "<b>%{hovertext}</b><br><br>flag=%{y}<br>date=2022-01-31<br>clicks=%{x}<extra></extra>",
           "hovertext": [
            "usa"
           ],
           "legendgroup": "🇺🇸",
           "marker": {
            "color": "#1F77B4",
            "pattern": {
             "shape": ""
            }
           },
           "name": "🇺🇸",
           "offsetgroup": "🇺🇸",
           "orientation": "h",
           "showlegend": true,
           "textposition": "auto",
           "type": "bar",
           "x": [
            185
           ],
           "xaxis": "x",
           "y": [
            "🇺🇸"
           ],
           "yaxis": "y"
          },
          {
           "alignmentgroup": "True",
           "hovertemplate": "<b>%{hovertext}</b><br><br>flag=%{y}<br>date=2022-01-31<br>clicks=%{x}<extra></extra>",
           "hovertext": [
            "ind"
           ],
           "legendgroup": "🇮🇳",
           "marker": {
            "color": "#FF7F0E",
            "pattern": {
             "shape": ""
            }
           },
           "name": "🇮🇳",
           "offsetgroup": "🇮🇳",
           "orientation": "h",
           "showlegend": true,
           "textposition": "auto",
           "type": "bar",
           "x": [
            157
           ],
           "xaxis": "x",
           "y": [
            "🇮🇳"
           ],
           "yaxis": "y"
          },
          {
           "alignmentgroup": "True",
           "hovertemplate": "<b>%{hovertext}</b><br><br>flag=%{y}<br>date=2022-01-31<br>clicks=%{x}<extra></extra>",
           "hovertext": [
            "deu"
           ],
           "legendgroup": "🇩🇪",
           "marker": {
            "color": "#2CA02C",
            "pattern": {
             "shape": ""
            }
           },
           "name": "🇩🇪",
           "offsetgroup": "🇩🇪",
           "orientation": "h",
           "showlegend": true,
           "textposition": "auto",
           "type": "bar",
           "x": [
            69
           ],
           "xaxis": "x",
           "y": [
            "🇩🇪"
           ],
           "yaxis": "y"
          },
          {
           "alignmentgroup": "True",
           "hovertemplate": "<b>%{hovertext}</b><br><br>flag=%{y}<br>date=2022-01-31<br>clicks=%{x}<extra></extra>",
           "hovertext": [
            "gbr"
           ],
           "legendgroup": "🇬🇧",
           "marker": {
            "color": "#D62728",
            "pattern": {
             "shape": ""
            }
           },
           "name": "🇬🇧",
           "offsetgroup": "🇬🇧",
           "orientation": "h",
           "showlegend": true,
           "textposition": "auto",
           "type": "bar",
           "x": [
            64
           ],
           "xaxis": "x",
           "y": [
            "🇬🇧"
           ],
           "yaxis": "y"
          },
          {
           "alignmentgroup": "True",
           "hovertemplate": "<b>%{hovertext}</b><br><br>flag=%{y}<br>date=2022-01-31<br>clicks=%{x}<extra></extra>",
           "hovertext": [
            "fra"
           ],
           "legendgroup": "🇫🇷",
           "marker": {
            "color": "#9467BD",
            "pattern": {
             "shape": ""
            }
           },
           "name": "🇫🇷",
           "offsetgroup": "🇫🇷",
           "orientation": "h",
           "showlegend": true,
           "textposition": "auto",
           "type": "bar",
           "x": [
            58
           ],
           "xaxis": "x",
           "y": [
            "🇫🇷"
           ],
           "yaxis": "y"
          },
          {
           "alignmentgroup": "True",
           "hovertemplate": "<b>%{hovertext}</b><br><br>flag=%{y}<br>date=2022-01-31<br>clicks=%{x}<extra></extra>",
           "hovertext": [
            "esp"
           ],
           "legendgroup": "🇪🇸",
           "marker": {
            "color": "#8C564B",
            "pattern": {
             "shape": ""
            }
           },
           "name": "🇪🇸",
           "offsetgroup": "🇪🇸",
           "orientation": "h",
           "showlegend": true,
           "textposition": "auto",
           "type": "bar",
           "x": [
            30
           ],
           "xaxis": "x",
           "y": [
            "🇪🇸"
           ],
           "yaxis": "y"
          },
          {
           "alignmentgroup": "True",
           "hovertemplate": "<b>%{hovertext}</b><br><br>flag=%{y}<br>date=2022-01-31<br>clicks=%{x}<extra></extra>",
           "hovertext": [
            "can"
           ],
           "legendgroup": "🇨🇦",
           "marker": {
            "color": "#E377C2",
            "pattern": {
             "shape": ""
            }
           },
           "name": "🇨🇦",
           "offsetgroup": "🇨🇦",
           "orientation": "h",
           "showlegend": true,
           "textposition": "auto",
           "type": "bar",
           "x": [
            28
           ],
           "xaxis": "x",
           "y": [
            "🇨🇦"
           ],
           "yaxis": "y"
          },
          {
           "alignmentgroup": "True",
           "hovertemplate": "<b>%{hovertext}</b><br><br>flag=%{y}<br>date=2022-01-31<br>clicks=%{x}<extra></extra>",
           "hovertext": [
            "tur"
           ],
           "legendgroup": "🇹🇷",
           "marker": {
            "color": "#7F7F7F",
            "pattern": {
             "shape": ""
            }
           },
           "name": "🇹🇷",
           "offsetgroup": "🇹🇷",
           "orientation": "h",
           "showlegend": true,
           "textposition": "auto",
           "type": "bar",
           "x": [
            26
           ],
           "xaxis": "x",
           "y": [
            "🇹🇷"
           ],
           "yaxis": "y"
          },
          {
           "alignmentgroup": "True",
           "hovertemplate": "<b>%{hovertext}</b><br><br>flag=%{y}<br>date=2022-01-31<br>clicks=%{x}<extra></extra>",
           "hovertext": [
            "ita"
           ],
           "legendgroup": "🇮🇹",
           "marker": {
            "color": "#BCBD22",
            "pattern": {
             "shape": ""
            }
           },
           "name": "🇮🇹",
           "offsetgroup": "🇮🇹",
           "orientation": "h",
           "showlegend": true,
           "textposition": "auto",
           "type": "bar",
           "x": [
            23
           ],
           "xaxis": "x",
           "y": [
            "🇮🇹"
           ],
           "yaxis": "y"
          },
          {
           "alignmentgroup": "True",
           "hovertemplate": "<b>%{hovertext}</b><br><br>flag=%{y}<br>date=2022-01-31<br>clicks=%{x}<extra></extra>",
           "hovertext": [
            "nld"
           ],
           "legendgroup": "🇳🇱",
           "marker": {
            "color": "#17BECF",
            "pattern": {
             "shape": ""
            }
           },
           "name": "🇳🇱",
           "offsetgroup": "🇳🇱",
           "orientation": "h",
           "showlegend": true,
           "textposition": "auto",
           "type": "bar",
           "x": [
            23
           ],
           "xaxis": "x",
           "y": [
            "🇳🇱"
           ],
           "yaxis": "y"
          },
          {
           "alignmentgroup": "True",
           "hovertemplate": "<b>%{hovertext}</b><br><br>flag=%{y}<br>date=2022-01-31<br>clicks=%{x}<extra></extra>",
           "hovertext": [
            "pak"
           ],
           "legendgroup": "🇵🇰",
           "marker": {
            "color": "#1F77B4",
            "pattern": {
             "shape": ""
            }
           },
           "name": "🇵🇰",
           "offsetgroup": "🇵🇰",
           "orientation": "h",
           "showlegend": true,
           "textposition": "auto",
           "type": "bar",
           "x": [
            18
           ],
           "xaxis": "x",
           "y": [
            "🇵🇰"
           ],
           "yaxis": "y"
          },
          {
           "alignmentgroup": "True",
           "hovertemplate": "<b>%{hovertext}</b><br><br>flag=%{y}<br>date=2022-01-31<br>clicks=%{x}<extra></extra>",
           "hovertext": [
            "pol"
           ],
           "legendgroup": "🇵🇱",
           "marker": {
            "color": "#FF7F0E",
            "pattern": {
             "shape": ""
            }
           },
           "name": "🇵🇱",
           "offsetgroup": "🇵🇱",
           "orientation": "h",
           "showlegend": true,
           "textposition": "auto",
           "type": "bar",
           "x": [
            18
           ],
           "xaxis": "x",
           "y": [
            "🇵🇱"
           ],
           "yaxis": "y"
          },
          {
           "alignmentgroup": "True",
           "hovertemplate": "<b>%{hovertext}</b><br><br>flag=%{y}<br>date=2022-01-31<br>clicks=%{x}<extra></extra>",
           "hovertext": [
            "rus"
           ],
           "legendgroup": "🇷🇺",
           "marker": {
            "color": "#2CA02C",
            "pattern": {
             "shape": ""
            }
           },
           "name": "🇷🇺",
           "offsetgroup": "🇷🇺",
           "orientation": "h",
           "showlegend": true,
           "textposition": "auto",
           "type": "bar",
           "x": [
            18
           ],
           "xaxis": "x",
           "y": [
            "🇷🇺"
           ],
           "yaxis": "y"
          },
          {
           "alignmentgroup": "True",
           "hovertemplate": "<b>%{hovertext}</b><br><br>flag=%{y}<br>date=2022-01-31<br>clicks=%{x}<extra></extra>",
           "hovertext": [
            "vnm"
           ],
           "legendgroup": "🇻🇳",
           "marker": {
            "color": "#D62728",
            "pattern": {
             "shape": ""
            }
           },
           "name": "🇻🇳",
           "offsetgroup": "🇻🇳",
           "orientation": "h",
           "showlegend": true,
           "textposition": "auto",
           "type": "bar",
           "x": [
            9
           ],
           "xaxis": "x",
           "y": [
            "🇻🇳"
           ],
           "yaxis": "y"
          },
          {
           "alignmentgroup": "True",
           "hovertemplate": "<b>%{hovertext}</b><br><br>flag=%{y}<br>date=2022-01-31<br>clicks=%{x}<extra></extra>",
           "hovertext": [
            "irn"
           ],
           "legendgroup": "🇮🇷",
           "marker": {
            "color": "#9467BD",
            "pattern": {
             "shape": ""
            }
           },
           "name": "🇮🇷",
           "offsetgroup": "🇮🇷",
           "orientation": "h",
           "showlegend": true,
           "textposition": "auto",
           "type": "bar",
           "x": [
            5
           ],
           "xaxis": "x",
           "y": [
            "🇮🇷"
           ],
           "yaxis": "y"
          }
         ],
         "name": "2022-01-31"
        },
        {
         "data": [
          {
           "alignmentgroup": "True",
           "hovertemplate": "<b>%{hovertext}</b><br><br>flag=%{y}<br>date=2022-02-28<br>clicks=%{x}<extra></extra>",
           "hovertext": [
            "usa"
           ],
           "legendgroup": "🇺🇸",
           "marker": {
            "color": "#1F77B4",
            "pattern": {
             "shape": ""
            }
           },
           "name": "🇺🇸",
           "offsetgroup": "🇺🇸",
           "orientation": "h",
           "showlegend": true,
           "textposition": "auto",
           "type": "bar",
           "x": [
            230
           ],
           "xaxis": "x",
           "y": [
            "🇺🇸"
           ],
           "yaxis": "y"
          },
          {
           "alignmentgroup": "True",
           "hovertemplate": "<b>%{hovertext}</b><br><br>flag=%{y}<br>date=2022-02-28<br>clicks=%{x}<extra></extra>",
           "hovertext": [
            "ind"
           ],
           "legendgroup": "🇮🇳",
           "marker": {
            "color": "#FF7F0E",
            "pattern": {
             "shape": ""
            }
           },
           "name": "🇮🇳",
           "offsetgroup": "🇮🇳",
           "orientation": "h",
           "showlegend": true,
           "textposition": "auto",
           "type": "bar",
           "x": [
            178
           ],
           "xaxis": "x",
           "y": [
            "🇮🇳"
           ],
           "yaxis": "y"
          },
          {
           "alignmentgroup": "True",
           "hovertemplate": "<b>%{hovertext}</b><br><br>flag=%{y}<br>date=2022-02-28<br>clicks=%{x}<extra></extra>",
           "hovertext": [
            "deu"
           ],
           "legendgroup": "🇩🇪",
           "marker": {
            "color": "#2CA02C",
            "pattern": {
             "shape": ""
            }
           },
           "name": "🇩🇪",
           "offsetgroup": "🇩🇪",
           "orientation": "h",
           "showlegend": true,
           "textposition": "auto",
           "type": "bar",
           "x": [
            67
           ],
           "xaxis": "x",
           "y": [
            "🇩🇪"
           ],
           "yaxis": "y"
          },
          {
           "alignmentgroup": "True",
           "hovertemplate": "<b>%{hovertext}</b><br><br>flag=%{y}<br>date=2022-02-28<br>clicks=%{x}<extra></extra>",
           "hovertext": [
            "gbr"
           ],
           "legendgroup": "🇬🇧",
           "marker": {
            "color": "#D62728",
            "pattern": {
             "shape": ""
            }
           },
           "name": "🇬🇧",
           "offsetgroup": "🇬🇧",
           "orientation": "h",
           "showlegend": true,
           "textposition": "auto",
           "type": "bar",
           "x": [
            66
           ],
           "xaxis": "x",
           "y": [
            "🇬🇧"
           ],
           "yaxis": "y"
          },
          {
           "alignmentgroup": "True",
           "hovertemplate": "<b>%{hovertext}</b><br><br>flag=%{y}<br>date=2022-02-28<br>clicks=%{x}<extra></extra>",
           "hovertext": [
            "fra"
           ],
           "legendgroup": "🇫🇷",
           "marker": {
            "color": "#9467BD",
            "pattern": {
             "shape": ""
            }
           },
           "name": "🇫🇷",
           "offsetgroup": "🇫🇷",
           "orientation": "h",
           "showlegend": true,
           "textposition": "auto",
           "type": "bar",
           "x": [
            63
           ],
           "xaxis": "x",
           "y": [
            "🇫🇷"
           ],
           "yaxis": "y"
          },
          {
           "alignmentgroup": "True",
           "hovertemplate": "<b>%{hovertext}</b><br><br>flag=%{y}<br>date=2022-02-28<br>clicks=%{x}<extra></extra>",
           "hovertext": [
            "esp"
           ],
           "legendgroup": "🇪🇸",
           "marker": {
            "color": "#8C564B",
            "pattern": {
             "shape": ""
            }
           },
           "name": "🇪🇸",
           "offsetgroup": "🇪🇸",
           "orientation": "h",
           "showlegend": true,
           "textposition": "auto",
           "type": "bar",
           "x": [
            28
           ],
           "xaxis": "x",
           "y": [
            "🇪🇸"
           ],
           "yaxis": "y"
          },
          {
           "alignmentgroup": "True",
           "hovertemplate": "<b>%{hovertext}</b><br><br>flag=%{y}<br>date=2022-02-28<br>clicks=%{x}<extra></extra>",
           "hovertext": [
            "can"
           ],
           "legendgroup": "🇨🇦",
           "marker": {
            "color": "#E377C2",
            "pattern": {
             "shape": ""
            }
           },
           "name": "🇨🇦",
           "offsetgroup": "🇨🇦",
           "orientation": "h",
           "showlegend": true,
           "textposition": "auto",
           "type": "bar",
           "x": [
            40
           ],
           "xaxis": "x",
           "y": [
            "🇨🇦"
           ],
           "yaxis": "y"
          },
          {
           "alignmentgroup": "True",
           "hovertemplate": "<b>%{hovertext}</b><br><br>flag=%{y}<br>date=2022-02-28<br>clicks=%{x}<extra></extra>",
           "hovertext": [
            "tur"
           ],
           "legendgroup": "🇹🇷",
           "marker": {
            "color": "#7F7F7F",
            "pattern": {
             "shape": ""
            }
           },
           "name": "🇹🇷",
           "offsetgroup": "🇹🇷",
           "orientation": "h",
           "showlegend": true,
           "textposition": "auto",
           "type": "bar",
           "x": [
            24
           ],
           "xaxis": "x",
           "y": [
            "🇹🇷"
           ],
           "yaxis": "y"
          },
          {
           "alignmentgroup": "True",
           "hovertemplate": "<b>%{hovertext}</b><br><br>flag=%{y}<br>date=2022-02-28<br>clicks=%{x}<extra></extra>",
           "hovertext": [
            "ita"
           ],
           "legendgroup": "🇮🇹",
           "marker": {
            "color": "#BCBD22",
            "pattern": {
             "shape": ""
            }
           },
           "name": "🇮🇹",
           "offsetgroup": "🇮🇹",
           "orientation": "h",
           "showlegend": true,
           "textposition": "auto",
           "type": "bar",
           "x": [
            25
           ],
           "xaxis": "x",
           "y": [
            "🇮🇹"
           ],
           "yaxis": "y"
          },
          {
           "alignmentgroup": "True",
           "hovertemplate": "<b>%{hovertext}</b><br><br>flag=%{y}<br>date=2022-02-28<br>clicks=%{x}<extra></extra>",
           "hovertext": [
            "nld"
           ],
           "legendgroup": "🇳🇱",
           "marker": {
            "color": "#17BECF",
            "pattern": {
             "shape": ""
            }
           },
           "name": "🇳🇱",
           "offsetgroup": "🇳🇱",
           "orientation": "h",
           "showlegend": true,
           "textposition": "auto",
           "type": "bar",
           "x": [
            26
           ],
           "xaxis": "x",
           "y": [
            "🇳🇱"
           ],
           "yaxis": "y"
          },
          {
           "alignmentgroup": "True",
           "hovertemplate": "<b>%{hovertext}</b><br><br>flag=%{y}<br>date=2022-02-28<br>clicks=%{x}<extra></extra>",
           "hovertext": [
            "pak"
           ],
           "legendgroup": "🇵🇰",
           "marker": {
            "color": "#1F77B4",
            "pattern": {
             "shape": ""
            }
           },
           "name": "🇵🇰",
           "offsetgroup": "🇵🇰",
           "orientation": "h",
           "showlegend": true,
           "textposition": "auto",
           "type": "bar",
           "x": [
            21
           ],
           "xaxis": "x",
           "y": [
            "🇵🇰"
           ],
           "yaxis": "y"
          },
          {
           "alignmentgroup": "True",
           "hovertemplate": "<b>%{hovertext}</b><br><br>flag=%{y}<br>date=2022-02-28<br>clicks=%{x}<extra></extra>",
           "hovertext": [
            "pol"
           ],
           "legendgroup": "🇵🇱",
           "marker": {
            "color": "#FF7F0E",
            "pattern": {
             "shape": ""
            }
           },
           "name": "🇵🇱",
           "offsetgroup": "🇵🇱",
           "orientation": "h",
           "showlegend": true,
           "textposition": "auto",
           "type": "bar",
           "x": [
            27
           ],
           "xaxis": "x",
           "y": [
            "🇵🇱"
           ],
           "yaxis": "y"
          },
          {
           "alignmentgroup": "True",
           "hovertemplate": "<b>%{hovertext}</b><br><br>flag=%{y}<br>date=2022-02-28<br>clicks=%{x}<extra></extra>",
           "hovertext": [
            "rus"
           ],
           "legendgroup": "🇷🇺",
           "marker": {
            "color": "#2CA02C",
            "pattern": {
             "shape": ""
            }
           },
           "name": "🇷🇺",
           "offsetgroup": "🇷🇺",
           "orientation": "h",
           "showlegend": true,
           "textposition": "auto",
           "type": "bar",
           "x": [
            17
           ],
           "xaxis": "x",
           "y": [
            "🇷🇺"
           ],
           "yaxis": "y"
          },
          {
           "alignmentgroup": "True",
           "hovertemplate": "<b>%{hovertext}</b><br><br>flag=%{y}<br>date=2022-02-28<br>clicks=%{x}<extra></extra>",
           "hovertext": [
            "vnm"
           ],
           "legendgroup": "🇻🇳",
           "marker": {
            "color": "#D62728",
            "pattern": {
             "shape": ""
            }
           },
           "name": "🇻🇳",
           "offsetgroup": "🇻🇳",
           "orientation": "h",
           "showlegend": true,
           "textposition": "auto",
           "type": "bar",
           "x": [
            5
           ],
           "xaxis": "x",
           "y": [
            "🇻🇳"
           ],
           "yaxis": "y"
          },
          {
           "alignmentgroup": "True",
           "hovertemplate": "<b>%{hovertext}</b><br><br>flag=%{y}<br>date=2022-02-28<br>clicks=%{x}<extra></extra>",
           "hovertext": [
            "irn"
           ],
           "legendgroup": "🇮🇷",
           "marker": {
            "color": "#9467BD",
            "pattern": {
             "shape": ""
            }
           },
           "name": "🇮🇷",
           "offsetgroup": "🇮🇷",
           "orientation": "h",
           "showlegend": true,
           "textposition": "auto",
           "type": "bar",
           "x": [
            20
           ],
           "xaxis": "x",
           "y": [
            "🇮🇷"
           ],
           "yaxis": "y"
          }
         ],
         "name": "2022-02-28"
        },
        {
         "data": [
          {
           "alignmentgroup": "True",
           "hovertemplate": "<b>%{hovertext}</b><br><br>flag=%{y}<br>date=2022-03-31<br>clicks=%{x}<extra></extra>",
           "hovertext": [
            "usa"
           ],
           "legendgroup": "🇺🇸",
           "marker": {
            "color": "#1F77B4",
            "pattern": {
             "shape": ""
            }
           },
           "name": "🇺🇸",
           "offsetgroup": "🇺🇸",
           "orientation": "h",
           "showlegend": true,
           "textposition": "auto",
           "type": "bar",
           "x": [
            285
           ],
           "xaxis": "x",
           "y": [
            "🇺🇸"
           ],
           "yaxis": "y"
          },
          {
           "alignmentgroup": "True",
           "hovertemplate": "<b>%{hovertext}</b><br><br>flag=%{y}<br>date=2022-03-31<br>clicks=%{x}<extra></extra>",
           "hovertext": [
            "ind"
           ],
           "legendgroup": "🇮🇳",
           "marker": {
            "color": "#FF7F0E",
            "pattern": {
             "shape": ""
            }
           },
           "name": "🇮🇳",
           "offsetgroup": "🇮🇳",
           "orientation": "h",
           "showlegend": true,
           "textposition": "auto",
           "type": "bar",
           "x": [
            185
           ],
           "xaxis": "x",
           "y": [
            "🇮🇳"
           ],
           "yaxis": "y"
          },
          {
           "alignmentgroup": "True",
           "hovertemplate": "<b>%{hovertext}</b><br><br>flag=%{y}<br>date=2022-03-31<br>clicks=%{x}<extra></extra>",
           "hovertext": [
            "deu"
           ],
           "legendgroup": "🇩🇪",
           "marker": {
            "color": "#2CA02C",
            "pattern": {
             "shape": ""
            }
           },
           "name": "🇩🇪",
           "offsetgroup": "🇩🇪",
           "orientation": "h",
           "showlegend": true,
           "textposition": "auto",
           "type": "bar",
           "x": [
            91
           ],
           "xaxis": "x",
           "y": [
            "🇩🇪"
           ],
           "yaxis": "y"
          },
          {
           "alignmentgroup": "True",
           "hovertemplate": "<b>%{hovertext}</b><br><br>flag=%{y}<br>date=2022-03-31<br>clicks=%{x}<extra></extra>",
           "hovertext": [
            "gbr"
           ],
           "legendgroup": "🇬🇧",
           "marker": {
            "color": "#D62728",
            "pattern": {
             "shape": ""
            }
           },
           "name": "🇬🇧",
           "offsetgroup": "🇬🇧",
           "orientation": "h",
           "showlegend": true,
           "textposition": "auto",
           "type": "bar",
           "x": [
            114
           ],
           "xaxis": "x",
           "y": [
            "🇬🇧"
           ],
           "yaxis": "y"
          },
          {
           "alignmentgroup": "True",
           "hovertemplate": "<b>%{hovertext}</b><br><br>flag=%{y}<br>date=2022-03-31<br>clicks=%{x}<extra></extra>",
           "hovertext": [
            "fra"
           ],
           "legendgroup": "🇫🇷",
           "marker": {
            "color": "#9467BD",
            "pattern": {
             "shape": ""
            }
           },
           "name": "🇫🇷",
           "offsetgroup": "🇫🇷",
           "orientation": "h",
           "showlegend": true,
           "textposition": "auto",
           "type": "bar",
           "x": [
            72
           ],
           "xaxis": "x",
           "y": [
            "🇫🇷"
           ],
           "yaxis": "y"
          },
          {
           "alignmentgroup": "True",
           "hovertemplate": "<b>%{hovertext}</b><br><br>flag=%{y}<br>date=2022-03-31<br>clicks=%{x}<extra></extra>",
           "hovertext": [
            "esp"
           ],
           "legendgroup": "🇪🇸",
           "marker": {
            "color": "#8C564B",
            "pattern": {
             "shape": ""
            }
           },
           "name": "🇪🇸",
           "offsetgroup": "🇪🇸",
           "orientation": "h",
           "showlegend": true,
           "textposition": "auto",
           "type": "bar",
           "x": [
            63
           ],
           "xaxis": "x",
           "y": [
            "🇪🇸"
           ],
           "yaxis": "y"
          },
          {
           "alignmentgroup": "True",
           "hovertemplate": "<b>%{hovertext}</b><br><br>flag=%{y}<br>date=2022-03-31<br>clicks=%{x}<extra></extra>",
           "hovertext": [
            "can"
           ],
           "legendgroup": "🇨🇦",
           "marker": {
            "color": "#E377C2",
            "pattern": {
             "shape": ""
            }
           },
           "name": "🇨🇦",
           "offsetgroup": "🇨🇦",
           "orientation": "h",
           "showlegend": true,
           "textposition": "auto",
           "type": "bar",
           "x": [
            29
           ],
           "xaxis": "x",
           "y": [
            "🇨🇦"
           ],
           "yaxis": "y"
          },
          {
           "alignmentgroup": "True",
           "hovertemplate": "<b>%{hovertext}</b><br><br>flag=%{y}<br>date=2022-03-31<br>clicks=%{x}<extra></extra>",
           "hovertext": [
            "tur"
           ],
           "legendgroup": "🇹🇷",
           "marker": {
            "color": "#7F7F7F",
            "pattern": {
             "shape": ""
            }
           },
           "name": "🇹🇷",
           "offsetgroup": "🇹🇷",
           "orientation": "h",
           "showlegend": true,
           "textposition": "auto",
           "type": "bar",
           "x": [
            20
           ],
           "xaxis": "x",
           "y": [
            "🇹🇷"
           ],
           "yaxis": "y"
          },
          {
           "alignmentgroup": "True",
           "hovertemplate": "<b>%{hovertext}</b><br><br>flag=%{y}<br>date=2022-03-31<br>clicks=%{x}<extra></extra>",
           "hovertext": [
            "ita"
           ],
           "legendgroup": "🇮🇹",
           "marker": {
            "color": "#BCBD22",
            "pattern": {
             "shape": ""
            }
           },
           "name": "🇮🇹",
           "offsetgroup": "🇮🇹",
           "orientation": "h",
           "showlegend": true,
           "textposition": "auto",
           "type": "bar",
           "x": [
            41
           ],
           "xaxis": "x",
           "y": [
            "🇮🇹"
           ],
           "yaxis": "y"
          },
          {
           "alignmentgroup": "True",
           "hovertemplate": "<b>%{hovertext}</b><br><br>flag=%{y}<br>date=2022-03-31<br>clicks=%{x}<extra></extra>",
           "hovertext": [
            "nld"
           ],
           "legendgroup": "🇳🇱",
           "marker": {
            "color": "#17BECF",
            "pattern": {
             "shape": ""
            }
           },
           "name": "🇳🇱",
           "offsetgroup": "🇳🇱",
           "orientation": "h",
           "showlegend": true,
           "textposition": "auto",
           "type": "bar",
           "x": [
            18
           ],
           "xaxis": "x",
           "y": [
            "🇳🇱"
           ],
           "yaxis": "y"
          },
          {
           "alignmentgroup": "True",
           "hovertemplate": "<b>%{hovertext}</b><br><br>flag=%{y}<br>date=2022-03-31<br>clicks=%{x}<extra></extra>",
           "hovertext": [
            "pak"
           ],
           "legendgroup": "🇵🇰",
           "marker": {
            "color": "#1F77B4",
            "pattern": {
             "shape": ""
            }
           },
           "name": "🇵🇰",
           "offsetgroup": "🇵🇰",
           "orientation": "h",
           "showlegend": true,
           "textposition": "auto",
           "type": "bar",
           "x": [
            13
           ],
           "xaxis": "x",
           "y": [
            "🇵🇰"
           ],
           "yaxis": "y"
          },
          {
           "alignmentgroup": "True",
           "hovertemplate": "<b>%{hovertext}</b><br><br>flag=%{y}<br>date=2022-03-31<br>clicks=%{x}<extra></extra>",
           "hovertext": [
            "pol"
           ],
           "legendgroup": "🇵🇱",
           "marker": {
            "color": "#FF7F0E",
            "pattern": {
             "shape": ""
            }
           },
           "name": "🇵🇱",
           "offsetgroup": "🇵🇱",
           "orientation": "h",
           "showlegend": true,
           "textposition": "auto",
           "type": "bar",
           "x": [
            23
           ],
           "xaxis": "x",
           "y": [
            "🇵🇱"
           ],
           "yaxis": "y"
          },
          {
           "alignmentgroup": "True",
           "hovertemplate": "<b>%{hovertext}</b><br><br>flag=%{y}<br>date=2022-03-31<br>clicks=%{x}<extra></extra>",
           "hovertext": [
            "rus"
           ],
           "legendgroup": "🇷🇺",
           "marker": {
            "color": "#2CA02C",
            "pattern": {
             "shape": ""
            }
           },
           "name": "🇷🇺",
           "offsetgroup": "🇷🇺",
           "orientation": "h",
           "showlegend": true,
           "textposition": "auto",
           "type": "bar",
           "x": [
            24
           ],
           "xaxis": "x",
           "y": [
            "🇷🇺"
           ],
           "yaxis": "y"
          },
          {
           "alignmentgroup": "True",
           "hovertemplate": "<b>%{hovertext}</b><br><br>flag=%{y}<br>date=2022-03-31<br>clicks=%{x}<extra></extra>",
           "hovertext": [
            "vnm"
           ],
           "legendgroup": "🇻🇳",
           "marker": {
            "color": "#D62728",
            "pattern": {
             "shape": ""
            }
           },
           "name": "🇻🇳",
           "offsetgroup": "🇻🇳",
           "orientation": "h",
           "showlegend": true,
           "textposition": "auto",
           "type": "bar",
           "x": [
            19
           ],
           "xaxis": "x",
           "y": [
            "🇻🇳"
           ],
           "yaxis": "y"
          },
          {
           "alignmentgroup": "True",
           "hovertemplate": "<b>%{hovertext}</b><br><br>flag=%{y}<br>date=2022-03-31<br>clicks=%{x}<extra></extra>",
           "hovertext": [
            "irn"
           ],
           "legendgroup": "🇮🇷",
           "marker": {
            "color": "#9467BD",
            "pattern": {
             "shape": ""
            }
           },
           "name": "🇮🇷",
           "offsetgroup": "🇮🇷",
           "orientation": "h",
           "showlegend": true,
           "textposition": "auto",
           "type": "bar",
           "x": [
            10
           ],
           "xaxis": "x",
           "y": [
            "🇮🇷"
           ],
           "yaxis": "y"
          }
         ],
         "name": "2022-03-31"
        },
        {
         "data": [
          {
           "alignmentgroup": "True",
           "hovertemplate": "<b>%{hovertext}</b><br><br>flag=%{y}<br>date=2022-04-30<br>clicks=%{x}<extra></extra>",
           "hovertext": [
            "usa"
           ],
           "legendgroup": "🇺🇸",
           "marker": {
            "color": "#1F77B4",
            "pattern": {
             "shape": ""
            }
           },
           "name": "🇺🇸",
           "offsetgroup": "🇺🇸",
           "orientation": "h",
           "showlegend": true,
           "textposition": "auto",
           "type": "bar",
           "x": [
            397
           ],
           "xaxis": "x",
           "y": [
            "🇺🇸"
           ],
           "yaxis": "y"
          },
          {
           "alignmentgroup": "True",
           "hovertemplate": "<b>%{hovertext}</b><br><br>flag=%{y}<br>date=2022-04-30<br>clicks=%{x}<extra></extra>",
           "hovertext": [
            "ind"
           ],
           "legendgroup": "🇮🇳",
           "marker": {
            "color": "#FF7F0E",
            "pattern": {
             "shape": ""
            }
           },
           "name": "🇮🇳",
           "offsetgroup": "🇮🇳",
           "orientation": "h",
           "showlegend": true,
           "textposition": "auto",
           "type": "bar",
           "x": [
            288
           ],
           "xaxis": "x",
           "y": [
            "🇮🇳"
           ],
           "yaxis": "y"
          },
          {
           "alignmentgroup": "True",
           "hovertemplate": "<b>%{hovertext}</b><br><br>flag=%{y}<br>date=2022-04-30<br>clicks=%{x}<extra></extra>",
           "hovertext": [
            "deu"
           ],
           "legendgroup": "🇩🇪",
           "marker": {
            "color": "#2CA02C",
            "pattern": {
             "shape": ""
            }
           },
           "name": "🇩🇪",
           "offsetgroup": "🇩🇪",
           "orientation": "h",
           "showlegend": true,
           "textposition": "auto",
           "type": "bar",
           "x": [
            95
           ],
           "xaxis": "x",
           "y": [
            "🇩🇪"
           ],
           "yaxis": "y"
          },
          {
           "alignmentgroup": "True",
           "hovertemplate": "<b>%{hovertext}</b><br><br>flag=%{y}<br>date=2022-04-30<br>clicks=%{x}<extra></extra>",
           "hovertext": [
            "gbr"
           ],
           "legendgroup": "🇬🇧",
           "marker": {
            "color": "#D62728",
            "pattern": {
             "shape": ""
            }
           },
           "name": "🇬🇧",
           "offsetgroup": "🇬🇧",
           "orientation": "h",
           "showlegend": true,
           "textposition": "auto",
           "type": "bar",
           "x": [
            99
           ],
           "xaxis": "x",
           "y": [
            "🇬🇧"
           ],
           "yaxis": "y"
          },
          {
           "alignmentgroup": "True",
           "hovertemplate": "<b>%{hovertext}</b><br><br>flag=%{y}<br>date=2022-04-30<br>clicks=%{x}<extra></extra>",
           "hovertext": [
            "fra"
           ],
           "legendgroup": "🇫🇷",
           "marker": {
            "color": "#9467BD",
            "pattern": {
             "shape": ""
            }
           },
           "name": "🇫🇷",
           "offsetgroup": "🇫🇷",
           "orientation": "h",
           "showlegend": true,
           "textposition": "auto",
           "type": "bar",
           "x": [
            83
           ],
           "xaxis": "x",
           "y": [
            "🇫🇷"
           ],
           "yaxis": "y"
          },
          {
           "alignmentgroup": "True",
           "hovertemplate": "<b>%{hovertext}</b><br><br>flag=%{y}<br>date=2022-04-30<br>clicks=%{x}<extra></extra>",
           "hovertext": [
            "esp"
           ],
           "legendgroup": "🇪🇸",
           "marker": {
            "color": "#8C564B",
            "pattern": {
             "shape": ""
            }
           },
           "name": "🇪🇸",
           "offsetgroup": "🇪🇸",
           "orientation": "h",
           "showlegend": true,
           "textposition": "auto",
           "type": "bar",
           "x": [
            58
           ],
           "xaxis": "x",
           "y": [
            "🇪🇸"
           ],
           "yaxis": "y"
          },
          {
           "alignmentgroup": "True",
           "hovertemplate": "<b>%{hovertext}</b><br><br>flag=%{y}<br>date=2022-04-30<br>clicks=%{x}<extra></extra>",
           "hovertext": [
            "can"
           ],
           "legendgroup": "🇨🇦",
           "marker": {
            "color": "#E377C2",
            "pattern": {
             "shape": ""
            }
           },
           "name": "🇨🇦",
           "offsetgroup": "🇨🇦",
           "orientation": "h",
           "showlegend": true,
           "textposition": "auto",
           "type": "bar",
           "x": [
            38
           ],
           "xaxis": "x",
           "y": [
            "🇨🇦"
           ],
           "yaxis": "y"
          },
          {
           "alignmentgroup": "True",
           "hovertemplate": "<b>%{hovertext}</b><br><br>flag=%{y}<br>date=2022-04-30<br>clicks=%{x}<extra></extra>",
           "hovertext": [
            "tur"
           ],
           "legendgroup": "🇹🇷",
           "marker": {
            "color": "#7F7F7F",
            "pattern": {
             "shape": ""
            }
           },
           "name": "🇹🇷",
           "offsetgroup": "🇹🇷",
           "orientation": "h",
           "showlegend": true,
           "textposition": "auto",
           "type": "bar",
           "x": [
            45
           ],
           "xaxis": "x",
           "y": [
            "🇹🇷"
           ],
           "yaxis": "y"
          },
          {
           "alignmentgroup": "True",
           "hovertemplate": "<b>%{hovertext}</b><br><br>flag=%{y}<br>date=2022-04-30<br>clicks=%{x}<extra></extra>",
           "hovertext": [
            "ita"
           ],
           "legendgroup": "🇮🇹",
           "marker": {
            "color": "#BCBD22",
            "pattern": {
             "shape": ""
            }
           },
           "name": "🇮🇹",
           "offsetgroup": "🇮🇹",
           "orientation": "h",
           "showlegend": true,
           "textposition": "auto",
           "type": "bar",
           "x": [
            44
           ],
           "xaxis": "x",
           "y": [
            "🇮🇹"
           ],
           "yaxis": "y"
          },
          {
           "alignmentgroup": "True",
           "hovertemplate": "<b>%{hovertext}</b><br><br>flag=%{y}<br>date=2022-04-30<br>clicks=%{x}<extra></extra>",
           "hovertext": [
            "nld"
           ],
           "legendgroup": "🇳🇱",
           "marker": {
            "color": "#17BECF",
            "pattern": {
             "shape": ""
            }
           },
           "name": "🇳🇱",
           "offsetgroup": "🇳🇱",
           "orientation": "h",
           "showlegend": true,
           "textposition": "auto",
           "type": "bar",
           "x": [
            38
           ],
           "xaxis": "x",
           "y": [
            "🇳🇱"
           ],
           "yaxis": "y"
          },
          {
           "alignmentgroup": "True",
           "hovertemplate": "<b>%{hovertext}</b><br><br>flag=%{y}<br>date=2022-04-30<br>clicks=%{x}<extra></extra>",
           "hovertext": [
            "pak"
           ],
           "legendgroup": "🇵🇰",
           "marker": {
            "color": "#1F77B4",
            "pattern": {
             "shape": ""
            }
           },
           "name": "🇵🇰",
           "offsetgroup": "🇵🇰",
           "orientation": "h",
           "showlegend": true,
           "textposition": "auto",
           "type": "bar",
           "x": [
            20
           ],
           "xaxis": "x",
           "y": [
            "🇵🇰"
           ],
           "yaxis": "y"
          },
          {
           "alignmentgroup": "True",
           "hovertemplate": "<b>%{hovertext}</b><br><br>flag=%{y}<br>date=2022-04-30<br>clicks=%{x}<extra></extra>",
           "hovertext": [
            "pol"
           ],
           "legendgroup": "🇵🇱",
           "marker": {
            "color": "#FF7F0E",
            "pattern": {
             "shape": ""
            }
           },
           "name": "🇵🇱",
           "offsetgroup": "🇵🇱",
           "orientation": "h",
           "showlegend": true,
           "textposition": "auto",
           "type": "bar",
           "x": [
            39
           ],
           "xaxis": "x",
           "y": [
            "🇵🇱"
           ],
           "yaxis": "y"
          },
          {
           "alignmentgroup": "True",
           "hovertemplate": "<b>%{hovertext}</b><br><br>flag=%{y}<br>date=2022-04-30<br>clicks=%{x}<extra></extra>",
           "hovertext": [
            "rus"
           ],
           "legendgroup": "🇷🇺",
           "marker": {
            "color": "#2CA02C",
            "pattern": {
             "shape": ""
            }
           },
           "name": "🇷🇺",
           "offsetgroup": "🇷🇺",
           "orientation": "h",
           "showlegend": true,
           "textposition": "auto",
           "type": "bar",
           "x": [
            32
           ],
           "xaxis": "x",
           "y": [
            "🇷🇺"
           ],
           "yaxis": "y"
          },
          {
           "alignmentgroup": "True",
           "hovertemplate": "<b>%{hovertext}</b><br><br>flag=%{y}<br>date=2022-04-30<br>clicks=%{x}<extra></extra>",
           "hovertext": [
            "vnm"
           ],
           "legendgroup": "🇻🇳",
           "marker": {
            "color": "#D62728",
            "pattern": {
             "shape": ""
            }
           },
           "name": "🇻🇳",
           "offsetgroup": "🇻🇳",
           "orientation": "h",
           "showlegend": true,
           "textposition": "auto",
           "type": "bar",
           "x": [
            18
           ],
           "xaxis": "x",
           "y": [
            "🇻🇳"
           ],
           "yaxis": "y"
          },
          {
           "alignmentgroup": "True",
           "hovertemplate": "<b>%{hovertext}</b><br><br>flag=%{y}<br>date=2022-04-30<br>clicks=%{x}<extra></extra>",
           "hovertext": [
            "irn"
           ],
           "legendgroup": "🇮🇷",
           "marker": {
            "color": "#9467BD",
            "pattern": {
             "shape": ""
            }
           },
           "name": "🇮🇷",
           "offsetgroup": "🇮🇷",
           "orientation": "h",
           "showlegend": true,
           "textposition": "auto",
           "type": "bar",
           "x": [
            28
           ],
           "xaxis": "x",
           "y": [
            "🇮🇷"
           ],
           "yaxis": "y"
          }
         ],
         "name": "2022-04-30"
        },
        {
         "data": [
          {
           "alignmentgroup": "True",
           "hovertemplate": "<b>%{hovertext}</b><br><br>flag=%{y}<br>date=2022-05-31<br>clicks=%{x}<extra></extra>",
           "hovertext": [
            "usa"
           ],
           "legendgroup": "🇺🇸",
           "marker": {
            "color": "#1F77B4",
            "pattern": {
             "shape": ""
            }
           },
           "name": "🇺🇸",
           "offsetgroup": "🇺🇸",
           "orientation": "h",
           "showlegend": true,
           "textposition": "auto",
           "type": "bar",
           "x": [
            344
           ],
           "xaxis": "x",
           "y": [
            "🇺🇸"
           ],
           "yaxis": "y"
          },
          {
           "alignmentgroup": "True",
           "hovertemplate": "<b>%{hovertext}</b><br><br>flag=%{y}<br>date=2022-05-31<br>clicks=%{x}<extra></extra>",
           "hovertext": [
            "ind"
           ],
           "legendgroup": "🇮🇳",
           "marker": {
            "color": "#FF7F0E",
            "pattern": {
             "shape": ""
            }
           },
           "name": "🇮🇳",
           "offsetgroup": "🇮🇳",
           "orientation": "h",
           "showlegend": true,
           "textposition": "auto",
           "type": "bar",
           "x": [
            341
           ],
           "xaxis": "x",
           "y": [
            "🇮🇳"
           ],
           "yaxis": "y"
          },
          {
           "alignmentgroup": "True",
           "hovertemplate": "<b>%{hovertext}</b><br><br>flag=%{y}<br>date=2022-05-31<br>clicks=%{x}<extra></extra>",
           "hovertext": [
            "deu"
           ],
           "legendgroup": "🇩🇪",
           "marker": {
            "color": "#2CA02C",
            "pattern": {
             "shape": ""
            }
           },
           "name": "🇩🇪",
           "offsetgroup": "🇩🇪",
           "orientation": "h",
           "showlegend": true,
           "textposition": "auto",
           "type": "bar",
           "x": [
            144
           ],
           "xaxis": "x",
           "y": [
            "🇩🇪"
           ],
           "yaxis": "y"
          },
          {
           "alignmentgroup": "True",
           "hovertemplate": "<b>%{hovertext}</b><br><br>flag=%{y}<br>date=2022-05-31<br>clicks=%{x}<extra></extra>",
           "hovertext": [
            "gbr"
           ],
           "legendgroup": "🇬🇧",
           "marker": {
            "color": "#D62728",
            "pattern": {
             "shape": ""
            }
           },
           "name": "🇬🇧",
           "offsetgroup": "🇬🇧",
           "orientation": "h",
           "showlegend": true,
           "textposition": "auto",
           "type": "bar",
           "x": [
            93
           ],
           "xaxis": "x",
           "y": [
            "🇬🇧"
           ],
           "yaxis": "y"
          },
          {
           "alignmentgroup": "True",
           "hovertemplate": "<b>%{hovertext}</b><br><br>flag=%{y}<br>date=2022-05-31<br>clicks=%{x}<extra></extra>",
           "hovertext": [
            "fra"
           ],
           "legendgroup": "🇫🇷",
           "marker": {
            "color": "#9467BD",
            "pattern": {
             "shape": ""
            }
           },
           "name": "🇫🇷",
           "offsetgroup": "🇫🇷",
           "orientation": "h",
           "showlegend": true,
           "textposition": "auto",
           "type": "bar",
           "x": [
            76
           ],
           "xaxis": "x",
           "y": [
            "🇫🇷"
           ],
           "yaxis": "y"
          },
          {
           "alignmentgroup": "True",
           "hovertemplate": "<b>%{hovertext}</b><br><br>flag=%{y}<br>date=2022-05-31<br>clicks=%{x}<extra></extra>",
           "hovertext": [
            "esp"
           ],
           "legendgroup": "🇪🇸",
           "marker": {
            "color": "#8C564B",
            "pattern": {
             "shape": ""
            }
           },
           "name": "🇪🇸",
           "offsetgroup": "🇪🇸",
           "orientation": "h",
           "showlegend": true,
           "textposition": "auto",
           "type": "bar",
           "x": [
            58
           ],
           "xaxis": "x",
           "y": [
            "🇪🇸"
           ],
           "yaxis": "y"
          },
          {
           "alignmentgroup": "True",
           "hovertemplate": "<b>%{hovertext}</b><br><br>flag=%{y}<br>date=2022-05-31<br>clicks=%{x}<extra></extra>",
           "hovertext": [
            "can"
           ],
           "legendgroup": "🇨🇦",
           "marker": {
            "color": "#E377C2",
            "pattern": {
             "shape": ""
            }
           },
           "name": "🇨🇦",
           "offsetgroup": "🇨🇦",
           "orientation": "h",
           "showlegend": true,
           "textposition": "auto",
           "type": "bar",
           "x": [
            23
           ],
           "xaxis": "x",
           "y": [
            "🇨🇦"
           ],
           "yaxis": "y"
          },
          {
           "alignmentgroup": "True",
           "hovertemplate": "<b>%{hovertext}</b><br><br>flag=%{y}<br>date=2022-05-31<br>clicks=%{x}<extra></extra>",
           "hovertext": [
            "tur"
           ],
           "legendgroup": "🇹🇷",
           "marker": {
            "color": "#7F7F7F",
            "pattern": {
             "shape": ""
            }
           },
           "name": "🇹🇷",
           "offsetgroup": "🇹🇷",
           "orientation": "h",
           "showlegend": true,
           "textposition": "auto",
           "type": "bar",
           "x": [
            58
           ],
           "xaxis": "x",
           "y": [
            "🇹🇷"
           ],
           "yaxis": "y"
          },
          {
           "alignmentgroup": "True",
           "hovertemplate": "<b>%{hovertext}</b><br><br>flag=%{y}<br>date=2022-05-31<br>clicks=%{x}<extra></extra>",
           "hovertext": [
            "ita"
           ],
           "legendgroup": "🇮🇹",
           "marker": {
            "color": "#BCBD22",
            "pattern": {
             "shape": ""
            }
           },
           "name": "🇮🇹",
           "offsetgroup": "🇮🇹",
           "orientation": "h",
           "showlegend": true,
           "textposition": "auto",
           "type": "bar",
           "x": [
            55
           ],
           "xaxis": "x",
           "y": [
            "🇮🇹"
           ],
           "yaxis": "y"
          },
          {
           "alignmentgroup": "True",
           "hovertemplate": "<b>%{hovertext}</b><br><br>flag=%{y}<br>date=2022-05-31<br>clicks=%{x}<extra></extra>",
           "hovertext": [
            "nld"
           ],
           "legendgroup": "🇳🇱",
           "marker": {
            "color": "#17BECF",
            "pattern": {
             "shape": ""
            }
           },
           "name": "🇳🇱",
           "offsetgroup": "🇳🇱",
           "orientation": "h",
           "showlegend": true,
           "textposition": "auto",
           "type": "bar",
           "x": [
            38
           ],
           "xaxis": "x",
           "y": [
            "🇳🇱"
           ],
           "yaxis": "y"
          },
          {
           "alignmentgroup": "True",
           "hovertemplate": "<b>%{hovertext}</b><br><br>flag=%{y}<br>date=2022-05-31<br>clicks=%{x}<extra></extra>",
           "hovertext": [
            "pak"
           ],
           "legendgroup": "🇵🇰",
           "marker": {
            "color": "#1F77B4",
            "pattern": {
             "shape": ""
            }
           },
           "name": "🇵🇰",
           "offsetgroup": "🇵🇰",
           "orientation": "h",
           "showlegend": true,
           "textposition": "auto",
           "type": "bar",
           "x": [
            38
           ],
           "xaxis": "x",
           "y": [
            "🇵🇰"
           ],
           "yaxis": "y"
          },
          {
           "alignmentgroup": "True",
           "hovertemplate": "<b>%{hovertext}</b><br><br>flag=%{y}<br>date=2022-05-31<br>clicks=%{x}<extra></extra>",
           "hovertext": [
            "pol"
           ],
           "legendgroup": "🇵🇱",
           "marker": {
            "color": "#FF7F0E",
            "pattern": {
             "shape": ""
            }
           },
           "name": "🇵🇱",
           "offsetgroup": "🇵🇱",
           "orientation": "h",
           "showlegend": true,
           "textposition": "auto",
           "type": "bar",
           "x": [
            56
           ],
           "xaxis": "x",
           "y": [
            "🇵🇱"
           ],
           "yaxis": "y"
          },
          {
           "alignmentgroup": "True",
           "hovertemplate": "<b>%{hovertext}</b><br><br>flag=%{y}<br>date=2022-05-31<br>clicks=%{x}<extra></extra>",
           "hovertext": [
            "rus"
           ],
           "legendgroup": "🇷🇺",
           "marker": {
            "color": "#2CA02C",
            "pattern": {
             "shape": ""
            }
           },
           "name": "🇷🇺",
           "offsetgroup": "🇷🇺",
           "orientation": "h",
           "showlegend": true,
           "textposition": "auto",
           "type": "bar",
           "x": [
            35
           ],
           "xaxis": "x",
           "y": [
            "🇷🇺"
           ],
           "yaxis": "y"
          },
          {
           "alignmentgroup": "True",
           "hovertemplate": "<b>%{hovertext}</b><br><br>flag=%{y}<br>date=2022-05-31<br>clicks=%{x}<extra></extra>",
           "hovertext": [
            "vnm"
           ],
           "legendgroup": "🇻🇳",
           "marker": {
            "color": "#D62728",
            "pattern": {
             "shape": ""
            }
           },
           "name": "🇻🇳",
           "offsetgroup": "🇻🇳",
           "orientation": "h",
           "showlegend": true,
           "textposition": "auto",
           "type": "bar",
           "x": [
            18
           ],
           "xaxis": "x",
           "y": [
            "🇻🇳"
           ],
           "yaxis": "y"
          },
          {
           "alignmentgroup": "True",
           "hovertemplate": "<b>%{hovertext}</b><br><br>flag=%{y}<br>date=2022-05-31<br>clicks=%{x}<extra></extra>",
           "hovertext": [
            "irn"
           ],
           "legendgroup": "🇮🇷",
           "marker": {
            "color": "#9467BD",
            "pattern": {
             "shape": ""
            }
           },
           "name": "🇮🇷",
           "offsetgroup": "🇮🇷",
           "orientation": "h",
           "showlegend": true,
           "textposition": "auto",
           "type": "bar",
           "x": [
            39
           ],
           "xaxis": "x",
           "y": [
            "🇮🇷"
           ],
           "yaxis": "y"
          }
         ],
         "name": "2022-05-31"
        },
        {
         "data": [
          {
           "alignmentgroup": "True",
           "hovertemplate": "<b>%{hovertext}</b><br><br>flag=%{y}<br>date=2022-06-30<br>clicks=%{x}<extra></extra>",
           "hovertext": [
            "usa"
           ],
           "legendgroup": "🇺🇸",
           "marker": {
            "color": "#1F77B4",
            "pattern": {
             "shape": ""
            }
           },
           "name": "🇺🇸",
           "offsetgroup": "🇺🇸",
           "orientation": "h",
           "showlegend": true,
           "textposition": "auto",
           "type": "bar",
           "x": [
            352
           ],
           "xaxis": "x",
           "y": [
            "🇺🇸"
           ],
           "yaxis": "y"
          },
          {
           "alignmentgroup": "True",
           "hovertemplate": "<b>%{hovertext}</b><br><br>flag=%{y}<br>date=2022-06-30<br>clicks=%{x}<extra></extra>",
           "hovertext": [
            "ind"
           ],
           "legendgroup": "🇮🇳",
           "marker": {
            "color": "#FF7F0E",
            "pattern": {
             "shape": ""
            }
           },
           "name": "🇮🇳",
           "offsetgroup": "🇮🇳",
           "orientation": "h",
           "showlegend": true,
           "textposition": "auto",
           "type": "bar",
           "x": [
            269
           ],
           "xaxis": "x",
           "y": [
            "🇮🇳"
           ],
           "yaxis": "y"
          },
          {
           "alignmentgroup": "True",
           "hovertemplate": "<b>%{hovertext}</b><br><br>flag=%{y}<br>date=2022-06-30<br>clicks=%{x}<extra></extra>",
           "hovertext": [
            "deu"
           ],
           "legendgroup": "🇩🇪",
           "marker": {
            "color": "#2CA02C",
            "pattern": {
             "shape": ""
            }
           },
           "name": "🇩🇪",
           "offsetgroup": "🇩🇪",
           "orientation": "h",
           "showlegend": true,
           "textposition": "auto",
           "type": "bar",
           "x": [
            119
           ],
           "xaxis": "x",
           "y": [
            "🇩🇪"
           ],
           "yaxis": "y"
          },
          {
           "alignmentgroup": "True",
           "hovertemplate": "<b>%{hovertext}</b><br><br>flag=%{y}<br>date=2022-06-30<br>clicks=%{x}<extra></extra>",
           "hovertext": [
            "gbr"
           ],
           "legendgroup": "🇬🇧",
           "marker": {
            "color": "#D62728",
            "pattern": {
             "shape": ""
            }
           },
           "name": "🇬🇧",
           "offsetgroup": "🇬🇧",
           "orientation": "h",
           "showlegend": true,
           "textposition": "auto",
           "type": "bar",
           "x": [
            78
           ],
           "xaxis": "x",
           "y": [
            "🇬🇧"
           ],
           "yaxis": "y"
          },
          {
           "alignmentgroup": "True",
           "hovertemplate": "<b>%{hovertext}</b><br><br>flag=%{y}<br>date=2022-06-30<br>clicks=%{x}<extra></extra>",
           "hovertext": [
            "fra"
           ],
           "legendgroup": "🇫🇷",
           "marker": {
            "color": "#9467BD",
            "pattern": {
             "shape": ""
            }
           },
           "name": "🇫🇷",
           "offsetgroup": "🇫🇷",
           "orientation": "h",
           "showlegend": true,
           "textposition": "auto",
           "type": "bar",
           "x": [
            71
           ],
           "xaxis": "x",
           "y": [
            "🇫🇷"
           ],
           "yaxis": "y"
          },
          {
           "alignmentgroup": "True",
           "hovertemplate": "<b>%{hovertext}</b><br><br>flag=%{y}<br>date=2022-06-30<br>clicks=%{x}<extra></extra>",
           "hovertext": [
            "esp"
           ],
           "legendgroup": "🇪🇸",
           "marker": {
            "color": "#8C564B",
            "pattern": {
             "shape": ""
            }
           },
           "name": "🇪🇸",
           "offsetgroup": "🇪🇸",
           "orientation": "h",
           "showlegend": true,
           "textposition": "auto",
           "type": "bar",
           "x": [
            62
           ],
           "xaxis": "x",
           "y": [
            "🇪🇸"
           ],
           "yaxis": "y"
          },
          {
           "alignmentgroup": "True",
           "hovertemplate": "<b>%{hovertext}</b><br><br>flag=%{y}<br>date=2022-06-30<br>clicks=%{x}<extra></extra>",
           "hovertext": [
            "can"
           ],
           "legendgroup": "🇨🇦",
           "marker": {
            "color": "#E377C2",
            "pattern": {
             "shape": ""
            }
           },
           "name": "🇨🇦",
           "offsetgroup": "🇨🇦",
           "orientation": "h",
           "showlegend": true,
           "textposition": "auto",
           "type": "bar",
           "x": [
            32
           ],
           "xaxis": "x",
           "y": [
            "🇨🇦"
           ],
           "yaxis": "y"
          },
          {
           "alignmentgroup": "True",
           "hovertemplate": "<b>%{hovertext}</b><br><br>flag=%{y}<br>date=2022-06-30<br>clicks=%{x}<extra></extra>",
           "hovertext": [
            "tur"
           ],
           "legendgroup": "🇹🇷",
           "marker": {
            "color": "#7F7F7F",
            "pattern": {
             "shape": ""
            }
           },
           "name": "🇹🇷",
           "offsetgroup": "🇹🇷",
           "orientation": "h",
           "showlegend": true,
           "textposition": "auto",
           "type": "bar",
           "x": [
            45
           ],
           "xaxis": "x",
           "y": [
            "🇹🇷"
           ],
           "yaxis": "y"
          },
          {
           "alignmentgroup": "True",
           "hovertemplate": "<b>%{hovertext}</b><br><br>flag=%{y}<br>date=2022-06-30<br>clicks=%{x}<extra></extra>",
           "hovertext": [
            "ita"
           ],
           "legendgroup": "🇮🇹",
           "marker": {
            "color": "#BCBD22",
            "pattern": {
             "shape": ""
            }
           },
           "name": "🇮🇹",
           "offsetgroup": "🇮🇹",
           "orientation": "h",
           "showlegend": true,
           "textposition": "auto",
           "type": "bar",
           "x": [
            42
           ],
           "xaxis": "x",
           "y": [
            "🇮🇹"
           ],
           "yaxis": "y"
          },
          {
           "alignmentgroup": "True",
           "hovertemplate": "<b>%{hovertext}</b><br><br>flag=%{y}<br>date=2022-06-30<br>clicks=%{x}<extra></extra>",
           "hovertext": [
            "nld"
           ],
           "legendgroup": "🇳🇱",
           "marker": {
            "color": "#17BECF",
            "pattern": {
             "shape": ""
            }
           },
           "name": "🇳🇱",
           "offsetgroup": "🇳🇱",
           "orientation": "h",
           "showlegend": true,
           "textposition": "auto",
           "type": "bar",
           "x": [
            30
           ],
           "xaxis": "x",
           "y": [
            "🇳🇱"
           ],
           "yaxis": "y"
          },
          {
           "alignmentgroup": "True",
           "hovertemplate": "<b>%{hovertext}</b><br><br>flag=%{y}<br>date=2022-06-30<br>clicks=%{x}<extra></extra>",
           "hovertext": [
            "pak"
           ],
           "legendgroup": "🇵🇰",
           "marker": {
            "color": "#1F77B4",
            "pattern": {
             "shape": ""
            }
           },
           "name": "🇵🇰",
           "offsetgroup": "🇵🇰",
           "orientation": "h",
           "showlegend": true,
           "textposition": "auto",
           "type": "bar",
           "x": [
            23
           ],
           "xaxis": "x",
           "y": [
            "🇵🇰"
           ],
           "yaxis": "y"
          },
          {
           "alignmentgroup": "True",
           "hovertemplate": "<b>%{hovertext}</b><br><br>flag=%{y}<br>date=2022-06-30<br>clicks=%{x}<extra></extra>",
           "hovertext": [
            "pol"
           ],
           "legendgroup": "🇵🇱",
           "marker": {
            "color": "#FF7F0E",
            "pattern": {
             "shape": ""
            }
           },
           "name": "🇵🇱",
           "offsetgroup": "🇵🇱",
           "orientation": "h",
           "showlegend": true,
           "textposition": "auto",
           "type": "bar",
           "x": [
            38
           ],
           "xaxis": "x",
           "y": [
            "🇵🇱"
           ],
           "yaxis": "y"
          },
          {
           "alignmentgroup": "True",
           "hovertemplate": "<b>%{hovertext}</b><br><br>flag=%{y}<br>date=2022-06-30<br>clicks=%{x}<extra></extra>",
           "hovertext": [
            "rus"
           ],
           "legendgroup": "🇷🇺",
           "marker": {
            "color": "#2CA02C",
            "pattern": {
             "shape": ""
            }
           },
           "name": "🇷🇺",
           "offsetgroup": "🇷🇺",
           "orientation": "h",
           "showlegend": true,
           "textposition": "auto",
           "type": "bar",
           "x": [
            24
           ],
           "xaxis": "x",
           "y": [
            "🇷🇺"
           ],
           "yaxis": "y"
          },
          {
           "alignmentgroup": "True",
           "hovertemplate": "<b>%{hovertext}</b><br><br>flag=%{y}<br>date=2022-06-30<br>clicks=%{x}<extra></extra>",
           "hovertext": [
            "vnm"
           ],
           "legendgroup": "🇻🇳",
           "marker": {
            "color": "#D62728",
            "pattern": {
             "shape": ""
            }
           },
           "name": "🇻🇳",
           "offsetgroup": "🇻🇳",
           "orientation": "h",
           "showlegend": true,
           "textposition": "auto",
           "type": "bar",
           "x": [
            28
           ],
           "xaxis": "x",
           "y": [
            "🇻🇳"
           ],
           "yaxis": "y"
          },
          {
           "alignmentgroup": "True",
           "hovertemplate": "<b>%{hovertext}</b><br><br>flag=%{y}<br>date=2022-06-30<br>clicks=%{x}<extra></extra>",
           "hovertext": [
            "irn"
           ],
           "legendgroup": "🇮🇷",
           "marker": {
            "color": "#9467BD",
            "pattern": {
             "shape": ""
            }
           },
           "name": "🇮🇷",
           "offsetgroup": "🇮🇷",
           "orientation": "h",
           "showlegend": true,
           "textposition": "auto",
           "type": "bar",
           "x": [
            27
           ],
           "xaxis": "x",
           "y": [
            "🇮🇷"
           ],
           "yaxis": "y"
          }
         ],
         "name": "2022-06-30"
        },
        {
         "data": [
          {
           "alignmentgroup": "True",
           "hovertemplate": "<b>%{hovertext}</b><br><br>flag=%{y}<br>date=2022-07-31<br>clicks=%{x}<extra></extra>",
           "hovertext": [
            "usa"
           ],
           "legendgroup": "🇺🇸",
           "marker": {
            "color": "#1F77B4",
            "pattern": {
             "shape": ""
            }
           },
           "name": "🇺🇸",
           "offsetgroup": "🇺🇸",
           "orientation": "h",
           "showlegend": true,
           "textposition": "auto",
           "type": "bar",
           "x": [
            359
           ],
           "xaxis": "x",
           "y": [
            "🇺🇸"
           ],
           "yaxis": "y"
          },
          {
           "alignmentgroup": "True",
           "hovertemplate": "<b>%{hovertext}</b><br><br>flag=%{y}<br>date=2022-07-31<br>clicks=%{x}<extra></extra>",
           "hovertext": [
            "ind"
           ],
           "legendgroup": "🇮🇳",
           "marker": {
            "color": "#FF7F0E",
            "pattern": {
             "shape": ""
            }
           },
           "name": "🇮🇳",
           "offsetgroup": "🇮🇳",
           "orientation": "h",
           "showlegend": true,
           "textposition": "auto",
           "type": "bar",
           "x": [
            315
           ],
           "xaxis": "x",
           "y": [
            "🇮🇳"
           ],
           "yaxis": "y"
          },
          {
           "alignmentgroup": "True",
           "hovertemplate": "<b>%{hovertext}</b><br><br>flag=%{y}<br>date=2022-07-31<br>clicks=%{x}<extra></extra>",
           "hovertext": [
            "deu"
           ],
           "legendgroup": "🇩🇪",
           "marker": {
            "color": "#2CA02C",
            "pattern": {
             "shape": ""
            }
           },
           "name": "🇩🇪",
           "offsetgroup": "🇩🇪",
           "orientation": "h",
           "showlegend": true,
           "textposition": "auto",
           "type": "bar",
           "x": [
            121
           ],
           "xaxis": "x",
           "y": [
            "🇩🇪"
           ],
           "yaxis": "y"
          },
          {
           "alignmentgroup": "True",
           "hovertemplate": "<b>%{hovertext}</b><br><br>flag=%{y}<br>date=2022-07-31<br>clicks=%{x}<extra></extra>",
           "hovertext": [
            "gbr"
           ],
           "legendgroup": "🇬🇧",
           "marker": {
            "color": "#D62728",
            "pattern": {
             "shape": ""
            }
           },
           "name": "🇬🇧",
           "offsetgroup": "🇬🇧",
           "orientation": "h",
           "showlegend": true,
           "textposition": "auto",
           "type": "bar",
           "x": [
            70
           ],
           "xaxis": "x",
           "y": [
            "🇬🇧"
           ],
           "yaxis": "y"
          },
          {
           "alignmentgroup": "True",
           "hovertemplate": "<b>%{hovertext}</b><br><br>flag=%{y}<br>date=2022-07-31<br>clicks=%{x}<extra></extra>",
           "hovertext": [
            "fra"
           ],
           "legendgroup": "🇫🇷",
           "marker": {
            "color": "#9467BD",
            "pattern": {
             "shape": ""
            }
           },
           "name": "🇫🇷",
           "offsetgroup": "🇫🇷",
           "orientation": "h",
           "showlegend": true,
           "textposition": "auto",
           "type": "bar",
           "x": [
            82
           ],
           "xaxis": "x",
           "y": [
            "🇫🇷"
           ],
           "yaxis": "y"
          },
          {
           "alignmentgroup": "True",
           "hovertemplate": "<b>%{hovertext}</b><br><br>flag=%{y}<br>date=2022-07-31<br>clicks=%{x}<extra></extra>",
           "hovertext": [
            "esp"
           ],
           "legendgroup": "🇪🇸",
           "marker": {
            "color": "#8C564B",
            "pattern": {
             "shape": ""
            }
           },
           "name": "🇪🇸",
           "offsetgroup": "🇪🇸",
           "orientation": "h",
           "showlegend": true,
           "textposition": "auto",
           "type": "bar",
           "x": [
            40
           ],
           "xaxis": "x",
           "y": [
            "🇪🇸"
           ],
           "yaxis": "y"
          },
          {
           "alignmentgroup": "True",
           "hovertemplate": "<b>%{hovertext}</b><br><br>flag=%{y}<br>date=2022-07-31<br>clicks=%{x}<extra></extra>",
           "hovertext": [
            "can"
           ],
           "legendgroup": "🇨🇦",
           "marker": {
            "color": "#E377C2",
            "pattern": {
             "shape": ""
            }
           },
           "name": "🇨🇦",
           "offsetgroup": "🇨🇦",
           "orientation": "h",
           "showlegend": true,
           "textposition": "auto",
           "type": "bar",
           "x": [
            35
           ],
           "xaxis": "x",
           "y": [
            "🇨🇦"
           ],
           "yaxis": "y"
          },
          {
           "alignmentgroup": "True",
           "hovertemplate": "<b>%{hovertext}</b><br><br>flag=%{y}<br>date=2022-07-31<br>clicks=%{x}<extra></extra>",
           "hovertext": [
            "tur"
           ],
           "legendgroup": "🇹🇷",
           "marker": {
            "color": "#7F7F7F",
            "pattern": {
             "shape": ""
            }
           },
           "name": "🇹🇷",
           "offsetgroup": "🇹🇷",
           "orientation": "h",
           "showlegend": true,
           "textposition": "auto",
           "type": "bar",
           "x": [
            42
           ],
           "xaxis": "x",
           "y": [
            "🇹🇷"
           ],
           "yaxis": "y"
          },
          {
           "alignmentgroup": "True",
           "hovertemplate": "<b>%{hovertext}</b><br><br>flag=%{y}<br>date=2022-07-31<br>clicks=%{x}<extra></extra>",
           "hovertext": [
            "ita"
           ],
           "legendgroup": "🇮🇹",
           "marker": {
            "color": "#BCBD22",
            "pattern": {
             "shape": ""
            }
           },
           "name": "🇮🇹",
           "offsetgroup": "🇮🇹",
           "orientation": "h",
           "showlegend": true,
           "textposition": "auto",
           "type": "bar",
           "x": [
            28
           ],
           "xaxis": "x",
           "y": [
            "🇮🇹"
           ],
           "yaxis": "y"
          },
          {
           "alignmentgroup": "True",
           "hovertemplate": "<b>%{hovertext}</b><br><br>flag=%{y}<br>date=2022-07-31<br>clicks=%{x}<extra></extra>",
           "hovertext": [
            "nld"
           ],
           "legendgroup": "🇳🇱",
           "marker": {
            "color": "#17BECF",
            "pattern": {
             "shape": ""
            }
           },
           "name": "🇳🇱",
           "offsetgroup": "🇳🇱",
           "orientation": "h",
           "showlegend": true,
           "textposition": "auto",
           "type": "bar",
           "x": [
            33
           ],
           "xaxis": "x",
           "y": [
            "🇳🇱"
           ],
           "yaxis": "y"
          },
          {
           "alignmentgroup": "True",
           "hovertemplate": "<b>%{hovertext}</b><br><br>flag=%{y}<br>date=2022-07-31<br>clicks=%{x}<extra></extra>",
           "hovertext": [
            "pak"
           ],
           "legendgroup": "🇵🇰",
           "marker": {
            "color": "#1F77B4",
            "pattern": {
             "shape": ""
            }
           },
           "name": "🇵🇰",
           "offsetgroup": "🇵🇰",
           "orientation": "h",
           "showlegend": true,
           "textposition": "auto",
           "type": "bar",
           "x": [
            15
           ],
           "xaxis": "x",
           "y": [
            "🇵🇰"
           ],
           "yaxis": "y"
          },
          {
           "alignmentgroup": "True",
           "hovertemplate": "<b>%{hovertext}</b><br><br>flag=%{y}<br>date=2022-07-31<br>clicks=%{x}<extra></extra>",
           "hovertext": [
            "pol"
           ],
           "legendgroup": "🇵🇱",
           "marker": {
            "color": "#FF7F0E",
            "pattern": {
             "shape": ""
            }
           },
           "name": "🇵🇱",
           "offsetgroup": "🇵🇱",
           "orientation": "h",
           "showlegend": true,
           "textposition": "auto",
           "type": "bar",
           "x": [
            28
           ],
           "xaxis": "x",
           "y": [
            "🇵🇱"
           ],
           "yaxis": "y"
          },
          {
           "alignmentgroup": "True",
           "hovertemplate": "<b>%{hovertext}</b><br><br>flag=%{y}<br>date=2022-07-31<br>clicks=%{x}<extra></extra>",
           "hovertext": [
            "rus"
           ],
           "legendgroup": "🇷🇺",
           "marker": {
            "color": "#2CA02C",
            "pattern": {
             "shape": ""
            }
           },
           "name": "🇷🇺",
           "offsetgroup": "🇷🇺",
           "orientation": "h",
           "showlegend": true,
           "textposition": "auto",
           "type": "bar",
           "x": [
            28
           ],
           "xaxis": "x",
           "y": [
            "🇷🇺"
           ],
           "yaxis": "y"
          },
          {
           "alignmentgroup": "True",
           "hovertemplate": "<b>%{hovertext}</b><br><br>flag=%{y}<br>date=2022-07-31<br>clicks=%{x}<extra></extra>",
           "hovertext": [
            "vnm"
           ],
           "legendgroup": "🇻🇳",
           "marker": {
            "color": "#D62728",
            "pattern": {
             "shape": ""
            }
           },
           "name": "🇻🇳",
           "offsetgroup": "🇻🇳",
           "orientation": "h",
           "showlegend": true,
           "textposition": "auto",
           "type": "bar",
           "x": [
            21
           ],
           "xaxis": "x",
           "y": [
            "🇻🇳"
           ],
           "yaxis": "y"
          },
          {
           "alignmentgroup": "True",
           "hovertemplate": "<b>%{hovertext}</b><br><br>flag=%{y}<br>date=2022-07-31<br>clicks=%{x}<extra></extra>",
           "hovertext": [
            "irn"
           ],
           "legendgroup": "🇮🇷",
           "marker": {
            "color": "#9467BD",
            "pattern": {
             "shape": ""
            }
           },
           "name": "🇮🇷",
           "offsetgroup": "🇮🇷",
           "orientation": "h",
           "showlegend": true,
           "textposition": "auto",
           "type": "bar",
           "x": [
            21
           ],
           "xaxis": "x",
           "y": [
            "🇮🇷"
           ],
           "yaxis": "y"
          }
         ],
         "name": "2022-07-31"
        },
        {
         "data": [
          {
           "alignmentgroup": "True",
           "hovertemplate": "<b>%{hovertext}</b><br><br>flag=%{y}<br>date=2022-08-31<br>clicks=%{x}<extra></extra>",
           "hovertext": [
            "usa"
           ],
           "legendgroup": "🇺🇸",
           "marker": {
            "color": "#1F77B4",
            "pattern": {
             "shape": ""
            }
           },
           "name": "🇺🇸",
           "offsetgroup": "🇺🇸",
           "orientation": "h",
           "showlegend": true,
           "textposition": "auto",
           "type": "bar",
           "x": [
            375
           ],
           "xaxis": "x",
           "y": [
            "🇺🇸"
           ],
           "yaxis": "y"
          },
          {
           "alignmentgroup": "True",
           "hovertemplate": "<b>%{hovertext}</b><br><br>flag=%{y}<br>date=2022-08-31<br>clicks=%{x}<extra></extra>",
           "hovertext": [
            "ind"
           ],
           "legendgroup": "🇮🇳",
           "marker": {
            "color": "#FF7F0E",
            "pattern": {
             "shape": ""
            }
           },
           "name": "🇮🇳",
           "offsetgroup": "🇮🇳",
           "orientation": "h",
           "showlegend": true,
           "textposition": "auto",
           "type": "bar",
           "x": [
            411
           ],
           "xaxis": "x",
           "y": [
            "🇮🇳"
           ],
           "yaxis": "y"
          },
          {
           "alignmentgroup": "True",
           "hovertemplate": "<b>%{hovertext}</b><br><br>flag=%{y}<br>date=2022-08-31<br>clicks=%{x}<extra></extra>",
           "hovertext": [
            "deu"
           ],
           "legendgroup": "🇩🇪",
           "marker": {
            "color": "#2CA02C",
            "pattern": {
             "shape": ""
            }
           },
           "name": "🇩🇪",
           "offsetgroup": "🇩🇪",
           "orientation": "h",
           "showlegend": true,
           "textposition": "auto",
           "type": "bar",
           "x": [
            116
           ],
           "xaxis": "x",
           "y": [
            "🇩🇪"
           ],
           "yaxis": "y"
          },
          {
           "alignmentgroup": "True",
           "hovertemplate": "<b>%{hovertext}</b><br><br>flag=%{y}<br>date=2022-08-31<br>clicks=%{x}<extra></extra>",
           "hovertext": [
            "gbr"
           ],
           "legendgroup": "🇬🇧",
           "marker": {
            "color": "#D62728",
            "pattern": {
             "shape": ""
            }
           },
           "name": "🇬🇧",
           "offsetgroup": "🇬🇧",
           "orientation": "h",
           "showlegend": true,
           "textposition": "auto",
           "type": "bar",
           "x": [
            84
           ],
           "xaxis": "x",
           "y": [
            "🇬🇧"
           ],
           "yaxis": "y"
          },
          {
           "alignmentgroup": "True",
           "hovertemplate": "<b>%{hovertext}</b><br><br>flag=%{y}<br>date=2022-08-31<br>clicks=%{x}<extra></extra>",
           "hovertext": [
            "fra"
           ],
           "legendgroup": "🇫🇷",
           "marker": {
            "color": "#9467BD",
            "pattern": {
             "shape": ""
            }
           },
           "name": "🇫🇷",
           "offsetgroup": "🇫🇷",
           "orientation": "h",
           "showlegend": true,
           "textposition": "auto",
           "type": "bar",
           "x": [
            55
           ],
           "xaxis": "x",
           "y": [
            "🇫🇷"
           ],
           "yaxis": "y"
          },
          {
           "alignmentgroup": "True",
           "hovertemplate": "<b>%{hovertext}</b><br><br>flag=%{y}<br>date=2022-08-31<br>clicks=%{x}<extra></extra>",
           "hovertext": [
            "esp"
           ],
           "legendgroup": "🇪🇸",
           "marker": {
            "color": "#8C564B",
            "pattern": {
             "shape": ""
            }
           },
           "name": "🇪🇸",
           "offsetgroup": "🇪🇸",
           "orientation": "h",
           "showlegend": true,
           "textposition": "auto",
           "type": "bar",
           "x": [
            42
           ],
           "xaxis": "x",
           "y": [
            "🇪🇸"
           ],
           "yaxis": "y"
          },
          {
           "alignmentgroup": "True",
           "hovertemplate": "<b>%{hovertext}</b><br><br>flag=%{y}<br>date=2022-08-31<br>clicks=%{x}<extra></extra>",
           "hovertext": [
            "can"
           ],
           "legendgroup": "🇨🇦",
           "marker": {
            "color": "#E377C2",
            "pattern": {
             "shape": ""
            }
           },
           "name": "🇨🇦",
           "offsetgroup": "🇨🇦",
           "orientation": "h",
           "showlegend": true,
           "textposition": "auto",
           "type": "bar",
           "x": [
            34
           ],
           "xaxis": "x",
           "y": [
            "🇨🇦"
           ],
           "yaxis": "y"
          },
          {
           "alignmentgroup": "True",
           "hovertemplate": "<b>%{hovertext}</b><br><br>flag=%{y}<br>date=2022-08-31<br>clicks=%{x}<extra></extra>",
           "hovertext": [
            "tur"
           ],
           "legendgroup": "🇹🇷",
           "marker": {
            "color": "#7F7F7F",
            "pattern": {
             "shape": ""
            }
           },
           "name": "🇹🇷",
           "offsetgroup": "🇹🇷",
           "orientation": "h",
           "showlegend": true,
           "textposition": "auto",
           "type": "bar",
           "x": [
            47
           ],
           "xaxis": "x",
           "y": [
            "🇹🇷"
           ],
           "yaxis": "y"
          },
          {
           "alignmentgroup": "True",
           "hovertemplate": "<b>%{hovertext}</b><br><br>flag=%{y}<br>date=2022-08-31<br>clicks=%{x}<extra></extra>",
           "hovertext": [
            "ita"
           ],
           "legendgroup": "🇮🇹",
           "marker": {
            "color": "#BCBD22",
            "pattern": {
             "shape": ""
            }
           },
           "name": "🇮🇹",
           "offsetgroup": "🇮🇹",
           "orientation": "h",
           "showlegend": true,
           "textposition": "auto",
           "type": "bar",
           "x": [
            28
           ],
           "xaxis": "x",
           "y": [
            "🇮🇹"
           ],
           "yaxis": "y"
          },
          {
           "alignmentgroup": "True",
           "hovertemplate": "<b>%{hovertext}</b><br><br>flag=%{y}<br>date=2022-08-31<br>clicks=%{x}<extra></extra>",
           "hovertext": [
            "nld"
           ],
           "legendgroup": "🇳🇱",
           "marker": {
            "color": "#17BECF",
            "pattern": {
             "shape": ""
            }
           },
           "name": "🇳🇱",
           "offsetgroup": "🇳🇱",
           "orientation": "h",
           "showlegend": true,
           "textposition": "auto",
           "type": "bar",
           "x": [
            24
           ],
           "xaxis": "x",
           "y": [
            "🇳🇱"
           ],
           "yaxis": "y"
          },
          {
           "alignmentgroup": "True",
           "hovertemplate": "<b>%{hovertext}</b><br><br>flag=%{y}<br>date=2022-08-31<br>clicks=%{x}<extra></extra>",
           "hovertext": [
            "pak"
           ],
           "legendgroup": "🇵🇰",
           "marker": {
            "color": "#1F77B4",
            "pattern": {
             "shape": ""
            }
           },
           "name": "🇵🇰",
           "offsetgroup": "🇵🇰",
           "orientation": "h",
           "showlegend": true,
           "textposition": "auto",
           "type": "bar",
           "x": [
            25
           ],
           "xaxis": "x",
           "y": [
            "🇵🇰"
           ],
           "yaxis": "y"
          },
          {
           "alignmentgroup": "True",
           "hovertemplate": "<b>%{hovertext}</b><br><br>flag=%{y}<br>date=2022-08-31<br>clicks=%{x}<extra></extra>",
           "hovertext": [
            "pol"
           ],
           "legendgroup": "🇵🇱",
           "marker": {
            "color": "#FF7F0E",
            "pattern": {
             "shape": ""
            }
           },
           "name": "🇵🇱",
           "offsetgroup": "🇵🇱",
           "orientation": "h",
           "showlegend": true,
           "textposition": "auto",
           "type": "bar",
           "x": [
            26
           ],
           "xaxis": "x",
           "y": [
            "🇵🇱"
           ],
           "yaxis": "y"
          },
          {
           "alignmentgroup": "True",
           "hovertemplate": "<b>%{hovertext}</b><br><br>flag=%{y}<br>date=2022-08-31<br>clicks=%{x}<extra></extra>",
           "hovertext": [
            "rus"
           ],
           "legendgroup": "🇷🇺",
           "marker": {
            "color": "#2CA02C",
            "pattern": {
             "shape": ""
            }
           },
           "name": "🇷🇺",
           "offsetgroup": "🇷🇺",
           "orientation": "h",
           "showlegend": true,
           "textposition": "auto",
           "type": "bar",
           "x": [
            31
           ],
           "xaxis": "x",
           "y": [
            "🇷🇺"
           ],
           "yaxis": "y"
          },
          {
           "alignmentgroup": "True",
           "hovertemplate": "<b>%{hovertext}</b><br><br>flag=%{y}<br>date=2022-08-31<br>clicks=%{x}<extra></extra>",
           "hovertext": [
            "vnm"
           ],
           "legendgroup": "🇻🇳",
           "marker": {
            "color": "#D62728",
            "pattern": {
             "shape": ""
            }
           },
           "name": "🇻🇳",
           "offsetgroup": "🇻🇳",
           "orientation": "h",
           "showlegend": true,
           "textposition": "auto",
           "type": "bar",
           "x": [
            27
           ],
           "xaxis": "x",
           "y": [
            "🇻🇳"
           ],
           "yaxis": "y"
          },
          {
           "alignmentgroup": "True",
           "hovertemplate": "<b>%{hovertext}</b><br><br>flag=%{y}<br>date=2022-08-31<br>clicks=%{x}<extra></extra>",
           "hovertext": [
            "irn"
           ],
           "legendgroup": "🇮🇷",
           "marker": {
            "color": "#9467BD",
            "pattern": {
             "shape": ""
            }
           },
           "name": "🇮🇷",
           "offsetgroup": "🇮🇷",
           "orientation": "h",
           "showlegend": true,
           "textposition": "auto",
           "type": "bar",
           "x": [
            29
           ],
           "xaxis": "x",
           "y": [
            "🇮🇷"
           ],
           "yaxis": "y"
          }
         ],
         "name": "2022-08-31"
        },
        {
         "data": [
          {
           "alignmentgroup": "True",
           "hovertemplate": "<b>%{hovertext}</b><br><br>flag=%{y}<br>date=2022-09-30<br>clicks=%{x}<extra></extra>",
           "hovertext": [
            "usa"
           ],
           "legendgroup": "🇺🇸",
           "marker": {
            "color": "#1F77B4",
            "pattern": {
             "shape": ""
            }
           },
           "name": "🇺🇸",
           "offsetgroup": "🇺🇸",
           "orientation": "h",
           "showlegend": true,
           "textposition": "auto",
           "type": "bar",
           "x": [
            351
           ],
           "xaxis": "x",
           "y": [
            "🇺🇸"
           ],
           "yaxis": "y"
          },
          {
           "alignmentgroup": "True",
           "hovertemplate": "<b>%{hovertext}</b><br><br>flag=%{y}<br>date=2022-09-30<br>clicks=%{x}<extra></extra>",
           "hovertext": [
            "ind"
           ],
           "legendgroup": "🇮🇳",
           "marker": {
            "color": "#FF7F0E",
            "pattern": {
             "shape": ""
            }
           },
           "name": "🇮🇳",
           "offsetgroup": "🇮🇳",
           "orientation": "h",
           "showlegend": true,
           "textposition": "auto",
           "type": "bar",
           "x": [
            377
           ],
           "xaxis": "x",
           "y": [
            "🇮🇳"
           ],
           "yaxis": "y"
          },
          {
           "alignmentgroup": "True",
           "hovertemplate": "<b>%{hovertext}</b><br><br>flag=%{y}<br>date=2022-09-30<br>clicks=%{x}<extra></extra>",
           "hovertext": [
            "deu"
           ],
           "legendgroup": "🇩🇪",
           "marker": {
            "color": "#2CA02C",
            "pattern": {
             "shape": ""
            }
           },
           "name": "🇩🇪",
           "offsetgroup": "🇩🇪",
           "orientation": "h",
           "showlegend": true,
           "textposition": "auto",
           "type": "bar",
           "x": [
            112
           ],
           "xaxis": "x",
           "y": [
            "🇩🇪"
           ],
           "yaxis": "y"
          },
          {
           "alignmentgroup": "True",
           "hovertemplate": "<b>%{hovertext}</b><br><br>flag=%{y}<br>date=2022-09-30<br>clicks=%{x}<extra></extra>",
           "hovertext": [
            "gbr"
           ],
           "legendgroup": "🇬🇧",
           "marker": {
            "color": "#D62728",
            "pattern": {
             "shape": ""
            }
           },
           "name": "🇬🇧",
           "offsetgroup": "🇬🇧",
           "orientation": "h",
           "showlegend": true,
           "textposition": "auto",
           "type": "bar",
           "x": [
            76
           ],
           "xaxis": "x",
           "y": [
            "🇬🇧"
           ],
           "yaxis": "y"
          },
          {
           "alignmentgroup": "True",
           "hovertemplate": "<b>%{hovertext}</b><br><br>flag=%{y}<br>date=2022-09-30<br>clicks=%{x}<extra></extra>",
           "hovertext": [
            "fra"
           ],
           "legendgroup": "🇫🇷",
           "marker": {
            "color": "#9467BD",
            "pattern": {
             "shape": ""
            }
           },
           "name": "🇫🇷",
           "offsetgroup": "🇫🇷",
           "orientation": "h",
           "showlegend": true,
           "textposition": "auto",
           "type": "bar",
           "x": [
            67
           ],
           "xaxis": "x",
           "y": [
            "🇫🇷"
           ],
           "yaxis": "y"
          },
          {
           "alignmentgroup": "True",
           "hovertemplate": "<b>%{hovertext}</b><br><br>flag=%{y}<br>date=2022-09-30<br>clicks=%{x}<extra></extra>",
           "hovertext": [
            "esp"
           ],
           "legendgroup": "🇪🇸",
           "marker": {
            "color": "#8C564B",
            "pattern": {
             "shape": ""
            }
           },
           "name": "🇪🇸",
           "offsetgroup": "🇪🇸",
           "orientation": "h",
           "showlegend": true,
           "textposition": "auto",
           "type": "bar",
           "x": [
            34
           ],
           "xaxis": "x",
           "y": [
            "🇪🇸"
           ],
           "yaxis": "y"
          },
          {
           "alignmentgroup": "True",
           "hovertemplate": "<b>%{hovertext}</b><br><br>flag=%{y}<br>date=2022-09-30<br>clicks=%{x}<extra></extra>",
           "hovertext": [
            "can"
           ],
           "legendgroup": "🇨🇦",
           "marker": {
            "color": "#E377C2",
            "pattern": {
             "shape": ""
            }
           },
           "name": "🇨🇦",
           "offsetgroup": "🇨🇦",
           "orientation": "h",
           "showlegend": true,
           "textposition": "auto",
           "type": "bar",
           "x": [
            42
           ],
           "xaxis": "x",
           "y": [
            "🇨🇦"
           ],
           "yaxis": "y"
          },
          {
           "alignmentgroup": "True",
           "hovertemplate": "<b>%{hovertext}</b><br><br>flag=%{y}<br>date=2022-09-30<br>clicks=%{x}<extra></extra>",
           "hovertext": [
            "tur"
           ],
           "legendgroup": "🇹🇷",
           "marker": {
            "color": "#7F7F7F",
            "pattern": {
             "shape": ""
            }
           },
           "name": "🇹🇷",
           "offsetgroup": "🇹🇷",
           "orientation": "h",
           "showlegend": true,
           "textposition": "auto",
           "type": "bar",
           "x": [
            67
           ],
           "xaxis": "x",
           "y": [
            "🇹🇷"
           ],
           "yaxis": "y"
          },
          {
           "alignmentgroup": "True",
           "hovertemplate": "<b>%{hovertext}</b><br><br>flag=%{y}<br>date=2022-09-30<br>clicks=%{x}<extra></extra>",
           "hovertext": [
            "ita"
           ],
           "legendgroup": "🇮🇹",
           "marker": {
            "color": "#BCBD22",
            "pattern": {
             "shape": ""
            }
           },
           "name": "🇮🇹",
           "offsetgroup": "🇮🇹",
           "orientation": "h",
           "showlegend": true,
           "textposition": "auto",
           "type": "bar",
           "x": [
            42
           ],
           "xaxis": "x",
           "y": [
            "🇮🇹"
           ],
           "yaxis": "y"
          },
          {
           "alignmentgroup": "True",
           "hovertemplate": "<b>%{hovertext}</b><br><br>flag=%{y}<br>date=2022-09-30<br>clicks=%{x}<extra></extra>",
           "hovertext": [
            "nld"
           ],
           "legendgroup": "🇳🇱",
           "marker": {
            "color": "#17BECF",
            "pattern": {
             "shape": ""
            }
           },
           "name": "🇳🇱",
           "offsetgroup": "🇳🇱",
           "orientation": "h",
           "showlegend": true,
           "textposition": "auto",
           "type": "bar",
           "x": [
            42
           ],
           "xaxis": "x",
           "y": [
            "🇳🇱"
           ],
           "yaxis": "y"
          },
          {
           "alignmentgroup": "True",
           "hovertemplate": "<b>%{hovertext}</b><br><br>flag=%{y}<br>date=2022-09-30<br>clicks=%{x}<extra></extra>",
           "hovertext": [
            "pak"
           ],
           "legendgroup": "🇵🇰",
           "marker": {
            "color": "#1F77B4",
            "pattern": {
             "shape": ""
            }
           },
           "name": "🇵🇰",
           "offsetgroup": "🇵🇰",
           "orientation": "h",
           "showlegend": true,
           "textposition": "auto",
           "type": "bar",
           "x": [
            13
           ],
           "xaxis": "x",
           "y": [
            "🇵🇰"
           ],
           "yaxis": "y"
          },
          {
           "alignmentgroup": "True",
           "hovertemplate": "<b>%{hovertext}</b><br><br>flag=%{y}<br>date=2022-09-30<br>clicks=%{x}<extra></extra>",
           "hovertext": [
            "pol"
           ],
           "legendgroup": "🇵🇱",
           "marker": {
            "color": "#FF7F0E",
            "pattern": {
             "shape": ""
            }
           },
           "name": "🇵🇱",
           "offsetgroup": "🇵🇱",
           "orientation": "h",
           "showlegend": true,
           "textposition": "auto",
           "type": "bar",
           "x": [
            35
           ],
           "xaxis": "x",
           "y": [
            "🇵🇱"
           ],
           "yaxis": "y"
          },
          {
           "alignmentgroup": "True",
           "hovertemplate": "<b>%{hovertext}</b><br><br>flag=%{y}<br>date=2022-09-30<br>clicks=%{x}<extra></extra>",
           "hovertext": [
            "rus"
           ],
           "legendgroup": "🇷🇺",
           "marker": {
            "color": "#2CA02C",
            "pattern": {
             "shape": ""
            }
           },
           "name": "🇷🇺",
           "offsetgroup": "🇷🇺",
           "orientation": "h",
           "showlegend": true,
           "textposition": "auto",
           "type": "bar",
           "x": [
            21
           ],
           "xaxis": "x",
           "y": [
            "🇷🇺"
           ],
           "yaxis": "y"
          },
          {
           "alignmentgroup": "True",
           "hovertemplate": "<b>%{hovertext}</b><br><br>flag=%{y}<br>date=2022-09-30<br>clicks=%{x}<extra></extra>",
           "hovertext": [
            "vnm"
           ],
           "legendgroup": "🇻🇳",
           "marker": {
            "color": "#D62728",
            "pattern": {
             "shape": ""
            }
           },
           "name": "🇻🇳",
           "offsetgroup": "🇻🇳",
           "orientation": "h",
           "showlegend": true,
           "textposition": "auto",
           "type": "bar",
           "x": [
            9
           ],
           "xaxis": "x",
           "y": [
            "🇻🇳"
           ],
           "yaxis": "y"
          },
          {
           "alignmentgroup": "True",
           "hovertemplate": "<b>%{hovertext}</b><br><br>flag=%{y}<br>date=2022-09-30<br>clicks=%{x}<extra></extra>",
           "hovertext": [
            "irn"
           ],
           "legendgroup": "🇮🇷",
           "marker": {
            "color": "#9467BD",
            "pattern": {
             "shape": ""
            }
           },
           "name": "🇮🇷",
           "offsetgroup": "🇮🇷",
           "orientation": "h",
           "showlegend": true,
           "textposition": "auto",
           "type": "bar",
           "x": [
            31
           ],
           "xaxis": "x",
           "y": [
            "🇮🇷"
           ],
           "yaxis": "y"
          }
         ],
         "name": "2022-09-30"
        },
        {
         "data": [
          {
           "alignmentgroup": "True",
           "hovertemplate": "<b>%{hovertext}</b><br><br>flag=%{y}<br>date=2022-10-31<br>clicks=%{x}<extra></extra>",
           "hovertext": [
            "usa"
           ],
           "legendgroup": "🇺🇸",
           "marker": {
            "color": "#1F77B4",
            "pattern": {
             "shape": ""
            }
           },
           "name": "🇺🇸",
           "offsetgroup": "🇺🇸",
           "orientation": "h",
           "showlegend": true,
           "textposition": "auto",
           "type": "bar",
           "x": [
            438
           ],
           "xaxis": "x",
           "y": [
            "🇺🇸"
           ],
           "yaxis": "y"
          },
          {
           "alignmentgroup": "True",
           "hovertemplate": "<b>%{hovertext}</b><br><br>flag=%{y}<br>date=2022-10-31<br>clicks=%{x}<extra></extra>",
           "hovertext": [
            "ind"
           ],
           "legendgroup": "🇮🇳",
           "marker": {
            "color": "#FF7F0E",
            "pattern": {
             "shape": ""
            }
           },
           "name": "🇮🇳",
           "offsetgroup": "🇮🇳",
           "orientation": "h",
           "showlegend": true,
           "textposition": "auto",
           "type": "bar",
           "x": [
            349
           ],
           "xaxis": "x",
           "y": [
            "🇮🇳"
           ],
           "yaxis": "y"
          },
          {
           "alignmentgroup": "True",
           "hovertemplate": "<b>%{hovertext}</b><br><br>flag=%{y}<br>date=2022-10-31<br>clicks=%{x}<extra></extra>",
           "hovertext": [
            "deu"
           ],
           "legendgroup": "🇩🇪",
           "marker": {
            "color": "#2CA02C",
            "pattern": {
             "shape": ""
            }
           },
           "name": "🇩🇪",
           "offsetgroup": "🇩🇪",
           "orientation": "h",
           "showlegend": true,
           "textposition": "auto",
           "type": "bar",
           "x": [
            127
           ],
           "xaxis": "x",
           "y": [
            "🇩🇪"
           ],
           "yaxis": "y"
          },
          {
           "alignmentgroup": "True",
           "hovertemplate": "<b>%{hovertext}</b><br><br>flag=%{y}<br>date=2022-10-31<br>clicks=%{x}<extra></extra>",
           "hovertext": [
            "gbr"
           ],
           "legendgroup": "🇬🇧",
           "marker": {
            "color": "#D62728",
            "pattern": {
             "shape": ""
            }
           },
           "name": "🇬🇧",
           "offsetgroup": "🇬🇧",
           "orientation": "h",
           "showlegend": true,
           "textposition": "auto",
           "type": "bar",
           "x": [
            108
           ],
           "xaxis": "x",
           "y": [
            "🇬🇧"
           ],
           "yaxis": "y"
          },
          {
           "alignmentgroup": "True",
           "hovertemplate": "<b>%{hovertext}</b><br><br>flag=%{y}<br>date=2022-10-31<br>clicks=%{x}<extra></extra>",
           "hovertext": [
            "fra"
           ],
           "legendgroup": "🇫🇷",
           "marker": {
            "color": "#9467BD",
            "pattern": {
             "shape": ""
            }
           },
           "name": "🇫🇷",
           "offsetgroup": "🇫🇷",
           "orientation": "h",
           "showlegend": true,
           "textposition": "auto",
           "type": "bar",
           "x": [
            99
           ],
           "xaxis": "x",
           "y": [
            "🇫🇷"
           ],
           "yaxis": "y"
          },
          {
           "alignmentgroup": "True",
           "hovertemplate": "<b>%{hovertext}</b><br><br>flag=%{y}<br>date=2022-10-31<br>clicks=%{x}<extra></extra>",
           "hovertext": [
            "esp"
           ],
           "legendgroup": "🇪🇸",
           "marker": {
            "color": "#8C564B",
            "pattern": {
             "shape": ""
            }
           },
           "name": "🇪🇸",
           "offsetgroup": "🇪🇸",
           "orientation": "h",
           "showlegend": true,
           "textposition": "auto",
           "type": "bar",
           "x": [
            56
           ],
           "xaxis": "x",
           "y": [
            "🇪🇸"
           ],
           "yaxis": "y"
          },
          {
           "alignmentgroup": "True",
           "hovertemplate": "<b>%{hovertext}</b><br><br>flag=%{y}<br>date=2022-10-31<br>clicks=%{x}<extra></extra>",
           "hovertext": [
            "can"
           ],
           "legendgroup": "🇨🇦",
           "marker": {
            "color": "#E377C2",
            "pattern": {
             "shape": ""
            }
           },
           "name": "🇨🇦",
           "offsetgroup": "🇨🇦",
           "orientation": "h",
           "showlegend": true,
           "textposition": "auto",
           "type": "bar",
           "x": [
            69
           ],
           "xaxis": "x",
           "y": [
            "🇨🇦"
           ],
           "yaxis": "y"
          },
          {
           "alignmentgroup": "True",
           "hovertemplate": "<b>%{hovertext}</b><br><br>flag=%{y}<br>date=2022-10-31<br>clicks=%{x}<extra></extra>",
           "hovertext": [
            "tur"
           ],
           "legendgroup": "🇹🇷",
           "marker": {
            "color": "#7F7F7F",
            "pattern": {
             "shape": ""
            }
           },
           "name": "🇹🇷",
           "offsetgroup": "🇹🇷",
           "orientation": "h",
           "showlegend": true,
           "textposition": "auto",
           "type": "bar",
           "x": [
            55
           ],
           "xaxis": "x",
           "y": [
            "🇹🇷"
           ],
           "yaxis": "y"
          },
          {
           "alignmentgroup": "True",
           "hovertemplate": "<b>%{hovertext}</b><br><br>flag=%{y}<br>date=2022-10-31<br>clicks=%{x}<extra></extra>",
           "hovertext": [
            "ita"
           ],
           "legendgroup": "🇮🇹",
           "marker": {
            "color": "#BCBD22",
            "pattern": {
             "shape": ""
            }
           },
           "name": "🇮🇹",
           "offsetgroup": "🇮🇹",
           "orientation": "h",
           "showlegend": true,
           "textposition": "auto",
           "type": "bar",
           "x": [
            53
           ],
           "xaxis": "x",
           "y": [
            "🇮🇹"
           ],
           "yaxis": "y"
          },
          {
           "alignmentgroup": "True",
           "hovertemplate": "<b>%{hovertext}</b><br><br>flag=%{y}<br>date=2022-10-31<br>clicks=%{x}<extra></extra>",
           "hovertext": [
            "nld"
           ],
           "legendgroup": "🇳🇱",
           "marker": {
            "color": "#17BECF",
            "pattern": {
             "shape": ""
            }
           },
           "name": "🇳🇱",
           "offsetgroup": "🇳🇱",
           "orientation": "h",
           "showlegend": true,
           "textposition": "auto",
           "type": "bar",
           "x": [
            53
           ],
           "xaxis": "x",
           "y": [
            "🇳🇱"
           ],
           "yaxis": "y"
          },
          {
           "alignmentgroup": "True",
           "hovertemplate": "<b>%{hovertext}</b><br><br>flag=%{y}<br>date=2022-10-31<br>clicks=%{x}<extra></extra>",
           "hovertext": [
            "pak"
           ],
           "legendgroup": "🇵🇰",
           "marker": {
            "color": "#1F77B4",
            "pattern": {
             "shape": ""
            }
           },
           "name": "🇵🇰",
           "offsetgroup": "🇵🇰",
           "orientation": "h",
           "showlegend": true,
           "textposition": "auto",
           "type": "bar",
           "x": [
            50
           ],
           "xaxis": "x",
           "y": [
            "🇵🇰"
           ],
           "yaxis": "y"
          },
          {
           "alignmentgroup": "True",
           "hovertemplate": "<b>%{hovertext}</b><br><br>flag=%{y}<br>date=2022-10-31<br>clicks=%{x}<extra></extra>",
           "hovertext": [
            "pol"
           ],
           "legendgroup": "🇵🇱",
           "marker": {
            "color": "#FF7F0E",
            "pattern": {
             "shape": ""
            }
           },
           "name": "🇵🇱",
           "offsetgroup": "🇵🇱",
           "orientation": "h",
           "showlegend": true,
           "textposition": "auto",
           "type": "bar",
           "x": [
            31
           ],
           "xaxis": "x",
           "y": [
            "🇵🇱"
           ],
           "yaxis": "y"
          },
          {
           "alignmentgroup": "True",
           "hovertemplate": "<b>%{hovertext}</b><br><br>flag=%{y}<br>date=2022-10-31<br>clicks=%{x}<extra></extra>",
           "hovertext": [
            "rus"
           ],
           "legendgroup": "🇷🇺",
           "marker": {
            "color": "#2CA02C",
            "pattern": {
             "shape": ""
            }
           },
           "name": "🇷🇺",
           "offsetgroup": "🇷🇺",
           "orientation": "h",
           "showlegend": true,
           "textposition": "auto",
           "type": "bar",
           "x": [
            50
           ],
           "xaxis": "x",
           "y": [
            "🇷🇺"
           ],
           "yaxis": "y"
          },
          {
           "alignmentgroup": "True",
           "hovertemplate": "<b>%{hovertext}</b><br><br>flag=%{y}<br>date=2022-10-31<br>clicks=%{x}<extra></extra>",
           "hovertext": [
            "vnm"
           ],
           "legendgroup": "🇻🇳",
           "marker": {
            "color": "#D62728",
            "pattern": {
             "shape": ""
            }
           },
           "name": "🇻🇳",
           "offsetgroup": "🇻🇳",
           "orientation": "h",
           "showlegend": true,
           "textposition": "auto",
           "type": "bar",
           "x": [
            34
           ],
           "xaxis": "x",
           "y": [
            "🇻🇳"
           ],
           "yaxis": "y"
          },
          {
           "alignmentgroup": "True",
           "hovertemplate": "<b>%{hovertext}</b><br><br>flag=%{y}<br>date=2022-10-31<br>clicks=%{x}<extra></extra>",
           "hovertext": [
            "irn"
           ],
           "legendgroup": "🇮🇷",
           "marker": {
            "color": "#9467BD",
            "pattern": {
             "shape": ""
            }
           },
           "name": "🇮🇷",
           "offsetgroup": "🇮🇷",
           "orientation": "h",
           "showlegend": true,
           "textposition": "auto",
           "type": "bar",
           "x": [
            30
           ],
           "xaxis": "x",
           "y": [
            "🇮🇷"
           ],
           "yaxis": "y"
          }
         ],
         "name": "2022-10-31"
        },
        {
         "data": [
          {
           "alignmentgroup": "True",
           "hovertemplate": "<b>%{hovertext}</b><br><br>flag=%{y}<br>date=2022-11-30<br>clicks=%{x}<extra></extra>",
           "hovertext": [
            "usa"
           ],
           "legendgroup": "🇺🇸",
           "marker": {
            "color": "#1F77B4",
            "pattern": {
             "shape": ""
            }
           },
           "name": "🇺🇸",
           "offsetgroup": "🇺🇸",
           "orientation": "h",
           "showlegend": true,
           "textposition": "auto",
           "type": "bar",
           "x": [
            462
           ],
           "xaxis": "x",
           "y": [
            "🇺🇸"
           ],
           "yaxis": "y"
          },
          {
           "alignmentgroup": "True",
           "hovertemplate": "<b>%{hovertext}</b><br><br>flag=%{y}<br>date=2022-11-30<br>clicks=%{x}<extra></extra>",
           "hovertext": [
            "ind"
           ],
           "legendgroup": "🇮🇳",
           "marker": {
            "color": "#FF7F0E",
            "pattern": {
             "shape": ""
            }
           },
           "name": "🇮🇳",
           "offsetgroup": "🇮🇳",
           "orientation": "h",
           "showlegend": true,
           "textposition": "auto",
           "type": "bar",
           "x": [
            474
           ],
           "xaxis": "x",
           "y": [
            "🇮🇳"
           ],
           "yaxis": "y"
          },
          {
           "alignmentgroup": "True",
           "hovertemplate": "<b>%{hovertext}</b><br><br>flag=%{y}<br>date=2022-11-30<br>clicks=%{x}<extra></extra>",
           "hovertext": [
            "deu"
           ],
           "legendgroup": "🇩🇪",
           "marker": {
            "color": "#2CA02C",
            "pattern": {
             "shape": ""
            }
           },
           "name": "🇩🇪",
           "offsetgroup": "🇩🇪",
           "orientation": "h",
           "showlegend": true,
           "textposition": "auto",
           "type": "bar",
           "x": [
            119
           ],
           "xaxis": "x",
           "y": [
            "🇩🇪"
           ],
           "yaxis": "y"
          },
          {
           "alignmentgroup": "True",
           "hovertemplate": "<b>%{hovertext}</b><br><br>flag=%{y}<br>date=2022-11-30<br>clicks=%{x}<extra></extra>",
           "hovertext": [
            "gbr"
           ],
           "legendgroup": "🇬🇧",
           "marker": {
            "color": "#D62728",
            "pattern": {
             "shape": ""
            }
           },
           "name": "🇬🇧",
           "offsetgroup": "🇬🇧",
           "orientation": "h",
           "showlegend": true,
           "textposition": "auto",
           "type": "bar",
           "x": [
            120
           ],
           "xaxis": "x",
           "y": [
            "🇬🇧"
           ],
           "yaxis": "y"
          },
          {
           "alignmentgroup": "True",
           "hovertemplate": "<b>%{hovertext}</b><br><br>flag=%{y}<br>date=2022-11-30<br>clicks=%{x}<extra></extra>",
           "hovertext": [
            "fra"
           ],
           "legendgroup": "🇫🇷",
           "marker": {
            "color": "#9467BD",
            "pattern": {
             "shape": ""
            }
           },
           "name": "🇫🇷",
           "offsetgroup": "🇫🇷",
           "orientation": "h",
           "showlegend": true,
           "textposition": "auto",
           "type": "bar",
           "x": [
            108
           ],
           "xaxis": "x",
           "y": [
            "🇫🇷"
           ],
           "yaxis": "y"
          },
          {
           "alignmentgroup": "True",
           "hovertemplate": "<b>%{hovertext}</b><br><br>flag=%{y}<br>date=2022-11-30<br>clicks=%{x}<extra></extra>",
           "hovertext": [
            "esp"
           ],
           "legendgroup": "🇪🇸",
           "marker": {
            "color": "#8C564B",
            "pattern": {
             "shape": ""
            }
           },
           "name": "🇪🇸",
           "offsetgroup": "🇪🇸",
           "orientation": "h",
           "showlegend": true,
           "textposition": "auto",
           "type": "bar",
           "x": [
            54
           ],
           "xaxis": "x",
           "y": [
            "🇪🇸"
           ],
           "yaxis": "y"
          },
          {
           "alignmentgroup": "True",
           "hovertemplate": "<b>%{hovertext}</b><br><br>flag=%{y}<br>date=2022-11-30<br>clicks=%{x}<extra></extra>",
           "hovertext": [
            "can"
           ],
           "legendgroup": "🇨🇦",
           "marker": {
            "color": "#E377C2",
            "pattern": {
             "shape": ""
            }
           },
           "name": "🇨🇦",
           "offsetgroup": "🇨🇦",
           "orientation": "h",
           "showlegend": true,
           "textposition": "auto",
           "type": "bar",
           "x": [
            67
           ],
           "xaxis": "x",
           "y": [
            "🇨🇦"
           ],
           "yaxis": "y"
          },
          {
           "alignmentgroup": "True",
           "hovertemplate": "<b>%{hovertext}</b><br><br>flag=%{y}<br>date=2022-11-30<br>clicks=%{x}<extra></extra>",
           "hovertext": [
            "tur"
           ],
           "legendgroup": "🇹🇷",
           "marker": {
            "color": "#7F7F7F",
            "pattern": {
             "shape": ""
            }
           },
           "name": "🇹🇷",
           "offsetgroup": "🇹🇷",
           "orientation": "h",
           "showlegend": true,
           "textposition": "auto",
           "type": "bar",
           "x": [
            50
           ],
           "xaxis": "x",
           "y": [
            "🇹🇷"
           ],
           "yaxis": "y"
          },
          {
           "alignmentgroup": "True",
           "hovertemplate": "<b>%{hovertext}</b><br><br>flag=%{y}<br>date=2022-11-30<br>clicks=%{x}<extra></extra>",
           "hovertext": [
            "ita"
           ],
           "legendgroup": "🇮🇹",
           "marker": {
            "color": "#BCBD22",
            "pattern": {
             "shape": ""
            }
           },
           "name": "🇮🇹",
           "offsetgroup": "🇮🇹",
           "orientation": "h",
           "showlegend": true,
           "textposition": "auto",
           "type": "bar",
           "x": [
            57
           ],
           "xaxis": "x",
           "y": [
            "🇮🇹"
           ],
           "yaxis": "y"
          },
          {
           "alignmentgroup": "True",
           "hovertemplate": "<b>%{hovertext}</b><br><br>flag=%{y}<br>date=2022-11-30<br>clicks=%{x}<extra></extra>",
           "hovertext": [
            "nld"
           ],
           "legendgroup": "🇳🇱",
           "marker": {
            "color": "#17BECF",
            "pattern": {
             "shape": ""
            }
           },
           "name": "🇳🇱",
           "offsetgroup": "🇳🇱",
           "orientation": "h",
           "showlegend": true,
           "textposition": "auto",
           "type": "bar",
           "x": [
            47
           ],
           "xaxis": "x",
           "y": [
            "🇳🇱"
           ],
           "yaxis": "y"
          },
          {
           "alignmentgroup": "True",
           "hovertemplate": "<b>%{hovertext}</b><br><br>flag=%{y}<br>date=2022-11-30<br>clicks=%{x}<extra></extra>",
           "hovertext": [
            "pak"
           ],
           "legendgroup": "🇵🇰",
           "marker": {
            "color": "#1F77B4",
            "pattern": {
             "shape": ""
            }
           },
           "name": "🇵🇰",
           "offsetgroup": "🇵🇰",
           "orientation": "h",
           "showlegend": true,
           "textposition": "auto",
           "type": "bar",
           "x": [
            28
           ],
           "xaxis": "x",
           "y": [
            "🇵🇰"
           ],
           "yaxis": "y"
          },
          {
           "alignmentgroup": "True",
           "hovertemplate": "<b>%{hovertext}</b><br><br>flag=%{y}<br>date=2022-11-30<br>clicks=%{x}<extra></extra>",
           "hovertext": [
            "pol"
           ],
           "legendgroup": "🇵🇱",
           "marker": {
            "color": "#FF7F0E",
            "pattern": {
             "shape": ""
            }
           },
           "name": "🇵🇱",
           "offsetgroup": "🇵🇱",
           "orientation": "h",
           "showlegend": true,
           "textposition": "auto",
           "type": "bar",
           "x": [
            40
           ],
           "xaxis": "x",
           "y": [
            "🇵🇱"
           ],
           "yaxis": "y"
          },
          {
           "alignmentgroup": "True",
           "hovertemplate": "<b>%{hovertext}</b><br><br>flag=%{y}<br>date=2022-11-30<br>clicks=%{x}<extra></extra>",
           "hovertext": [
            "rus"
           ],
           "legendgroup": "🇷🇺",
           "marker": {
            "color": "#2CA02C",
            "pattern": {
             "shape": ""
            }
           },
           "name": "🇷🇺",
           "offsetgroup": "🇷🇺",
           "orientation": "h",
           "showlegend": true,
           "textposition": "auto",
           "type": "bar",
           "x": [
            42
           ],
           "xaxis": "x",
           "y": [
            "🇷🇺"
           ],
           "yaxis": "y"
          },
          {
           "alignmentgroup": "True",
           "hovertemplate": "<b>%{hovertext}</b><br><br>flag=%{y}<br>date=2022-11-30<br>clicks=%{x}<extra></extra>",
           "hovertext": [
            "vnm"
           ],
           "legendgroup": "🇻🇳",
           "marker": {
            "color": "#D62728",
            "pattern": {
             "shape": ""
            }
           },
           "name": "🇻🇳",
           "offsetgroup": "🇻🇳",
           "orientation": "h",
           "showlegend": true,
           "textposition": "auto",
           "type": "bar",
           "x": [
            35
           ],
           "xaxis": "x",
           "y": [
            "🇻🇳"
           ],
           "yaxis": "y"
          },
          {
           "alignmentgroup": "True",
           "hovertemplate": "<b>%{hovertext}</b><br><br>flag=%{y}<br>date=2022-11-30<br>clicks=%{x}<extra></extra>",
           "hovertext": [
            "irn"
           ],
           "legendgroup": "🇮🇷",
           "marker": {
            "color": "#9467BD",
            "pattern": {
             "shape": ""
            }
           },
           "name": "🇮🇷",
           "offsetgroup": "🇮🇷",
           "orientation": "h",
           "showlegend": true,
           "textposition": "auto",
           "type": "bar",
           "x": [
            19
           ],
           "xaxis": "x",
           "y": [
            "🇮🇷"
           ],
           "yaxis": "y"
          }
         ],
         "name": "2022-11-30"
        },
        {
         "data": [
          {
           "alignmentgroup": "True",
           "hovertemplate": "<b>%{hovertext}</b><br><br>flag=%{y}<br>date=2022-12-31<br>clicks=%{x}<extra></extra>",
           "hovertext": [
            "usa"
           ],
           "legendgroup": "🇺🇸",
           "marker": {
            "color": "#1F77B4",
            "pattern": {
             "shape": ""
            }
           },
           "name": "🇺🇸",
           "offsetgroup": "🇺🇸",
           "orientation": "h",
           "showlegend": true,
           "textposition": "auto",
           "type": "bar",
           "x": [
            329
           ],
           "xaxis": "x",
           "y": [
            "🇺🇸"
           ],
           "yaxis": "y"
          },
          {
           "alignmentgroup": "True",
           "hovertemplate": "<b>%{hovertext}</b><br><br>flag=%{y}<br>date=2022-12-31<br>clicks=%{x}<extra></extra>",
           "hovertext": [
            "ind"
           ],
           "legendgroup": "🇮🇳",
           "marker": {
            "color": "#FF7F0E",
            "pattern": {
             "shape": ""
            }
           },
           "name": "🇮🇳",
           "offsetgroup": "🇮🇳",
           "orientation": "h",
           "showlegend": true,
           "textposition": "auto",
           "type": "bar",
           "x": [
            414
           ],
           "xaxis": "x",
           "y": [
            "🇮🇳"
           ],
           "yaxis": "y"
          },
          {
           "alignmentgroup": "True",
           "hovertemplate": "<b>%{hovertext}</b><br><br>flag=%{y}<br>date=2022-12-31<br>clicks=%{x}<extra></extra>",
           "hovertext": [
            "deu"
           ],
           "legendgroup": "🇩🇪",
           "marker": {
            "color": "#2CA02C",
            "pattern": {
             "shape": ""
            }
           },
           "name": "🇩🇪",
           "offsetgroup": "🇩🇪",
           "orientation": "h",
           "showlegend": true,
           "textposition": "auto",
           "type": "bar",
           "x": [
            102
           ],
           "xaxis": "x",
           "y": [
            "🇩🇪"
           ],
           "yaxis": "y"
          },
          {
           "alignmentgroup": "True",
           "hovertemplate": "<b>%{hovertext}</b><br><br>flag=%{y}<br>date=2022-12-31<br>clicks=%{x}<extra></extra>",
           "hovertext": [
            "gbr"
           ],
           "legendgroup": "🇬🇧",
           "marker": {
            "color": "#D62728",
            "pattern": {
             "shape": ""
            }
           },
           "name": "🇬🇧",
           "offsetgroup": "🇬🇧",
           "orientation": "h",
           "showlegend": true,
           "textposition": "auto",
           "type": "bar",
           "x": [
            74
           ],
           "xaxis": "x",
           "y": [
            "🇬🇧"
           ],
           "yaxis": "y"
          },
          {
           "alignmentgroup": "True",
           "hovertemplate": "<b>%{hovertext}</b><br><br>flag=%{y}<br>date=2022-12-31<br>clicks=%{x}<extra></extra>",
           "hovertext": [
            "fra"
           ],
           "legendgroup": "🇫🇷",
           "marker": {
            "color": "#9467BD",
            "pattern": {
             "shape": ""
            }
           },
           "name": "🇫🇷",
           "offsetgroup": "🇫🇷",
           "orientation": "h",
           "showlegend": true,
           "textposition": "auto",
           "type": "bar",
           "x": [
            81
           ],
           "xaxis": "x",
           "y": [
            "🇫🇷"
           ],
           "yaxis": "y"
          },
          {
           "alignmentgroup": "True",
           "hovertemplate": "<b>%{hovertext}</b><br><br>flag=%{y}<br>date=2022-12-31<br>clicks=%{x}<extra></extra>",
           "hovertext": [
            "esp"
           ],
           "legendgroup": "🇪🇸",
           "marker": {
            "color": "#8C564B",
            "pattern": {
             "shape": ""
            }
           },
           "name": "🇪🇸",
           "offsetgroup": "🇪🇸",
           "orientation": "h",
           "showlegend": true,
           "textposition": "auto",
           "type": "bar",
           "x": [
            55
           ],
           "xaxis": "x",
           "y": [
            "🇪🇸"
           ],
           "yaxis": "y"
          },
          {
           "alignmentgroup": "True",
           "hovertemplate": "<b>%{hovertext}</b><br><br>flag=%{y}<br>date=2022-12-31<br>clicks=%{x}<extra></extra>",
           "hovertext": [
            "can"
           ],
           "legendgroup": "🇨🇦",
           "marker": {
            "color": "#E377C2",
            "pattern": {
             "shape": ""
            }
           },
           "name": "🇨🇦",
           "offsetgroup": "🇨🇦",
           "orientation": "h",
           "showlegend": true,
           "textposition": "auto",
           "type": "bar",
           "x": [
            46
           ],
           "xaxis": "x",
           "y": [
            "🇨🇦"
           ],
           "yaxis": "y"
          },
          {
           "alignmentgroup": "True",
           "hovertemplate": "<b>%{hovertext}</b><br><br>flag=%{y}<br>date=2022-12-31<br>clicks=%{x}<extra></extra>",
           "hovertext": [
            "tur"
           ],
           "legendgroup": "🇹🇷",
           "marker": {
            "color": "#7F7F7F",
            "pattern": {
             "shape": ""
            }
           },
           "name": "🇹🇷",
           "offsetgroup": "🇹🇷",
           "orientation": "h",
           "showlegend": true,
           "textposition": "auto",
           "type": "bar",
           "x": [
            48
           ],
           "xaxis": "x",
           "y": [
            "🇹🇷"
           ],
           "yaxis": "y"
          },
          {
           "alignmentgroup": "True",
           "hovertemplate": "<b>%{hovertext}</b><br><br>flag=%{y}<br>date=2022-12-31<br>clicks=%{x}<extra></extra>",
           "hovertext": [
            "ita"
           ],
           "legendgroup": "🇮🇹",
           "marker": {
            "color": "#BCBD22",
            "pattern": {
             "shape": ""
            }
           },
           "name": "🇮🇹",
           "offsetgroup": "🇮🇹",
           "orientation": "h",
           "showlegend": true,
           "textposition": "auto",
           "type": "bar",
           "x": [
            61
           ],
           "xaxis": "x",
           "y": [
            "🇮🇹"
           ],
           "yaxis": "y"
          },
          {
           "alignmentgroup": "True",
           "hovertemplate": "<b>%{hovertext}</b><br><br>flag=%{y}<br>date=2022-12-31<br>clicks=%{x}<extra></extra>",
           "hovertext": [
            "nld"
           ],
           "legendgroup": "🇳🇱",
           "marker": {
            "color": "#17BECF",
            "pattern": {
             "shape": ""
            }
           },
           "name": "🇳🇱",
           "offsetgroup": "🇳🇱",
           "orientation": "h",
           "showlegend": true,
           "textposition": "auto",
           "type": "bar",
           "x": [
            39
           ],
           "xaxis": "x",
           "y": [
            "🇳🇱"
           ],
           "yaxis": "y"
          },
          {
           "alignmentgroup": "True",
           "hovertemplate": "<b>%{hovertext}</b><br><br>flag=%{y}<br>date=2022-12-31<br>clicks=%{x}<extra></extra>",
           "hovertext": [
            "pak"
           ],
           "legendgroup": "🇵🇰",
           "marker": {
            "color": "#1F77B4",
            "pattern": {
             "shape": ""
            }
           },
           "name": "🇵🇰",
           "offsetgroup": "🇵🇰",
           "orientation": "h",
           "showlegend": true,
           "textposition": "auto",
           "type": "bar",
           "x": [
            33
           ],
           "xaxis": "x",
           "y": [
            "🇵🇰"
           ],
           "yaxis": "y"
          },
          {
           "alignmentgroup": "True",
           "hovertemplate": "<b>%{hovertext}</b><br><br>flag=%{y}<br>date=2022-12-31<br>clicks=%{x}<extra></extra>",
           "hovertext": [
            "pol"
           ],
           "legendgroup": "🇵🇱",
           "marker": {
            "color": "#FF7F0E",
            "pattern": {
             "shape": ""
            }
           },
           "name": "🇵🇱",
           "offsetgroup": "🇵🇱",
           "orientation": "h",
           "showlegend": true,
           "textposition": "auto",
           "type": "bar",
           "x": [
            39
           ],
           "xaxis": "x",
           "y": [
            "🇵🇱"
           ],
           "yaxis": "y"
          },
          {
           "alignmentgroup": "True",
           "hovertemplate": "<b>%{hovertext}</b><br><br>flag=%{y}<br>date=2022-12-31<br>clicks=%{x}<extra></extra>",
           "hovertext": [
            "rus"
           ],
           "legendgroup": "🇷🇺",
           "marker": {
            "color": "#2CA02C",
            "pattern": {
             "shape": ""
            }
           },
           "name": "🇷🇺",
           "offsetgroup": "🇷🇺",
           "orientation": "h",
           "showlegend": true,
           "textposition": "auto",
           "type": "bar",
           "x": [
            37
           ],
           "xaxis": "x",
           "y": [
            "🇷🇺"
           ],
           "yaxis": "y"
          },
          {
           "alignmentgroup": "True",
           "hovertemplate": "<b>%{hovertext}</b><br><br>flag=%{y}<br>date=2022-12-31<br>clicks=%{x}<extra></extra>",
           "hovertext": [
            "vnm"
           ],
           "legendgroup": "🇻🇳",
           "marker": {
            "color": "#D62728",
            "pattern": {
             "shape": ""
            }
           },
           "name": "🇻🇳",
           "offsetgroup": "🇻🇳",
           "orientation": "h",
           "showlegend": true,
           "textposition": "auto",
           "type": "bar",
           "x": [
            35
           ],
           "xaxis": "x",
           "y": [
            "🇻🇳"
           ],
           "yaxis": "y"
          },
          {
           "alignmentgroup": "True",
           "hovertemplate": "<b>%{hovertext}</b><br><br>flag=%{y}<br>date=2022-12-31<br>clicks=%{x}<extra></extra>",
           "hovertext": [
            "irn"
           ],
           "legendgroup": "🇮🇷",
           "marker": {
            "color": "#9467BD",
            "pattern": {
             "shape": ""
            }
           },
           "name": "🇮🇷",
           "offsetgroup": "🇮🇷",
           "orientation": "h",
           "showlegend": true,
           "textposition": "auto",
           "type": "bar",
           "x": [
            36
           ],
           "xaxis": "x",
           "y": [
            "🇮🇷"
           ],
           "yaxis": "y"
          }
         ],
         "name": "2022-12-31"
        }
       ],
       "layout": {
        "autosize": true,
        "barmode": "relative",
        "legend": {
         "title": {
          "text": "flag"
         },
         "tracegroupgap": 0
        },
        "showlegend": false,
        "sliders": [
         {
          "active": 0,
          "currentvalue": {
           "prefix": "date="
          },
          "len": 0.9,
          "pad": {
           "b": 10,
           "t": 60
          },
          "steps": [
           {
            "args": [
             [
              "2022-01-31"
             ],
             {
              "frame": {
               "duration": 0,
               "redraw": true
              },
              "fromcurrent": true,
              "mode": "immediate",
              "transition": {
               "duration": 0,
               "easing": "linear"
              }
             }
            ],
            "label": "2022-01-31",
            "method": "animate"
           },
           {
            "args": [
             [
              "2022-02-28"
             ],
             {
              "frame": {
               "duration": 0,
               "redraw": true
              },
              "fromcurrent": true,
              "mode": "immediate",
              "transition": {
               "duration": 0,
               "easing": "linear"
              }
             }
            ],
            "label": "2022-02-28",
            "method": "animate"
           },
           {
            "args": [
             [
              "2022-03-31"
             ],
             {
              "frame": {
               "duration": 0,
               "redraw": true
              },
              "fromcurrent": true,
              "mode": "immediate",
              "transition": {
               "duration": 0,
               "easing": "linear"
              }
             }
            ],
            "label": "2022-03-31",
            "method": "animate"
           },
           {
            "args": [
             [
              "2022-04-30"
             ],
             {
              "frame": {
               "duration": 0,
               "redraw": true
              },
              "fromcurrent": true,
              "mode": "immediate",
              "transition": {
               "duration": 0,
               "easing": "linear"
              }
             }
            ],
            "label": "2022-04-30",
            "method": "animate"
           },
           {
            "args": [
             [
              "2022-05-31"
             ],
             {
              "frame": {
               "duration": 0,
               "redraw": true
              },
              "fromcurrent": true,
              "mode": "immediate",
              "transition": {
               "duration": 0,
               "easing": "linear"
              }
             }
            ],
            "label": "2022-05-31",
            "method": "animate"
           },
           {
            "args": [
             [
              "2022-06-30"
             ],
             {
              "frame": {
               "duration": 0,
               "redraw": true
              },
              "fromcurrent": true,
              "mode": "immediate",
              "transition": {
               "duration": 0,
               "easing": "linear"
              }
             }
            ],
            "label": "2022-06-30",
            "method": "animate"
           },
           {
            "args": [
             [
              "2022-07-31"
             ],
             {
              "frame": {
               "duration": 0,
               "redraw": true
              },
              "fromcurrent": true,
              "mode": "immediate",
              "transition": {
               "duration": 0,
               "easing": "linear"
              }
             }
            ],
            "label": "2022-07-31",
            "method": "animate"
           },
           {
            "args": [
             [
              "2022-08-31"
             ],
             {
              "frame": {
               "duration": 0,
               "redraw": true
              },
              "fromcurrent": true,
              "mode": "immediate",
              "transition": {
               "duration": 0,
               "easing": "linear"
              }
             }
            ],
            "label": "2022-08-31",
            "method": "animate"
           },
           {
            "args": [
             [
              "2022-09-30"
             ],
             {
              "frame": {
               "duration": 0,
               "redraw": true
              },
              "fromcurrent": true,
              "mode": "immediate",
              "transition": {
               "duration": 0,
               "easing": "linear"
              }
             }
            ],
            "label": "2022-09-30",
            "method": "animate"
           },
           {
            "args": [
             [
              "2022-10-31"
             ],
             {
              "frame": {
               "duration": 0,
               "redraw": true
              },
              "fromcurrent": true,
              "mode": "immediate",
              "transition": {
               "duration": 0,
               "easing": "linear"
              }
             }
            ],
            "label": "2022-10-31",
            "method": "animate"
           },
           {
            "args": [
             [
              "2022-11-30"
             ],
             {
              "frame": {
               "duration": 0,
               "redraw": true
              },
              "fromcurrent": true,
              "mode": "immediate",
              "transition": {
               "duration": 0,
               "easing": "linear"
              }
             }
            ],
            "label": "2022-11-30",
            "method": "animate"
           },
           {
            "args": [
             [
              "2022-12-31"
             ],
             {
              "frame": {
               "duration": 0,
               "redraw": true
              },
              "fromcurrent": true,
              "mode": "immediate",
              "transition": {
               "duration": 0,
               "easing": "linear"
              }
             }
            ],
            "label": "2022-12-31",
            "method": "animate"
           }
          ],
          "x": 0.1,
          "xanchor": "left",
          "y": 0,
          "yanchor": "top"
         }
        ],
        "template": {
         "data": {
          "bar": [
           {
            "error_x": {
             "color": "#f2f5fa"
            },
            "error_y": {
             "color": "#f2f5fa"
            },
            "marker": {
             "line": {
              "color": "rgb(17,17,17)",
              "width": 0.5
             },
             "pattern": {
              "fillmode": "overlay",
              "size": 10,
              "solidity": 0.2
             }
            },
            "type": "bar"
           }
          ],
          "barpolar": [
           {
            "marker": {
             "line": {
              "color": "rgb(17,17,17)",
              "width": 0.5
             },
             "pattern": {
              "fillmode": "overlay",
              "size": 10,
              "solidity": 0.2
             }
            },
            "type": "barpolar"
           }
          ],
          "carpet": [
           {
            "aaxis": {
             "endlinecolor": "#A2B1C6",
             "gridcolor": "#506784",
             "linecolor": "#506784",
             "minorgridcolor": "#506784",
             "startlinecolor": "#A2B1C6"
            },
            "baxis": {
             "endlinecolor": "#A2B1C6",
             "gridcolor": "#506784",
             "linecolor": "#506784",
             "minorgridcolor": "#506784",
             "startlinecolor": "#A2B1C6"
            },
            "type": "carpet"
           }
          ],
          "choropleth": [
           {
            "colorbar": {
             "outlinewidth": 0,
             "ticks": ""
            },
            "type": "choropleth"
           }
          ],
          "contour": [
           {
            "colorbar": {
             "outlinewidth": 0,
             "ticks": ""
            },
            "colorscale": [
             [
              0,
              "#0d0887"
             ],
             [
              0.1111111111111111,
              "#46039f"
             ],
             [
              0.2222222222222222,
              "#7201a8"
             ],
             [
              0.3333333333333333,
              "#9c179e"
             ],
             [
              0.4444444444444444,
              "#bd3786"
             ],
             [
              0.5555555555555556,
              "#d8576b"
             ],
             [
              0.6666666666666666,
              "#ed7953"
             ],
             [
              0.7777777777777778,
              "#fb9f3a"
             ],
             [
              0.8888888888888888,
              "#fdca26"
             ],
             [
              1,
              "#f0f921"
             ]
            ],
            "type": "contour"
           }
          ],
          "contourcarpet": [
           {
            "colorbar": {
             "outlinewidth": 0,
             "ticks": ""
            },
            "type": "contourcarpet"
           }
          ],
          "heatmap": [
           {
            "colorbar": {
             "outlinewidth": 0,
             "ticks": ""
            },
            "colorscale": [
             [
              0,
              "#0d0887"
             ],
             [
              0.1111111111111111,
              "#46039f"
             ],
             [
              0.2222222222222222,
              "#7201a8"
             ],
             [
              0.3333333333333333,
              "#9c179e"
             ],
             [
              0.4444444444444444,
              "#bd3786"
             ],
             [
              0.5555555555555556,
              "#d8576b"
             ],
             [
              0.6666666666666666,
              "#ed7953"
             ],
             [
              0.7777777777777778,
              "#fb9f3a"
             ],
             [
              0.8888888888888888,
              "#fdca26"
             ],
             [
              1,
              "#f0f921"
             ]
            ],
            "type": "heatmap"
           }
          ],
          "heatmapgl": [
           {
            "colorbar": {
             "outlinewidth": 0,
             "ticks": ""
            },
            "colorscale": [
             [
              0,
              "#0d0887"
             ],
             [
              0.1111111111111111,
              "#46039f"
             ],
             [
              0.2222222222222222,
              "#7201a8"
             ],
             [
              0.3333333333333333,
              "#9c179e"
             ],
             [
              0.4444444444444444,
              "#bd3786"
             ],
             [
              0.5555555555555556,
              "#d8576b"
             ],
             [
              0.6666666666666666,
              "#ed7953"
             ],
             [
              0.7777777777777778,
              "#fb9f3a"
             ],
             [
              0.8888888888888888,
              "#fdca26"
             ],
             [
              1,
              "#f0f921"
             ]
            ],
            "type": "heatmapgl"
           }
          ],
          "histogram": [
           {
            "marker": {
             "pattern": {
              "fillmode": "overlay",
              "size": 10,
              "solidity": 0.2
             }
            },
            "type": "histogram"
           }
          ],
          "histogram2d": [
           {
            "colorbar": {
             "outlinewidth": 0,
             "ticks": ""
            },
            "colorscale": [
             [
              0,
              "#0d0887"
             ],
             [
              0.1111111111111111,
              "#46039f"
             ],
             [
              0.2222222222222222,
              "#7201a8"
             ],
             [
              0.3333333333333333,
              "#9c179e"
             ],
             [
              0.4444444444444444,
              "#bd3786"
             ],
             [
              0.5555555555555556,
              "#d8576b"
             ],
             [
              0.6666666666666666,
              "#ed7953"
             ],
             [
              0.7777777777777778,
              "#fb9f3a"
             ],
             [
              0.8888888888888888,
              "#fdca26"
             ],
             [
              1,
              "#f0f921"
             ]
            ],
            "type": "histogram2d"
           }
          ],
          "histogram2dcontour": [
           {
            "colorbar": {
             "outlinewidth": 0,
             "ticks": ""
            },
            "colorscale": [
             [
              0,
              "#0d0887"
             ],
             [
              0.1111111111111111,
              "#46039f"
             ],
             [
              0.2222222222222222,
              "#7201a8"
             ],
             [
              0.3333333333333333,
              "#9c179e"
             ],
             [
              0.4444444444444444,
              "#bd3786"
             ],
             [
              0.5555555555555556,
              "#d8576b"
             ],
             [
              0.6666666666666666,
              "#ed7953"
             ],
             [
              0.7777777777777778,
              "#fb9f3a"
             ],
             [
              0.8888888888888888,
              "#fdca26"
             ],
             [
              1,
              "#f0f921"
             ]
            ],
            "type": "histogram2dcontour"
           }
          ],
          "mesh3d": [
           {
            "colorbar": {
             "outlinewidth": 0,
             "ticks": ""
            },
            "type": "mesh3d"
           }
          ],
          "parcoords": [
           {
            "line": {
             "colorbar": {
              "outlinewidth": 0,
              "ticks": ""
             }
            },
            "type": "parcoords"
           }
          ],
          "pie": [
           {
            "automargin": true,
            "type": "pie"
           }
          ],
          "scatter": [
           {
            "marker": {
             "line": {
              "color": "#283442"
             }
            },
            "type": "scatter"
           }
          ],
          "scatter3d": [
           {
            "line": {
             "colorbar": {
              "outlinewidth": 0,
              "ticks": ""
             }
            },
            "marker": {
             "colorbar": {
              "outlinewidth": 0,
              "ticks": ""
             }
            },
            "type": "scatter3d"
           }
          ],
          "scattercarpet": [
           {
            "marker": {
             "colorbar": {
              "outlinewidth": 0,
              "ticks": ""
             }
            },
            "type": "scattercarpet"
           }
          ],
          "scattergeo": [
           {
            "marker": {
             "colorbar": {
              "outlinewidth": 0,
              "ticks": ""
             }
            },
            "type": "scattergeo"
           }
          ],
          "scattergl": [
           {
            "marker": {
             "line": {
              "color": "#283442"
             }
            },
            "type": "scattergl"
           }
          ],
          "scattermapbox": [
           {
            "marker": {
             "colorbar": {
              "outlinewidth": 0,
              "ticks": ""
             }
            },
            "type": "scattermapbox"
           }
          ],
          "scatterpolar": [
           {
            "marker": {
             "colorbar": {
              "outlinewidth": 0,
              "ticks": ""
             }
            },
            "type": "scatterpolar"
           }
          ],
          "scatterpolargl": [
           {
            "marker": {
             "colorbar": {
              "outlinewidth": 0,
              "ticks": ""
             }
            },
            "type": "scatterpolargl"
           }
          ],
          "scatterternary": [
           {
            "marker": {
             "colorbar": {
              "outlinewidth": 0,
              "ticks": ""
             }
            },
            "type": "scatterternary"
           }
          ],
          "surface": [
           {
            "colorbar": {
             "outlinewidth": 0,
             "ticks": ""
            },
            "colorscale": [
             [
              0,
              "#0d0887"
             ],
             [
              0.1111111111111111,
              "#46039f"
             ],
             [
              0.2222222222222222,
              "#7201a8"
             ],
             [
              0.3333333333333333,
              "#9c179e"
             ],
             [
              0.4444444444444444,
              "#bd3786"
             ],
             [
              0.5555555555555556,
              "#d8576b"
             ],
             [
              0.6666666666666666,
              "#ed7953"
             ],
             [
              0.7777777777777778,
              "#fb9f3a"
             ],
             [
              0.8888888888888888,
              "#fdca26"
             ],
             [
              1,
              "#f0f921"
             ]
            ],
            "type": "surface"
           }
          ],
          "table": [
           {
            "cells": {
             "fill": {
              "color": "#506784"
             },
             "line": {
              "color": "rgb(17,17,17)"
             }
            },
            "header": {
             "fill": {
              "color": "#2a3f5f"
             },
             "line": {
              "color": "rgb(17,17,17)"
             }
            },
            "type": "table"
           }
          ]
         },
         "layout": {
          "annotationdefaults": {
           "arrowcolor": "#f2f5fa",
           "arrowhead": 0,
           "arrowwidth": 1
          },
          "autotypenumbers": "strict",
          "coloraxis": {
           "colorbar": {
            "outlinewidth": 0,
            "ticks": ""
           }
          },
          "colorscale": {
           "diverging": [
            [
             0,
             "#8e0152"
            ],
            [
             0.1,
             "#c51b7d"
            ],
            [
             0.2,
             "#de77ae"
            ],
            [
             0.3,
             "#f1b6da"
            ],
            [
             0.4,
             "#fde0ef"
            ],
            [
             0.5,
             "#f7f7f7"
            ],
            [
             0.6,
             "#e6f5d0"
            ],
            [
             0.7,
             "#b8e186"
            ],
            [
             0.8,
             "#7fbc41"
            ],
            [
             0.9,
             "#4d9221"
            ],
            [
             1,
             "#276419"
            ]
           ],
           "sequential": [
            [
             0,
             "#0d0887"
            ],
            [
             0.1111111111111111,
             "#46039f"
            ],
            [
             0.2222222222222222,
             "#7201a8"
            ],
            [
             0.3333333333333333,
             "#9c179e"
            ],
            [
             0.4444444444444444,
             "#bd3786"
            ],
            [
             0.5555555555555556,
             "#d8576b"
            ],
            [
             0.6666666666666666,
             "#ed7953"
            ],
            [
             0.7777777777777778,
             "#fb9f3a"
            ],
            [
             0.8888888888888888,
             "#fdca26"
            ],
            [
             1,
             "#f0f921"
            ]
           ],
           "sequentialminus": [
            [
             0,
             "#0d0887"
            ],
            [
             0.1111111111111111,
             "#46039f"
            ],
            [
             0.2222222222222222,
             "#7201a8"
            ],
            [
             0.3333333333333333,
             "#9c179e"
            ],
            [
             0.4444444444444444,
             "#bd3786"
            ],
            [
             0.5555555555555556,
             "#d8576b"
            ],
            [
             0.6666666666666666,
             "#ed7953"
            ],
            [
             0.7777777777777778,
             "#fb9f3a"
            ],
            [
             0.8888888888888888,
             "#fdca26"
            ],
            [
             1,
             "#f0f921"
            ]
           ]
          },
          "colorway": [
           "#636efa",
           "#EF553B",
           "#00cc96",
           "#ab63fa",
           "#FFA15A",
           "#19d3f3",
           "#FF6692",
           "#B6E880",
           "#FF97FF",
           "#FECB52"
          ],
          "font": {
           "color": "#f2f5fa"
          },
          "geo": {
           "bgcolor": "rgb(17,17,17)",
           "lakecolor": "rgb(17,17,17)",
           "landcolor": "rgb(17,17,17)",
           "showlakes": true,
           "showland": true,
           "subunitcolor": "#506784"
          },
          "hoverlabel": {
           "align": "left"
          },
          "hovermode": "closest",
          "mapbox": {
           "style": "dark"
          },
          "paper_bgcolor": "rgb(17,17,17)",
          "plot_bgcolor": "rgb(17,17,17)",
          "polar": {
           "angularaxis": {
            "gridcolor": "#506784",
            "linecolor": "#506784",
            "ticks": ""
           },
           "bgcolor": "rgb(17,17,17)",
           "radialaxis": {
            "gridcolor": "#506784",
            "linecolor": "#506784",
            "ticks": ""
           }
          },
          "scene": {
           "xaxis": {
            "backgroundcolor": "rgb(17,17,17)",
            "gridcolor": "#506784",
            "gridwidth": 2,
            "linecolor": "#506784",
            "showbackground": true,
            "ticks": "",
            "zerolinecolor": "#C8D4E3"
           },
           "yaxis": {
            "backgroundcolor": "rgb(17,17,17)",
            "gridcolor": "#506784",
            "gridwidth": 2,
            "linecolor": "#506784",
            "showbackground": true,
            "ticks": "",
            "zerolinecolor": "#C8D4E3"
           },
           "zaxis": {
            "backgroundcolor": "rgb(17,17,17)",
            "gridcolor": "#506784",
            "gridwidth": 2,
            "linecolor": "#506784",
            "showbackground": true,
            "ticks": "",
            "zerolinecolor": "#C8D4E3"
           }
          },
          "shapedefaults": {
           "line": {
            "color": "#f2f5fa"
           }
          },
          "sliderdefaults": {
           "bgcolor": "#C8D4E3",
           "bordercolor": "rgb(17,17,17)",
           "borderwidth": 1,
           "tickwidth": 0
          },
          "ternary": {
           "aaxis": {
            "gridcolor": "#506784",
            "linecolor": "#506784",
            "ticks": ""
           },
           "baxis": {
            "gridcolor": "#506784",
            "linecolor": "#506784",
            "ticks": ""
           },
           "bgcolor": "rgb(17,17,17)",
           "caxis": {
            "gridcolor": "#506784",
            "linecolor": "#506784",
            "ticks": ""
           }
          },
          "title": {
           "x": 0.05
          },
          "updatemenudefaults": {
           "bgcolor": "#506784",
           "borderwidth": 0
          },
          "xaxis": {
           "automargin": true,
           "gridcolor": "#283442",
           "linecolor": "#506784",
           "ticks": "",
           "title": {
            "standoff": 15
           },
           "zerolinecolor": "#283442",
           "zerolinewidth": 2
          },
          "yaxis": {
           "automargin": true,
           "gridcolor": "#283442",
           "linecolor": "#506784",
           "ticks": "",
           "title": {
            "standoff": 15
           },
           "zerolinecolor": "#283442",
           "zerolinewidth": 2
          }
         }
        },
        "title": {
         "text": "<b>Google Search Console - Top 15 countries clicks</b><br>2022 monthly. By: <a href=\"https://twitter.com/eliasdabbas\">@EliasDabbas<a>"
        },
        "updatemenus": [
         {
          "active": 0,
          "buttons": [
           {
            "args": [
             null,
             {
              "frame": {
               "duration": 500,
               "redraw": true
              },
              "fromcurrent": true,
              "mode": "immediate",
              "transition": {
               "duration": 500,
               "easing": "linear"
              }
             }
            ],
            "label": "&#9654;",
            "method": "animate"
           },
           {
            "args": [
             [
              null
             ],
             {
              "frame": {
               "duration": 0,
               "redraw": true
              },
              "fromcurrent": true,
              "mode": "immediate",
              "transition": {
               "duration": 0,
               "easing": "linear"
              }
             }
            ],
            "label": "&#9724;",
            "method": "animate"
           }
          ],
          "direction": "left",
          "pad": {
           "r": 10,
           "t": 70
          },
          "showactive": false,
          "type": "buttons",
          "x": 0.1,
          "xanchor": "right",
          "y": 0,
          "yanchor": "top"
         }
        ],
        "xaxis": {
         "anchor": "y",
         "autorange": true,
         "domain": [
          0,
          1
         ],
         "range": [
          0,
          377.89473684210526
         ],
         "title": {
          "text": "clicks"
         },
         "type": "linear"
        },
        "yaxis": {
         "anchor": "x",
         "autorange": true,
         "categoryarray": [
          "🇵🇰",
          "🇻🇳",
          "🇮🇷",
          "🇷🇺",
          "🇵🇱",
          "🇳🇱",
          "🇨🇦",
          "🇹🇷",
          "🇪🇸",
          "🇮🇹",
          "🇬🇧",
          "🇫🇷",
          "🇩🇪",
          "🇺🇸",
          "🇮🇳"
         ],
         "categoryorder": "array",
         "domain": [
          0,
          1
         ],
         "range": [
          -0.5,
          14.5
         ],
         "tickfont": {
          "size": 25
         },
         "type": "category"
        }
       }
      },
      "image/png": "[encoded data removed]",
      "text/html": [
       "<div>                            <div id=\"d57fa33e-ed08-4d09-8611-8d38b41ad99f\" class=\"plotly-graph-div\" style=\"height:750px; width:100%;\"></div>            <script type=\"text/javascript\">                require([\"plotly\"], function(Plotly) {                    window.PLOTLYENV=window.PLOTLYENV || {};                                    if (document.getElementById(\"d57fa33e-ed08-4d09-8611-8d38b41ad99f\")) {                    Plotly.newPlot(                        \"d57fa33e-ed08-4d09-8611-8d38b41ad99f\",                        [{\"alignmentgroup\":\"True\",\"hovertemplate\":\"<b>%{hovertext}</b><br><br>flag=%{y}<br>date=2022-01-31<br>clicks=%{x}<extra></extra>\",\"hovertext\":[\"usa\"],\"legendgroup\":\"\\ud83c\\uddfa\\ud83c\\uddf8\",\"marker\":{\"color\":\"#1F77B4\",\"pattern\":{\"shape\":\"\"}},\"name\":\"\\ud83c\\uddfa\\ud83c\\uddf8\",\"offsetgroup\":\"\\ud83c\\uddfa\\ud83c\\uddf8\",\"orientation\":\"h\",\"showlegend\":true,\"textposition\":\"auto\",\"x\":[185],\"xaxis\":\"x\",\"y\":[\"\\ud83c\\uddfa\\ud83c\\uddf8\"],\"yaxis\":\"y\",\"type\":\"bar\"},{\"alignmentgroup\":\"True\",\"hovertemplate\":\"<b>%{hovertext}</b><br><br>flag=%{y}<br>date=2022-01-31<br>clicks=%{x}<extra></extra>\",\"hovertext\":[\"ind\"],\"legendgroup\":\"\\ud83c\\uddee\\ud83c\\uddf3\",\"marker\":{\"color\":\"#FF7F0E\",\"pattern\":{\"shape\":\"\"}},\"name\":\"\\ud83c\\uddee\\ud83c\\uddf3\",\"offsetgroup\":\"\\ud83c\\uddee\\ud83c\\uddf3\",\"orientation\":\"h\",\"showlegend\":true,\"textposition\":\"auto\",\"x\":[157],\"xaxis\":\"x\",\"y\":[\"\\ud83c\\uddee\\ud83c\\uddf3\"],\"yaxis\":\"y\",\"type\":\"bar\"},{\"alignmentgroup\":\"True\",\"hovertemplate\":\"<b>%{hovertext}</b><br><br>flag=%{y}<br>date=2022-01-31<br>clicks=%{x}<extra></extra>\",\"hovertext\":[\"deu\"],\"legendgroup\":\"\\ud83c\\udde9\\ud83c\\uddea\",\"marker\":{\"color\":\"#2CA02C\",\"pattern\":{\"shape\":\"\"}},\"name\":\"\\ud83c\\udde9\\ud83c\\uddea\",\"offsetgroup\":\"\\ud83c\\udde9\\ud83c\\uddea\",\"orientation\":\"h\",\"showlegend\":true,\"textposition\":\"auto\",\"x\":[69],\"xaxis\":\"x\",\"y\":[\"\\ud83c\\udde9\\ud83c\\uddea\"],\"yaxis\":\"y\",\"type\":\"bar\"},{\"alignmentgroup\":\"True\",\"hovertemplate\":\"<b>%{hovertext}</b><br><br>flag=%{y}<br>date=2022-01-31<br>clicks=%{x}<extra></extra>\",\"hovertext\":[\"gbr\"],\"legendgroup\":\"\\ud83c\\uddec\\ud83c\\udde7\",\"marker\":{\"color\":\"#D62728\",\"pattern\":{\"shape\":\"\"}},\"name\":\"\\ud83c\\uddec\\ud83c\\udde7\",\"offsetgroup\":\"\\ud83c\\uddec\\ud83c\\udde7\",\"orientation\":\"h\",\"showlegend\":true,\"textposition\":\"auto\",\"x\":[64],\"xaxis\":\"x\",\"y\":[\"\\ud83c\\uddec\\ud83c\\udde7\"],\"yaxis\":\"y\",\"type\":\"bar\"},{\"alignmentgroup\":\"True\",\"hovertemplate\":\"<b>%{hovertext}</b><br><br>flag=%{y}<br>date=2022-01-31<br>clicks=%{x}<extra></extra>\",\"hovertext\":[\"fra\"],\"legendgroup\":\"\\ud83c\\uddeb\\ud83c\\uddf7\",\"marker\":{\"color\":\"#9467BD\",\"pattern\":{\"shape\":\"\"}},\"name\":\"\\ud83c\\uddeb\\ud83c\\uddf7\",\"offsetgroup\":\"\\ud83c\\uddeb\\ud83c\\uddf7\",\"orientation\":\"h\",\"showlegend\":true,\"textposition\":\"auto\",\"x\":[58],\"xaxis\":\"x\",\"y\":[\"\\ud83c\\uddeb\\ud83c\\uddf7\"],\"yaxis\":\"y\",\"type\":\"bar\"},{\"alignmentgroup\":\"True\",\"hovertemplate\":\"<b>%{hovertext}</b><br><br>flag=%{y}<br>date=2022-01-31<br>clicks=%{x}<extra></extra>\",\"hovertext\":[\"esp\"],\"legendgroup\":\"\\ud83c\\uddea\\ud83c\\uddf8\",\"marker\":{\"color\":\"#8C564B\",\"pattern\":{\"shape\":\"\"}},\"name\":\"\\ud83c\\uddea\\ud83c\\uddf8\",\"offsetgroup\":\"\\ud83c\\uddea\\ud83c\\uddf8\",\"orientation\":\"h\",\"showlegend\":true,\"textposition\":\"auto\",\"x\":[30],\"xaxis\":\"x\",\"y\":[\"\\ud83c\\uddea\\ud83c\\uddf8\"],\"yaxis\":\"y\",\"type\":\"bar\"},{\"alignmentgroup\":\"True\",\"hovertemplate\":\"<b>%{hovertext}</b><br><br>flag=%{y}<br>date=2022-01-31<br>clicks=%{x}<extra></extra>\",\"hovertext\":[\"can\"],\"legendgroup\":\"\\ud83c\\udde8\\ud83c\\udde6\",\"marker\":{\"color\":\"#E377C2\",\"pattern\":{\"shape\":\"\"}},\"name\":\"\\ud83c\\udde8\\ud83c\\udde6\",\"offsetgroup\":\"\\ud83c\\udde8\\ud83c\\udde6\",\"orientation\":\"h\",\"showlegend\":true,\"textposition\":\"auto\",\"x\":[28],\"xaxis\":\"x\",\"y\":[\"\\ud83c\\udde8\\ud83c\\udde6\"],\"yaxis\":\"y\",\"type\":\"bar\"},{\"alignmentgroup\":\"True\",\"hovertemplate\":\"<b>%{hovertext}</b><br><br>flag=%{y}<br>date=2022-01-31<br>clicks=%{x}<extra></extra>\",\"hovertext\":[\"tur\"],\"legendgroup\":\"\\ud83c\\uddf9\\ud83c\\uddf7\",\"marker\":{\"color\":\"#7F7F7F\",\"pattern\":{\"shape\":\"\"}},\"name\":\"\\ud83c\\uddf9\\ud83c\\uddf7\",\"offsetgroup\":\"\\ud83c\\uddf9\\ud83c\\uddf7\",\"orientation\":\"h\",\"showlegend\":true,\"textposition\":\"auto\",\"x\":[26],\"xaxis\":\"x\",\"y\":[\"\\ud83c\\uddf9\\ud83c\\uddf7\"],\"yaxis\":\"y\",\"type\":\"bar\"},{\"alignmentgroup\":\"True\",\"hovertemplate\":\"<b>%{hovertext}</b><br><br>flag=%{y}<br>date=2022-01-31<br>clicks=%{x}<extra></extra>\",\"hovertext\":[\"ita\"],\"legendgroup\":\"\\ud83c\\uddee\\ud83c\\uddf9\",\"marker\":{\"color\":\"#BCBD22\",\"pattern\":{\"shape\":\"\"}},\"name\":\"\\ud83c\\uddee\\ud83c\\uddf9\",\"offsetgroup\":\"\\ud83c\\uddee\\ud83c\\uddf9\",\"orientation\":\"h\",\"showlegend\":true,\"textposition\":\"auto\",\"x\":[23],\"xaxis\":\"x\",\"y\":[\"\\ud83c\\uddee\\ud83c\\uddf9\"],\"yaxis\":\"y\",\"type\":\"bar\"},{\"alignmentgroup\":\"True\",\"hovertemplate\":\"<b>%{hovertext}</b><br><br>flag=%{y}<br>date=2022-01-31<br>clicks=%{x}<extra></extra>\",\"hovertext\":[\"nld\"],\"legendgroup\":\"\\ud83c\\uddf3\\ud83c\\uddf1\",\"marker\":{\"color\":\"#17BECF\",\"pattern\":{\"shape\":\"\"}},\"name\":\"\\ud83c\\uddf3\\ud83c\\uddf1\",\"offsetgroup\":\"\\ud83c\\uddf3\\ud83c\\uddf1\",\"orientation\":\"h\",\"showlegend\":true,\"textposition\":\"auto\",\"x\":[23],\"xaxis\":\"x\",\"y\":[\"\\ud83c\\uddf3\\ud83c\\uddf1\"],\"yaxis\":\"y\",\"type\":\"bar\"},{\"alignmentgroup\":\"True\",\"hovertemplate\":\"<b>%{hovertext}</b><br><br>flag=%{y}<br>date=2022-01-31<br>clicks=%{x}<extra></extra>\",\"hovertext\":[\"pak\"],\"legendgroup\":\"\\ud83c\\uddf5\\ud83c\\uddf0\",\"marker\":{\"color\":\"#1F77B4\",\"pattern\":{\"shape\":\"\"}},\"name\":\"\\ud83c\\uddf5\\ud83c\\uddf0\",\"offsetgroup\":\"\\ud83c\\uddf5\\ud83c\\uddf0\",\"orientation\":\"h\",\"showlegend\":true,\"textposition\":\"auto\",\"x\":[18],\"xaxis\":\"x\",\"y\":[\"\\ud83c\\uddf5\\ud83c\\uddf0\"],\"yaxis\":\"y\",\"type\":\"bar\"},{\"alignmentgroup\":\"True\",\"hovertemplate\":\"<b>%{hovertext}</b><br><br>flag=%{y}<br>date=2022-01-31<br>clicks=%{x}<extra></extra>\",\"hovertext\":[\"pol\"],\"legendgroup\":\"\\ud83c\\uddf5\\ud83c\\uddf1\",\"marker\":{\"color\":\"#FF7F0E\",\"pattern\":{\"shape\":\"\"}},\"name\":\"\\ud83c\\uddf5\\ud83c\\uddf1\",\"offsetgroup\":\"\\ud83c\\uddf5\\ud83c\\uddf1\",\"orientation\":\"h\",\"showlegend\":true,\"textposition\":\"auto\",\"x\":[18],\"xaxis\":\"x\",\"y\":[\"\\ud83c\\uddf5\\ud83c\\uddf1\"],\"yaxis\":\"y\",\"type\":\"bar\"},{\"alignmentgroup\":\"True\",\"hovertemplate\":\"<b>%{hovertext}</b><br><br>flag=%{y}<br>date=2022-01-31<br>clicks=%{x}<extra></extra>\",\"hovertext\":[\"rus\"],\"legendgroup\":\"\\ud83c\\uddf7\\ud83c\\uddfa\",\"marker\":{\"color\":\"#2CA02C\",\"pattern\":{\"shape\":\"\"}},\"name\":\"\\ud83c\\uddf7\\ud83c\\uddfa\",\"offsetgroup\":\"\\ud83c\\uddf7\\ud83c\\uddfa\",\"orientation\":\"h\",\"showlegend\":true,\"textposition\":\"auto\",\"x\":[18],\"xaxis\":\"x\",\"y\":[\"\\ud83c\\uddf7\\ud83c\\uddfa\"],\"yaxis\":\"y\",\"type\":\"bar\"},{\"alignmentgroup\":\"True\",\"hovertemplate\":\"<b>%{hovertext}</b><br><br>flag=%{y}<br>date=2022-01-31<br>clicks=%{x}<extra></extra>\",\"hovertext\":[\"vnm\"],\"legendgroup\":\"\\ud83c\\uddfb\\ud83c\\uddf3\",\"marker\":{\"color\":\"#D62728\",\"pattern\":{\"shape\":\"\"}},\"name\":\"\\ud83c\\uddfb\\ud83c\\uddf3\",\"offsetgroup\":\"\\ud83c\\uddfb\\ud83c\\uddf3\",\"orientation\":\"h\",\"showlegend\":true,\"textposition\":\"auto\",\"x\":[9],\"xaxis\":\"x\",\"y\":[\"\\ud83c\\uddfb\\ud83c\\uddf3\"],\"yaxis\":\"y\",\"type\":\"bar\"},{\"alignmentgroup\":\"True\",\"hovertemplate\":\"<b>%{hovertext}</b><br><br>flag=%{y}<br>date=2022-01-31<br>clicks=%{x}<extra></extra>\",\"hovertext\":[\"irn\"],\"legendgroup\":\"\\ud83c\\uddee\\ud83c\\uddf7\",\"marker\":{\"color\":\"#9467BD\",\"pattern\":{\"shape\":\"\"}},\"name\":\"\\ud83c\\uddee\\ud83c\\uddf7\",\"offsetgroup\":\"\\ud83c\\uddee\\ud83c\\uddf7\",\"orientation\":\"h\",\"showlegend\":true,\"textposition\":\"auto\",\"x\":[5],\"xaxis\":\"x\",\"y\":[\"\\ud83c\\uddee\\ud83c\\uddf7\"],\"yaxis\":\"y\",\"type\":\"bar\"}],                        {\"template\":{\"data\":{\"barpolar\":[{\"marker\":{\"line\":{\"color\":\"rgb(17,17,17)\",\"width\":0.5},\"pattern\":{\"fillmode\":\"overlay\",\"size\":10,\"solidity\":0.2}},\"type\":\"barpolar\"}],\"bar\":[{\"error_x\":{\"color\":\"#f2f5fa\"},\"error_y\":{\"color\":\"#f2f5fa\"},\"marker\":{\"line\":{\"color\":\"rgb(17,17,17)\",\"width\":0.5},\"pattern\":{\"fillmode\":\"overlay\",\"size\":10,\"solidity\":0.2}},\"type\":\"bar\"}],\"carpet\":[{\"aaxis\":{\"endlinecolor\":\"#A2B1C6\",\"gridcolor\":\"#506784\",\"linecolor\":\"#506784\",\"minorgridcolor\":\"#506784\",\"startlinecolor\":\"#A2B1C6\"},\"baxis\":{\"endlinecolor\":\"#A2B1C6\",\"gridcolor\":\"#506784\",\"linecolor\":\"#506784\",\"minorgridcolor\":\"#506784\",\"startlinecolor\":\"#A2B1C6\"},\"type\":\"carpet\"}],\"choropleth\":[{\"colorbar\":{\"outlinewidth\":0,\"ticks\":\"\"},\"type\":\"choropleth\"}],\"contourcarpet\":[{\"colorbar\":{\"outlinewidth\":0,\"ticks\":\"\"},\"type\":\"contourcarpet\"}],\"contour\":[{\"colorbar\":{\"outlinewidth\":0,\"ticks\":\"\"},\"colorscale\":[[0.0,\"#0d0887\"],[0.1111111111111111,\"#46039f\"],[0.2222222222222222,\"#7201a8\"],[0.3333333333333333,\"#9c179e\"],[0.4444444444444444,\"#bd3786\"],[0.5555555555555556,\"#d8576b\"],[0.6666666666666666,\"#ed7953\"],[0.7777777777777778,\"#fb9f3a\"],[0.8888888888888888,\"#fdca26\"],[1.0,\"#f0f921\"]],\"type\":\"contour\"}],\"heatmapgl\":[{\"colorbar\":{\"outlinewidth\":0,\"ticks\":\"\"},\"colorscale\":[[0.0,\"#0d0887\"],[0.1111111111111111,\"#46039f\"],[0.2222222222222222,\"#7201a8\"],[0.3333333333333333,\"#9c179e\"],[0.4444444444444444,\"#bd3786\"],[0.5555555555555556,\"#d8576b\"],[0.6666666666666666,\"#ed7953\"],[0.7777777777777778,\"#fb9f3a\"],[0.8888888888888888,\"#fdca26\"],[1.0,\"#f0f921\"]],\"type\":\"heatmapgl\"}],\"heatmap\":[{\"colorbar\":{\"outlinewidth\":0,\"ticks\":\"\"},\"colorscale\":[[0.0,\"#0d0887\"],[0.1111111111111111,\"#46039f\"],[0.2222222222222222,\"#7201a8\"],[0.3333333333333333,\"#9c179e\"],[0.4444444444444444,\"#bd3786\"],[0.5555555555555556,\"#d8576b\"],[0.6666666666666666,\"#ed7953\"],[0.7777777777777778,\"#fb9f3a\"],[0.8888888888888888,\"#fdca26\"],[1.0,\"#f0f921\"]],\"type\":\"heatmap\"}],\"histogram2dcontour\":[{\"colorbar\":{\"outlinewidth\":0,\"ticks\":\"\"},\"colorscale\":[[0.0,\"#0d0887\"],[0.1111111111111111,\"#46039f\"],[0.2222222222222222,\"#7201a8\"],[0.3333333333333333,\"#9c179e\"],[0.4444444444444444,\"#bd3786\"],[0.5555555555555556,\"#d8576b\"],[0.6666666666666666,\"#ed7953\"],[0.7777777777777778,\"#fb9f3a\"],[0.8888888888888888,\"#fdca26\"],[1.0,\"#f0f921\"]],\"type\":\"histogram2dcontour\"}],\"histogram2d\":[{\"colorbar\":{\"outlinewidth\":0,\"ticks\":\"\"},\"colorscale\":[[0.0,\"#0d0887\"],[0.1111111111111111,\"#46039f\"],[0.2222222222222222,\"#7201a8\"],[0.3333333333333333,\"#9c179e\"],[0.4444444444444444,\"#bd3786\"],[0.5555555555555556,\"#d8576b\"],[0.6666666666666666,\"#ed7953\"],[0.7777777777777778,\"#fb9f3a\"],[0.8888888888888888,\"#fdca26\"],[1.0,\"#f0f921\"]],\"type\":\"histogram2d\"}],\"histogram\":[{\"marker\":{\"pattern\":{\"fillmode\":\"overlay\",\"size\":10,\"solidity\":0.2}},\"type\":\"histogram\"}],\"mesh3d\":[{\"colorbar\":{\"outlinewidth\":0,\"ticks\":\"\"},\"type\":\"mesh3d\"}],\"parcoords\":[{\"line\":{\"colorbar\":{\"outlinewidth\":0,\"ticks\":\"\"}},\"type\":\"parcoords\"}],\"pie\":[{\"automargin\":true,\"type\":\"pie\"}],\"scatter3d\":[{\"line\":{\"colorbar\":{\"outlinewidth\":0,\"ticks\":\"\"}},\"marker\":{\"colorbar\":{\"outlinewidth\":0,\"ticks\":\"\"}},\"type\":\"scatter3d\"}],\"scattercarpet\":[{\"marker\":{\"colorbar\":{\"outlinewidth\":0,\"ticks\":\"\"}},\"type\":\"scattercarpet\"}],\"scattergeo\":[{\"marker\":{\"colorbar\":{\"outlinewidth\":0,\"ticks\":\"\"}},\"type\":\"scattergeo\"}],\"scattergl\":[{\"marker\":{\"line\":{\"color\":\"#283442\"}},\"type\":\"scattergl\"}],\"scattermapbox\":[{\"marker\":{\"colorbar\":{\"outlinewidth\":0,\"ticks\":\"\"}},\"type\":\"scattermapbox\"}],\"scatterpolargl\":[{\"marker\":{\"colorbar\":{\"outlinewidth\":0,\"ticks\":\"\"}},\"type\":\"scatterpolargl\"}],\"scatterpolar\":[{\"marker\":{\"colorbar\":{\"outlinewidth\":0,\"ticks\":\"\"}},\"type\":\"scatterpolar\"}],\"scatter\":[{\"marker\":{\"line\":{\"color\":\"#283442\"}},\"type\":\"scatter\"}],\"scatterternary\":[{\"marker\":{\"colorbar\":{\"outlinewidth\":0,\"ticks\":\"\"}},\"type\":\"scatterternary\"}],\"surface\":[{\"colorbar\":{\"outlinewidth\":0,\"ticks\":\"\"},\"colorscale\":[[0.0,\"#0d0887\"],[0.1111111111111111,\"#46039f\"],[0.2222222222222222,\"#7201a8\"],[0.3333333333333333,\"#9c179e\"],[0.4444444444444444,\"#bd3786\"],[0.5555555555555556,\"#d8576b\"],[0.6666666666666666,\"#ed7953\"],[0.7777777777777778,\"#fb9f3a\"],[0.8888888888888888,\"#fdca26\"],[1.0,\"#f0f921\"]],\"type\":\"surface\"}],\"table\":[{\"cells\":{\"fill\":{\"color\":\"#506784\"},\"line\":{\"color\":\"rgb(17,17,17)\"}},\"header\":{\"fill\":{\"color\":\"#2a3f5f\"},\"line\":{\"color\":\"rgb(17,17,17)\"}},\"type\":\"table\"}]},\"layout\":{\"annotationdefaults\":{\"arrowcolor\":\"#f2f5fa\",\"arrowhead\":0,\"arrowwidth\":1},\"autotypenumbers\":\"strict\",\"coloraxis\":{\"colorbar\":{\"outlinewidth\":0,\"ticks\":\"\"}},\"colorscale\":{\"diverging\":[[0,\"#8e0152\"],[0.1,\"#c51b7d\"],[0.2,\"#de77ae\"],[0.3,\"#f1b6da\"],[0.4,\"#fde0ef\"],[0.5,\"#f7f7f7\"],[0.6,\"#e6f5d0\"],[0.7,\"#b8e186\"],[0.8,\"#7fbc41\"],[0.9,\"#4d9221\"],[1,\"#276419\"]],\"sequential\":[[0.0,\"#0d0887\"],[0.1111111111111111,\"#46039f\"],[0.2222222222222222,\"#7201a8\"],[0.3333333333333333,\"#9c179e\"],[0.4444444444444444,\"#bd3786\"],[0.5555555555555556,\"#d8576b\"],[0.6666666666666666,\"#ed7953\"],[0.7777777777777778,\"#fb9f3a\"],[0.8888888888888888,\"#fdca26\"],[1.0,\"#f0f921\"]],\"sequentialminus\":[[0.0,\"#0d0887\"],[0.1111111111111111,\"#46039f\"],[0.2222222222222222,\"#7201a8\"],[0.3333333333333333,\"#9c179e\"],[0.4444444444444444,\"#bd3786\"],[0.5555555555555556,\"#d8576b\"],[0.6666666666666666,\"#ed7953\"],[0.7777777777777778,\"#fb9f3a\"],[0.8888888888888888,\"#fdca26\"],[1.0,\"#f0f921\"]]},\"colorway\":[\"#636efa\",\"#EF553B\",\"#00cc96\",\"#ab63fa\",\"#FFA15A\",\"#19d3f3\",\"#FF6692\",\"#B6E880\",\"#FF97FF\",\"#FECB52\"],\"font\":{\"color\":\"#f2f5fa\"},\"geo\":{\"bgcolor\":\"rgb(17,17,17)\",\"lakecolor\":\"rgb(17,17,17)\",\"landcolor\":\"rgb(17,17,17)\",\"showlakes\":true,\"showland\":true,\"subunitcolor\":\"#506784\"},\"hoverlabel\":{\"align\":\"left\"},\"hovermode\":\"closest\",\"mapbox\":{\"style\":\"dark\"},\"paper_bgcolor\":\"rgb(17,17,17)\",\"plot_bgcolor\":\"rgb(17,17,17)\",\"polar\":{\"angularaxis\":{\"gridcolor\":\"#506784\",\"linecolor\":\"#506784\",\"ticks\":\"\"},\"bgcolor\":\"rgb(17,17,17)\",\"radialaxis\":{\"gridcolor\":\"#506784\",\"linecolor\":\"#506784\",\"ticks\":\"\"}},\"scene\":{\"xaxis\":{\"backgroundcolor\":\"rgb(17,17,17)\",\"gridcolor\":\"#506784\",\"gridwidth\":2,\"linecolor\":\"#506784\",\"showbackground\":true,\"ticks\":\"\",\"zerolinecolor\":\"#C8D4E3\"},\"yaxis\":{\"backgroundcolor\":\"rgb(17,17,17)\",\"gridcolor\":\"#506784\",\"gridwidth\":2,\"linecolor\":\"#506784\",\"showbackground\":true,\"ticks\":\"\",\"zerolinecolor\":\"#C8D4E3\"},\"zaxis\":{\"backgroundcolor\":\"rgb(17,17,17)\",\"gridcolor\":\"#506784\",\"gridwidth\":2,\"linecolor\":\"#506784\",\"showbackground\":true,\"ticks\":\"\",\"zerolinecolor\":\"#C8D4E3\"}},\"shapedefaults\":{\"line\":{\"color\":\"#f2f5fa\"}},\"sliderdefaults\":{\"bgcolor\":\"#C8D4E3\",\"bordercolor\":\"rgb(17,17,17)\",\"borderwidth\":1,\"tickwidth\":0},\"ternary\":{\"aaxis\":{\"gridcolor\":\"#506784\",\"linecolor\":\"#506784\",\"ticks\":\"\"},\"baxis\":{\"gridcolor\":\"#506784\",\"linecolor\":\"#506784\",\"ticks\":\"\"},\"bgcolor\":\"rgb(17,17,17)\",\"caxis\":{\"gridcolor\":\"#506784\",\"linecolor\":\"#506784\",\"ticks\":\"\"}},\"title\":{\"x\":0.05},\"updatemenudefaults\":{\"bgcolor\":\"#506784\",\"borderwidth\":0},\"xaxis\":{\"automargin\":true,\"gridcolor\":\"#283442\",\"linecolor\":\"#506784\",\"ticks\":\"\",\"title\":{\"standoff\":15},\"zerolinecolor\":\"#283442\",\"zerolinewidth\":2},\"yaxis\":{\"automargin\":true,\"gridcolor\":\"#283442\",\"linecolor\":\"#506784\",\"ticks\":\"\",\"title\":{\"standoff\":15},\"zerolinecolor\":\"#283442\",\"zerolinewidth\":2}}},\"xaxis\":{\"anchor\":\"y\",\"domain\":[0.0,1.0],\"title\":{\"text\":\"clicks\"}},\"yaxis\":{\"anchor\":\"x\",\"domain\":[0.0,1.0],\"categoryorder\":\"array\",\"categoryarray\":[\"\\ud83c\\uddf5\\ud83c\\uddf0\",\"\\ud83c\\uddfb\\ud83c\\uddf3\",\"\\ud83c\\uddee\\ud83c\\uddf7\",\"\\ud83c\\uddf7\\ud83c\\uddfa\",\"\\ud83c\\uddf5\\ud83c\\uddf1\",\"\\ud83c\\uddf3\\ud83c\\uddf1\",\"\\ud83c\\udde8\\ud83c\\udde6\",\"\\ud83c\\uddf9\\ud83c\\uddf7\",\"\\ud83c\\uddea\\ud83c\\uddf8\",\"\\ud83c\\uddee\\ud83c\\uddf9\",\"\\ud83c\\uddec\\ud83c\\udde7\",\"\\ud83c\\uddeb\\ud83c\\uddf7\",\"\\ud83c\\udde9\\ud83c\\uddea\",\"\\ud83c\\uddfa\\ud83c\\uddf8\",\"\\ud83c\\uddee\\ud83c\\uddf3\"],\"tickfont\":{\"size\":25}},\"legend\":{\"title\":{\"text\":\"flag\"},\"tracegroupgap\":0},\"title\":{\"text\":\"<b>Google Search Console - Top 15 countries clicks</b><br>2022 monthly. By: <a href=\\\"https://twitter.com/eliasdabbas\\\">@EliasDabbas<a>\"},\"barmode\":\"relative\",\"height\":750,\"updatemenus\":[{\"buttons\":[{\"args\":[null,{\"frame\":{\"duration\":500,\"redraw\":true},\"mode\":\"immediate\",\"fromcurrent\":true,\"transition\":{\"duration\":500,\"easing\":\"linear\"}}],\"label\":\"&#9654;\",\"method\":\"animate\"},{\"args\":[[null],{\"frame\":{\"duration\":0,\"redraw\":true},\"mode\":\"immediate\",\"fromcurrent\":true,\"transition\":{\"duration\":0,\"easing\":\"linear\"}}],\"label\":\"&#9724;\",\"method\":\"animate\"}],\"direction\":\"left\",\"pad\":{\"r\":10,\"t\":70},\"showactive\":false,\"type\":\"buttons\",\"x\":0.1,\"xanchor\":\"right\",\"y\":0,\"yanchor\":\"top\"}],\"sliders\":[{\"active\":0,\"currentvalue\":{\"prefix\":\"date=\"},\"len\":0.9,\"pad\":{\"b\":10,\"t\":60},\"steps\":[{\"args\":[[\"2022-01-31\"],{\"frame\":{\"duration\":0,\"redraw\":true},\"mode\":\"immediate\",\"fromcurrent\":true,\"transition\":{\"duration\":0,\"easing\":\"linear\"}}],\"label\":\"2022-01-31\",\"method\":\"animate\"},{\"args\":[[\"2022-02-28\"],{\"frame\":{\"duration\":0,\"redraw\":true},\"mode\":\"immediate\",\"fromcurrent\":true,\"transition\":{\"duration\":0,\"easing\":\"linear\"}}],\"label\":\"2022-02-28\",\"method\":\"animate\"},{\"args\":[[\"2022-03-31\"],{\"frame\":{\"duration\":0,\"redraw\":true},\"mode\":\"immediate\",\"fromcurrent\":true,\"transition\":{\"duration\":0,\"easing\":\"linear\"}}],\"label\":\"2022-03-31\",\"method\":\"animate\"},{\"args\":[[\"2022-04-30\"],{\"frame\":{\"duration\":0,\"redraw\":true},\"mode\":\"immediate\",\"fromcurrent\":true,\"transition\":{\"duration\":0,\"easing\":\"linear\"}}],\"label\":\"2022-04-30\",\"method\":\"animate\"},{\"args\":[[\"2022-05-31\"],{\"frame\":{\"duration\":0,\"redraw\":true},\"mode\":\"immediate\",\"fromcurrent\":true,\"transition\":{\"duration\":0,\"easing\":\"linear\"}}],\"label\":\"2022-05-31\",\"method\":\"animate\"},{\"args\":[[\"2022-06-30\"],{\"frame\":{\"duration\":0,\"redraw\":true},\"mode\":\"immediate\",\"fromcurrent\":true,\"transition\":{\"duration\":0,\"easing\":\"linear\"}}],\"label\":\"2022-06-30\",\"method\":\"animate\"},{\"args\":[[\"2022-07-31\"],{\"frame\":{\"duration\":0,\"redraw\":true},\"mode\":\"immediate\",\"fromcurrent\":true,\"transition\":{\"duration\":0,\"easing\":\"linear\"}}],\"label\":\"2022-07-31\",\"method\":\"animate\"},{\"args\":[[\"2022-08-31\"],{\"frame\":{\"duration\":0,\"redraw\":true},\"mode\":\"immediate\",\"fromcurrent\":true,\"transition\":{\"duration\":0,\"easing\":\"linear\"}}],\"label\":\"2022-08-31\",\"method\":\"animate\"},{\"args\":[[\"2022-09-30\"],{\"frame\":{\"duration\":0,\"redraw\":true},\"mode\":\"immediate\",\"fromcurrent\":true,\"transition\":{\"duration\":0,\"easing\":\"linear\"}}],\"label\":\"2022-09-30\",\"method\":\"animate\"},{\"args\":[[\"2022-10-31\"],{\"frame\":{\"duration\":0,\"redraw\":true},\"mode\":\"immediate\",\"fromcurrent\":true,\"transition\":{\"duration\":0,\"easing\":\"linear\"}}],\"label\":\"2022-10-31\",\"method\":\"animate\"},{\"args\":[[\"2022-11-30\"],{\"frame\":{\"duration\":0,\"redraw\":true},\"mode\":\"immediate\",\"fromcurrent\":true,\"transition\":{\"duration\":0,\"easing\":\"linear\"}}],\"label\":\"2022-11-30\",\"method\":\"animate\"},{\"args\":[[\"2022-12-31\"],{\"frame\":{\"duration\":0,\"redraw\":true},\"mode\":\"immediate\",\"fromcurrent\":true,\"transition\":{\"duration\":0,\"easing\":\"linear\"}}],\"label\":\"2022-12-31\",\"method\":\"animate\"}],\"x\":0.1,\"xanchor\":\"left\",\"y\":0,\"yanchor\":\"top\"}],\"showlegend\":false},                        {\"responsive\": true}                    ).then(function(){\n",
       "                            Plotly.addFrames('d57fa33e-ed08-4d09-8611-8d38b41ad99f', [{\"data\":[{\"alignmentgroup\":\"True\",\"hovertemplate\":\"<b>%{hovertext}</b><br><br>flag=%{y}<br>date=2022-01-31<br>clicks=%{x}<extra></extra>\",\"hovertext\":[\"usa\"],\"legendgroup\":\"\\ud83c\\uddfa\\ud83c\\uddf8\",\"marker\":{\"color\":\"#1F77B4\",\"pattern\":{\"shape\":\"\"}},\"name\":\"\\ud83c\\uddfa\\ud83c\\uddf8\",\"offsetgroup\":\"\\ud83c\\uddfa\\ud83c\\uddf8\",\"orientation\":\"h\",\"showlegend\":true,\"textposition\":\"auto\",\"x\":[185],\"xaxis\":\"x\",\"y\":[\"\\ud83c\\uddfa\\ud83c\\uddf8\"],\"yaxis\":\"y\",\"type\":\"bar\"},{\"alignmentgroup\":\"True\",\"hovertemplate\":\"<b>%{hovertext}</b><br><br>flag=%{y}<br>date=2022-01-31<br>clicks=%{x}<extra></extra>\",\"hovertext\":[\"ind\"],\"legendgroup\":\"\\ud83c\\uddee\\ud83c\\uddf3\",\"marker\":{\"color\":\"#FF7F0E\",\"pattern\":{\"shape\":\"\"}},\"name\":\"\\ud83c\\uddee\\ud83c\\uddf3\",\"offsetgroup\":\"\\ud83c\\uddee\\ud83c\\uddf3\",\"orientation\":\"h\",\"showlegend\":true,\"textposition\":\"auto\",\"x\":[157],\"xaxis\":\"x\",\"y\":[\"\\ud83c\\uddee\\ud83c\\uddf3\"],\"yaxis\":\"y\",\"type\":\"bar\"},{\"alignmentgroup\":\"True\",\"hovertemplate\":\"<b>%{hovertext}</b><br><br>flag=%{y}<br>date=2022-01-31<br>clicks=%{x}<extra></extra>\",\"hovertext\":[\"deu\"],\"legendgroup\":\"\\ud83c\\udde9\\ud83c\\uddea\",\"marker\":{\"color\":\"#2CA02C\",\"pattern\":{\"shape\":\"\"}},\"name\":\"\\ud83c\\udde9\\ud83c\\uddea\",\"offsetgroup\":\"\\ud83c\\udde9\\ud83c\\uddea\",\"orientation\":\"h\",\"showlegend\":true,\"textposition\":\"auto\",\"x\":[69],\"xaxis\":\"x\",\"y\":[\"\\ud83c\\udde9\\ud83c\\uddea\"],\"yaxis\":\"y\",\"type\":\"bar\"},{\"alignmentgroup\":\"True\",\"hovertemplate\":\"<b>%{hovertext}</b><br><br>flag=%{y}<br>date=2022-01-31<br>clicks=%{x}<extra></extra>\",\"hovertext\":[\"gbr\"],\"legendgroup\":\"\\ud83c\\uddec\\ud83c\\udde7\",\"marker\":{\"color\":\"#D62728\",\"pattern\":{\"shape\":\"\"}},\"name\":\"\\ud83c\\uddec\\ud83c\\udde7\",\"offsetgroup\":\"\\ud83c\\uddec\\ud83c\\udde7\",\"orientation\":\"h\",\"showlegend\":true,\"textposition\":\"auto\",\"x\":[64],\"xaxis\":\"x\",\"y\":[\"\\ud83c\\uddec\\ud83c\\udde7\"],\"yaxis\":\"y\",\"type\":\"bar\"},{\"alignmentgroup\":\"True\",\"hovertemplate\":\"<b>%{hovertext}</b><br><br>flag=%{y}<br>date=2022-01-31<br>clicks=%{x}<extra></extra>\",\"hovertext\":[\"fra\"],\"legendgroup\":\"\\ud83c\\uddeb\\ud83c\\uddf7\",\"marker\":{\"color\":\"#9467BD\",\"pattern\":{\"shape\":\"\"}},\"name\":\"\\ud83c\\uddeb\\ud83c\\uddf7\",\"offsetgroup\":\"\\ud83c\\uddeb\\ud83c\\uddf7\",\"orientation\":\"h\",\"showlegend\":true,\"textposition\":\"auto\",\"x\":[58],\"xaxis\":\"x\",\"y\":[\"\\ud83c\\uddeb\\ud83c\\uddf7\"],\"yaxis\":\"y\",\"type\":\"bar\"},{\"alignmentgroup\":\"True\",\"hovertemplate\":\"<b>%{hovertext}</b><br><br>flag=%{y}<br>date=2022-01-31<br>clicks=%{x}<extra></extra>\",\"hovertext\":[\"esp\"],\"legendgroup\":\"\\ud83c\\uddea\\ud83c\\uddf8\",\"marker\":{\"color\":\"#8C564B\",\"pattern\":{\"shape\":\"\"}},\"name\":\"\\ud83c\\uddea\\ud83c\\uddf8\",\"offsetgroup\":\"\\ud83c\\uddea\\ud83c\\uddf8\",\"orientation\":\"h\",\"showlegend\":true,\"textposition\":\"auto\",\"x\":[30],\"xaxis\":\"x\",\"y\":[\"\\ud83c\\uddea\\ud83c\\uddf8\"],\"yaxis\":\"y\",\"type\":\"bar\"},{\"alignmentgroup\":\"True\",\"hovertemplate\":\"<b>%{hovertext}</b><br><br>flag=%{y}<br>date=2022-01-31<br>clicks=%{x}<extra></extra>\",\"hovertext\":[\"can\"],\"legendgroup\":\"\\ud83c\\udde8\\ud83c\\udde6\",\"marker\":{\"color\":\"#E377C2\",\"pattern\":{\"shape\":\"\"}},\"name\":\"\\ud83c\\udde8\\ud83c\\udde6\",\"offsetgroup\":\"\\ud83c\\udde8\\ud83c\\udde6\",\"orientation\":\"h\",\"showlegend\":true,\"textposition\":\"auto\",\"x\":[28],\"xaxis\":\"x\",\"y\":[\"\\ud83c\\udde8\\ud83c\\udde6\"],\"yaxis\":\"y\",\"type\":\"bar\"},{\"alignmentgroup\":\"True\",\"hovertemplate\":\"<b>%{hovertext}</b><br><br>flag=%{y}<br>date=2022-01-31<br>clicks=%{x}<extra></extra>\",\"hovertext\":[\"tur\"],\"legendgroup\":\"\\ud83c\\uddf9\\ud83c\\uddf7\",\"marker\":{\"color\":\"#7F7F7F\",\"pattern\":{\"shape\":\"\"}},\"name\":\"\\ud83c\\uddf9\\ud83c\\uddf7\",\"offsetgroup\":\"\\ud83c\\uddf9\\ud83c\\uddf7\",\"orientation\":\"h\",\"showlegend\":true,\"textposition\":\"auto\",\"x\":[26],\"xaxis\":\"x\",\"y\":[\"\\ud83c\\uddf9\\ud83c\\uddf7\"],\"yaxis\":\"y\",\"type\":\"bar\"},{\"alignmentgroup\":\"True\",\"hovertemplate\":\"<b>%{hovertext}</b><br><br>flag=%{y}<br>date=2022-01-31<br>clicks=%{x}<extra></extra>\",\"hovertext\":[\"ita\"],\"legendgroup\":\"\\ud83c\\uddee\\ud83c\\uddf9\",\"marker\":{\"color\":\"#BCBD22\",\"pattern\":{\"shape\":\"\"}},\"name\":\"\\ud83c\\uddee\\ud83c\\uddf9\",\"offsetgroup\":\"\\ud83c\\uddee\\ud83c\\uddf9\",\"orientation\":\"h\",\"showlegend\":true,\"textposition\":\"auto\",\"x\":[23],\"xaxis\":\"x\",\"y\":[\"\\ud83c\\uddee\\ud83c\\uddf9\"],\"yaxis\":\"y\",\"type\":\"bar\"},{\"alignmentgroup\":\"True\",\"hovertemplate\":\"<b>%{hovertext}</b><br><br>flag=%{y}<br>date=2022-01-31<br>clicks=%{x}<extra></extra>\",\"hovertext\":[\"nld\"],\"legendgroup\":\"\\ud83c\\uddf3\\ud83c\\uddf1\",\"marker\":{\"color\":\"#17BECF\",\"pattern\":{\"shape\":\"\"}},\"name\":\"\\ud83c\\uddf3\\ud83c\\uddf1\",\"offsetgroup\":\"\\ud83c\\uddf3\\ud83c\\uddf1\",\"orientation\":\"h\",\"showlegend\":true,\"textposition\":\"auto\",\"x\":[23],\"xaxis\":\"x\",\"y\":[\"\\ud83c\\uddf3\\ud83c\\uddf1\"],\"yaxis\":\"y\",\"type\":\"bar\"},{\"alignmentgroup\":\"True\",\"hovertemplate\":\"<b>%{hovertext}</b><br><br>flag=%{y}<br>date=2022-01-31<br>clicks=%{x}<extra></extra>\",\"hovertext\":[\"pak\"],\"legendgroup\":\"\\ud83c\\uddf5\\ud83c\\uddf0\",\"marker\":{\"color\":\"#1F77B4\",\"pattern\":{\"shape\":\"\"}},\"name\":\"\\ud83c\\uddf5\\ud83c\\uddf0\",\"offsetgroup\":\"\\ud83c\\uddf5\\ud83c\\uddf0\",\"orientation\":\"h\",\"showlegend\":true,\"textposition\":\"auto\",\"x\":[18],\"xaxis\":\"x\",\"y\":[\"\\ud83c\\uddf5\\ud83c\\uddf0\"],\"yaxis\":\"y\",\"type\":\"bar\"},{\"alignmentgroup\":\"True\",\"hovertemplate\":\"<b>%{hovertext}</b><br><br>flag=%{y}<br>date=2022-01-31<br>clicks=%{x}<extra></extra>\",\"hovertext\":[\"pol\"],\"legendgroup\":\"\\ud83c\\uddf5\\ud83c\\uddf1\",\"marker\":{\"color\":\"#FF7F0E\",\"pattern\":{\"shape\":\"\"}},\"name\":\"\\ud83c\\uddf5\\ud83c\\uddf1\",\"offsetgroup\":\"\\ud83c\\uddf5\\ud83c\\uddf1\",\"orientation\":\"h\",\"showlegend\":true,\"textposition\":\"auto\",\"x\":[18],\"xaxis\":\"x\",\"y\":[\"\\ud83c\\uddf5\\ud83c\\uddf1\"],\"yaxis\":\"y\",\"type\":\"bar\"},{\"alignmentgroup\":\"True\",\"hovertemplate\":\"<b>%{hovertext}</b><br><br>flag=%{y}<br>date=2022-01-31<br>clicks=%{x}<extra></extra>\",\"hovertext\":[\"rus\"],\"legendgroup\":\"\\ud83c\\uddf7\\ud83c\\uddfa\",\"marker\":{\"color\":\"#2CA02C\",\"pattern\":{\"shape\":\"\"}},\"name\":\"\\ud83c\\uddf7\\ud83c\\uddfa\",\"offsetgroup\":\"\\ud83c\\uddf7\\ud83c\\uddfa\",\"orientation\":\"h\",\"showlegend\":true,\"textposition\":\"auto\",\"x\":[18],\"xaxis\":\"x\",\"y\":[\"\\ud83c\\uddf7\\ud83c\\uddfa\"],\"yaxis\":\"y\",\"type\":\"bar\"},{\"alignmentgroup\":\"True\",\"hovertemplate\":\"<b>%{hovertext}</b><br><br>flag=%{y}<br>date=2022-01-31<br>clicks=%{x}<extra></extra>\",\"hovertext\":[\"vnm\"],\"legendgroup\":\"\\ud83c\\uddfb\\ud83c\\uddf3\",\"marker\":{\"color\":\"#D62728\",\"pattern\":{\"shape\":\"\"}},\"name\":\"\\ud83c\\uddfb\\ud83c\\uddf3\",\"offsetgroup\":\"\\ud83c\\uddfb\\ud83c\\uddf3\",\"orientation\":\"h\",\"showlegend\":true,\"textposition\":\"auto\",\"x\":[9],\"xaxis\":\"x\",\"y\":[\"\\ud83c\\uddfb\\ud83c\\uddf3\"],\"yaxis\":\"y\",\"type\":\"bar\"},{\"alignmentgroup\":\"True\",\"hovertemplate\":\"<b>%{hovertext}</b><br><br>flag=%{y}<br>date=2022-01-31<br>clicks=%{x}<extra></extra>\",\"hovertext\":[\"irn\"],\"legendgroup\":\"\\ud83c\\uddee\\ud83c\\uddf7\",\"marker\":{\"color\":\"#9467BD\",\"pattern\":{\"shape\":\"\"}},\"name\":\"\\ud83c\\uddee\\ud83c\\uddf7\",\"offsetgroup\":\"\\ud83c\\uddee\\ud83c\\uddf7\",\"orientation\":\"h\",\"showlegend\":true,\"textposition\":\"auto\",\"x\":[5],\"xaxis\":\"x\",\"y\":[\"\\ud83c\\uddee\\ud83c\\uddf7\"],\"yaxis\":\"y\",\"type\":\"bar\"}],\"name\":\"2022-01-31\"},{\"data\":[{\"alignmentgroup\":\"True\",\"hovertemplate\":\"<b>%{hovertext}</b><br><br>flag=%{y}<br>date=2022-02-28<br>clicks=%{x}<extra></extra>\",\"hovertext\":[\"usa\"],\"legendgroup\":\"\\ud83c\\uddfa\\ud83c\\uddf8\",\"marker\":{\"color\":\"#1F77B4\",\"pattern\":{\"shape\":\"\"}},\"name\":\"\\ud83c\\uddfa\\ud83c\\uddf8\",\"offsetgroup\":\"\\ud83c\\uddfa\\ud83c\\uddf8\",\"orientation\":\"h\",\"showlegend\":true,\"textposition\":\"auto\",\"x\":[230],\"xaxis\":\"x\",\"y\":[\"\\ud83c\\uddfa\\ud83c\\uddf8\"],\"yaxis\":\"y\",\"type\":\"bar\"},{\"alignmentgroup\":\"True\",\"hovertemplate\":\"<b>%{hovertext}</b><br><br>flag=%{y}<br>date=2022-02-28<br>clicks=%{x}<extra></extra>\",\"hovertext\":[\"ind\"],\"legendgroup\":\"\\ud83c\\uddee\\ud83c\\uddf3\",\"marker\":{\"color\":\"#FF7F0E\",\"pattern\":{\"shape\":\"\"}},\"name\":\"\\ud83c\\uddee\\ud83c\\uddf3\",\"offsetgroup\":\"\\ud83c\\uddee\\ud83c\\uddf3\",\"orientation\":\"h\",\"showlegend\":true,\"textposition\":\"auto\",\"x\":[178],\"xaxis\":\"x\",\"y\":[\"\\ud83c\\uddee\\ud83c\\uddf3\"],\"yaxis\":\"y\",\"type\":\"bar\"},{\"alignmentgroup\":\"True\",\"hovertemplate\":\"<b>%{hovertext}</b><br><br>flag=%{y}<br>date=2022-02-28<br>clicks=%{x}<extra></extra>\",\"hovertext\":[\"deu\"],\"legendgroup\":\"\\ud83c\\udde9\\ud83c\\uddea\",\"marker\":{\"color\":\"#2CA02C\",\"pattern\":{\"shape\":\"\"}},\"name\":\"\\ud83c\\udde9\\ud83c\\uddea\",\"offsetgroup\":\"\\ud83c\\udde9\\ud83c\\uddea\",\"orientation\":\"h\",\"showlegend\":true,\"textposition\":\"auto\",\"x\":[67],\"xaxis\":\"x\",\"y\":[\"\\ud83c\\udde9\\ud83c\\uddea\"],\"yaxis\":\"y\",\"type\":\"bar\"},{\"alignmentgroup\":\"True\",\"hovertemplate\":\"<b>%{hovertext}</b><br><br>flag=%{y}<br>date=2022-02-28<br>clicks=%{x}<extra></extra>\",\"hovertext\":[\"gbr\"],\"legendgroup\":\"\\ud83c\\uddec\\ud83c\\udde7\",\"marker\":{\"color\":\"#D62728\",\"pattern\":{\"shape\":\"\"}},\"name\":\"\\ud83c\\uddec\\ud83c\\udde7\",\"offsetgroup\":\"\\ud83c\\uddec\\ud83c\\udde7\",\"orientation\":\"h\",\"showlegend\":true,\"textposition\":\"auto\",\"x\":[66],\"xaxis\":\"x\",\"y\":[\"\\ud83c\\uddec\\ud83c\\udde7\"],\"yaxis\":\"y\",\"type\":\"bar\"},{\"alignmentgroup\":\"True\",\"hovertemplate\":\"<b>%{hovertext}</b><br><br>flag=%{y}<br>date=2022-02-28<br>clicks=%{x}<extra></extra>\",\"hovertext\":[\"fra\"],\"legendgroup\":\"\\ud83c\\uddeb\\ud83c\\uddf7\",\"marker\":{\"color\":\"#9467BD\",\"pattern\":{\"shape\":\"\"}},\"name\":\"\\ud83c\\uddeb\\ud83c\\uddf7\",\"offsetgroup\":\"\\ud83c\\uddeb\\ud83c\\uddf7\",\"orientation\":\"h\",\"showlegend\":true,\"textposition\":\"auto\",\"x\":[63],\"xaxis\":\"x\",\"y\":[\"\\ud83c\\uddeb\\ud83c\\uddf7\"],\"yaxis\":\"y\",\"type\":\"bar\"},{\"alignmentgroup\":\"True\",\"hovertemplate\":\"<b>%{hovertext}</b><br><br>flag=%{y}<br>date=2022-02-28<br>clicks=%{x}<extra></extra>\",\"hovertext\":[\"esp\"],\"legendgroup\":\"\\ud83c\\uddea\\ud83c\\uddf8\",\"marker\":{\"color\":\"#8C564B\",\"pattern\":{\"shape\":\"\"}},\"name\":\"\\ud83c\\uddea\\ud83c\\uddf8\",\"offsetgroup\":\"\\ud83c\\uddea\\ud83c\\uddf8\",\"orientation\":\"h\",\"showlegend\":true,\"textposition\":\"auto\",\"x\":[28],\"xaxis\":\"x\",\"y\":[\"\\ud83c\\uddea\\ud83c\\uddf8\"],\"yaxis\":\"y\",\"type\":\"bar\"},{\"alignmentgroup\":\"True\",\"hovertemplate\":\"<b>%{hovertext}</b><br><br>flag=%{y}<br>date=2022-02-28<br>clicks=%{x}<extra></extra>\",\"hovertext\":[\"can\"],\"legendgroup\":\"\\ud83c\\udde8\\ud83c\\udde6\",\"marker\":{\"color\":\"#E377C2\",\"pattern\":{\"shape\":\"\"}},\"name\":\"\\ud83c\\udde8\\ud83c\\udde6\",\"offsetgroup\":\"\\ud83c\\udde8\\ud83c\\udde6\",\"orientation\":\"h\",\"showlegend\":true,\"textposition\":\"auto\",\"x\":[40],\"xaxis\":\"x\",\"y\":[\"\\ud83c\\udde8\\ud83c\\udde6\"],\"yaxis\":\"y\",\"type\":\"bar\"},{\"alignmentgroup\":\"True\",\"hovertemplate\":\"<b>%{hovertext}</b><br><br>flag=%{y}<br>date=2022-02-28<br>clicks=%{x}<extra></extra>\",\"hovertext\":[\"tur\"],\"legendgroup\":\"\\ud83c\\uddf9\\ud83c\\uddf7\",\"marker\":{\"color\":\"#7F7F7F\",\"pattern\":{\"shape\":\"\"}},\"name\":\"\\ud83c\\uddf9\\ud83c\\uddf7\",\"offsetgroup\":\"\\ud83c\\uddf9\\ud83c\\uddf7\",\"orientation\":\"h\",\"showlegend\":true,\"textposition\":\"auto\",\"x\":[24],\"xaxis\":\"x\",\"y\":[\"\\ud83c\\uddf9\\ud83c\\uddf7\"],\"yaxis\":\"y\",\"type\":\"bar\"},{\"alignmentgroup\":\"True\",\"hovertemplate\":\"<b>%{hovertext}</b><br><br>flag=%{y}<br>date=2022-02-28<br>clicks=%{x}<extra></extra>\",\"hovertext\":[\"ita\"],\"legendgroup\":\"\\ud83c\\uddee\\ud83c\\uddf9\",\"marker\":{\"color\":\"#BCBD22\",\"pattern\":{\"shape\":\"\"}},\"name\":\"\\ud83c\\uddee\\ud83c\\uddf9\",\"offsetgroup\":\"\\ud83c\\uddee\\ud83c\\uddf9\",\"orientation\":\"h\",\"showlegend\":true,\"textposition\":\"auto\",\"x\":[25],\"xaxis\":\"x\",\"y\":[\"\\ud83c\\uddee\\ud83c\\uddf9\"],\"yaxis\":\"y\",\"type\":\"bar\"},{\"alignmentgroup\":\"True\",\"hovertemplate\":\"<b>%{hovertext}</b><br><br>flag=%{y}<br>date=2022-02-28<br>clicks=%{x}<extra></extra>\",\"hovertext\":[\"nld\"],\"legendgroup\":\"\\ud83c\\uddf3\\ud83c\\uddf1\",\"marker\":{\"color\":\"#17BECF\",\"pattern\":{\"shape\":\"\"}},\"name\":\"\\ud83c\\uddf3\\ud83c\\uddf1\",\"offsetgroup\":\"\\ud83c\\uddf3\\ud83c\\uddf1\",\"orientation\":\"h\",\"showlegend\":true,\"textposition\":\"auto\",\"x\":[26],\"xaxis\":\"x\",\"y\":[\"\\ud83c\\uddf3\\ud83c\\uddf1\"],\"yaxis\":\"y\",\"type\":\"bar\"},{\"alignmentgroup\":\"True\",\"hovertemplate\":\"<b>%{hovertext}</b><br><br>flag=%{y}<br>date=2022-02-28<br>clicks=%{x}<extra></extra>\",\"hovertext\":[\"pak\"],\"legendgroup\":\"\\ud83c\\uddf5\\ud83c\\uddf0\",\"marker\":{\"color\":\"#1F77B4\",\"pattern\":{\"shape\":\"\"}},\"name\":\"\\ud83c\\uddf5\\ud83c\\uddf0\",\"offsetgroup\":\"\\ud83c\\uddf5\\ud83c\\uddf0\",\"orientation\":\"h\",\"showlegend\":true,\"textposition\":\"auto\",\"x\":[21],\"xaxis\":\"x\",\"y\":[\"\\ud83c\\uddf5\\ud83c\\uddf0\"],\"yaxis\":\"y\",\"type\":\"bar\"},{\"alignmentgroup\":\"True\",\"hovertemplate\":\"<b>%{hovertext}</b><br><br>flag=%{y}<br>date=2022-02-28<br>clicks=%{x}<extra></extra>\",\"hovertext\":[\"pol\"],\"legendgroup\":\"\\ud83c\\uddf5\\ud83c\\uddf1\",\"marker\":{\"color\":\"#FF7F0E\",\"pattern\":{\"shape\":\"\"}},\"name\":\"\\ud83c\\uddf5\\ud83c\\uddf1\",\"offsetgroup\":\"\\ud83c\\uddf5\\ud83c\\uddf1\",\"orientation\":\"h\",\"showlegend\":true,\"textposition\":\"auto\",\"x\":[27],\"xaxis\":\"x\",\"y\":[\"\\ud83c\\uddf5\\ud83c\\uddf1\"],\"yaxis\":\"y\",\"type\":\"bar\"},{\"alignmentgroup\":\"True\",\"hovertemplate\":\"<b>%{hovertext}</b><br><br>flag=%{y}<br>date=2022-02-28<br>clicks=%{x}<extra></extra>\",\"hovertext\":[\"rus\"],\"legendgroup\":\"\\ud83c\\uddf7\\ud83c\\uddfa\",\"marker\":{\"color\":\"#2CA02C\",\"pattern\":{\"shape\":\"\"}},\"name\":\"\\ud83c\\uddf7\\ud83c\\uddfa\",\"offsetgroup\":\"\\ud83c\\uddf7\\ud83c\\uddfa\",\"orientation\":\"h\",\"showlegend\":true,\"textposition\":\"auto\",\"x\":[17],\"xaxis\":\"x\",\"y\":[\"\\ud83c\\uddf7\\ud83c\\uddfa\"],\"yaxis\":\"y\",\"type\":\"bar\"},{\"alignmentgroup\":\"True\",\"hovertemplate\":\"<b>%{hovertext}</b><br><br>flag=%{y}<br>date=2022-02-28<br>clicks=%{x}<extra></extra>\",\"hovertext\":[\"vnm\"],\"legendgroup\":\"\\ud83c\\uddfb\\ud83c\\uddf3\",\"marker\":{\"color\":\"#D62728\",\"pattern\":{\"shape\":\"\"}},\"name\":\"\\ud83c\\uddfb\\ud83c\\uddf3\",\"offsetgroup\":\"\\ud83c\\uddfb\\ud83c\\uddf3\",\"orientation\":\"h\",\"showlegend\":true,\"textposition\":\"auto\",\"x\":[5],\"xaxis\":\"x\",\"y\":[\"\\ud83c\\uddfb\\ud83c\\uddf3\"],\"yaxis\":\"y\",\"type\":\"bar\"},{\"alignmentgroup\":\"True\",\"hovertemplate\":\"<b>%{hovertext}</b><br><br>flag=%{y}<br>date=2022-02-28<br>clicks=%{x}<extra></extra>\",\"hovertext\":[\"irn\"],\"legendgroup\":\"\\ud83c\\uddee\\ud83c\\uddf7\",\"marker\":{\"color\":\"#9467BD\",\"pattern\":{\"shape\":\"\"}},\"name\":\"\\ud83c\\uddee\\ud83c\\uddf7\",\"offsetgroup\":\"\\ud83c\\uddee\\ud83c\\uddf7\",\"orientation\":\"h\",\"showlegend\":true,\"textposition\":\"auto\",\"x\":[20],\"xaxis\":\"x\",\"y\":[\"\\ud83c\\uddee\\ud83c\\uddf7\"],\"yaxis\":\"y\",\"type\":\"bar\"}],\"name\":\"2022-02-28\"},{\"data\":[{\"alignmentgroup\":\"True\",\"hovertemplate\":\"<b>%{hovertext}</b><br><br>flag=%{y}<br>date=2022-03-31<br>clicks=%{x}<extra></extra>\",\"hovertext\":[\"usa\"],\"legendgroup\":\"\\ud83c\\uddfa\\ud83c\\uddf8\",\"marker\":{\"color\":\"#1F77B4\",\"pattern\":{\"shape\":\"\"}},\"name\":\"\\ud83c\\uddfa\\ud83c\\uddf8\",\"offsetgroup\":\"\\ud83c\\uddfa\\ud83c\\uddf8\",\"orientation\":\"h\",\"showlegend\":true,\"textposition\":\"auto\",\"x\":[285],\"xaxis\":\"x\",\"y\":[\"\\ud83c\\uddfa\\ud83c\\uddf8\"],\"yaxis\":\"y\",\"type\":\"bar\"},{\"alignmentgroup\":\"True\",\"hovertemplate\":\"<b>%{hovertext}</b><br><br>flag=%{y}<br>date=2022-03-31<br>clicks=%{x}<extra></extra>\",\"hovertext\":[\"ind\"],\"legendgroup\":\"\\ud83c\\uddee\\ud83c\\uddf3\",\"marker\":{\"color\":\"#FF7F0E\",\"pattern\":{\"shape\":\"\"}},\"name\":\"\\ud83c\\uddee\\ud83c\\uddf3\",\"offsetgroup\":\"\\ud83c\\uddee\\ud83c\\uddf3\",\"orientation\":\"h\",\"showlegend\":true,\"textposition\":\"auto\",\"x\":[185],\"xaxis\":\"x\",\"y\":[\"\\ud83c\\uddee\\ud83c\\uddf3\"],\"yaxis\":\"y\",\"type\":\"bar\"},{\"alignmentgroup\":\"True\",\"hovertemplate\":\"<b>%{hovertext}</b><br><br>flag=%{y}<br>date=2022-03-31<br>clicks=%{x}<extra></extra>\",\"hovertext\":[\"deu\"],\"legendgroup\":\"\\ud83c\\udde9\\ud83c\\uddea\",\"marker\":{\"color\":\"#2CA02C\",\"pattern\":{\"shape\":\"\"}},\"name\":\"\\ud83c\\udde9\\ud83c\\uddea\",\"offsetgroup\":\"\\ud83c\\udde9\\ud83c\\uddea\",\"orientation\":\"h\",\"showlegend\":true,\"textposition\":\"auto\",\"x\":[91],\"xaxis\":\"x\",\"y\":[\"\\ud83c\\udde9\\ud83c\\uddea\"],\"yaxis\":\"y\",\"type\":\"bar\"},{\"alignmentgroup\":\"True\",\"hovertemplate\":\"<b>%{hovertext}</b><br><br>flag=%{y}<br>date=2022-03-31<br>clicks=%{x}<extra></extra>\",\"hovertext\":[\"gbr\"],\"legendgroup\":\"\\ud83c\\uddec\\ud83c\\udde7\",\"marker\":{\"color\":\"#D62728\",\"pattern\":{\"shape\":\"\"}},\"name\":\"\\ud83c\\uddec\\ud83c\\udde7\",\"offsetgroup\":\"\\ud83c\\uddec\\ud83c\\udde7\",\"orientation\":\"h\",\"showlegend\":true,\"textposition\":\"auto\",\"x\":[114],\"xaxis\":\"x\",\"y\":[\"\\ud83c\\uddec\\ud83c\\udde7\"],\"yaxis\":\"y\",\"type\":\"bar\"},{\"alignmentgroup\":\"True\",\"hovertemplate\":\"<b>%{hovertext}</b><br><br>flag=%{y}<br>date=2022-03-31<br>clicks=%{x}<extra></extra>\",\"hovertext\":[\"fra\"],\"legendgroup\":\"\\ud83c\\uddeb\\ud83c\\uddf7\",\"marker\":{\"color\":\"#9467BD\",\"pattern\":{\"shape\":\"\"}},\"name\":\"\\ud83c\\uddeb\\ud83c\\uddf7\",\"offsetgroup\":\"\\ud83c\\uddeb\\ud83c\\uddf7\",\"orientation\":\"h\",\"showlegend\":true,\"textposition\":\"auto\",\"x\":[72],\"xaxis\":\"x\",\"y\":[\"\\ud83c\\uddeb\\ud83c\\uddf7\"],\"yaxis\":\"y\",\"type\":\"bar\"},{\"alignmentgroup\":\"True\",\"hovertemplate\":\"<b>%{hovertext}</b><br><br>flag=%{y}<br>date=2022-03-31<br>clicks=%{x}<extra></extra>\",\"hovertext\":[\"esp\"],\"legendgroup\":\"\\ud83c\\uddea\\ud83c\\uddf8\",\"marker\":{\"color\":\"#8C564B\",\"pattern\":{\"shape\":\"\"}},\"name\":\"\\ud83c\\uddea\\ud83c\\uddf8\",\"offsetgroup\":\"\\ud83c\\uddea\\ud83c\\uddf8\",\"orientation\":\"h\",\"showlegend\":true,\"textposition\":\"auto\",\"x\":[63],\"xaxis\":\"x\",\"y\":[\"\\ud83c\\uddea\\ud83c\\uddf8\"],\"yaxis\":\"y\",\"type\":\"bar\"},{\"alignmentgroup\":\"True\",\"hovertemplate\":\"<b>%{hovertext}</b><br><br>flag=%{y}<br>date=2022-03-31<br>clicks=%{x}<extra></extra>\",\"hovertext\":[\"can\"],\"legendgroup\":\"\\ud83c\\udde8\\ud83c\\udde6\",\"marker\":{\"color\":\"#E377C2\",\"pattern\":{\"shape\":\"\"}},\"name\":\"\\ud83c\\udde8\\ud83c\\udde6\",\"offsetgroup\":\"\\ud83c\\udde8\\ud83c\\udde6\",\"orientation\":\"h\",\"showlegend\":true,\"textposition\":\"auto\",\"x\":[29],\"xaxis\":\"x\",\"y\":[\"\\ud83c\\udde8\\ud83c\\udde6\"],\"yaxis\":\"y\",\"type\":\"bar\"},{\"alignmentgroup\":\"True\",\"hovertemplate\":\"<b>%{hovertext}</b><br><br>flag=%{y}<br>date=2022-03-31<br>clicks=%{x}<extra></extra>\",\"hovertext\":[\"tur\"],\"legendgroup\":\"\\ud83c\\uddf9\\ud83c\\uddf7\",\"marker\":{\"color\":\"#7F7F7F\",\"pattern\":{\"shape\":\"\"}},\"name\":\"\\ud83c\\uddf9\\ud83c\\uddf7\",\"offsetgroup\":\"\\ud83c\\uddf9\\ud83c\\uddf7\",\"orientation\":\"h\",\"showlegend\":true,\"textposition\":\"auto\",\"x\":[20],\"xaxis\":\"x\",\"y\":[\"\\ud83c\\uddf9\\ud83c\\uddf7\"],\"yaxis\":\"y\",\"type\":\"bar\"},{\"alignmentgroup\":\"True\",\"hovertemplate\":\"<b>%{hovertext}</b><br><br>flag=%{y}<br>date=2022-03-31<br>clicks=%{x}<extra></extra>\",\"hovertext\":[\"ita\"],\"legendgroup\":\"\\ud83c\\uddee\\ud83c\\uddf9\",\"marker\":{\"color\":\"#BCBD22\",\"pattern\":{\"shape\":\"\"}},\"name\":\"\\ud83c\\uddee\\ud83c\\uddf9\",\"offsetgroup\":\"\\ud83c\\uddee\\ud83c\\uddf9\",\"orientation\":\"h\",\"showlegend\":true,\"textposition\":\"auto\",\"x\":[41],\"xaxis\":\"x\",\"y\":[\"\\ud83c\\uddee\\ud83c\\uddf9\"],\"yaxis\":\"y\",\"type\":\"bar\"},{\"alignmentgroup\":\"True\",\"hovertemplate\":\"<b>%{hovertext}</b><br><br>flag=%{y}<br>date=2022-03-31<br>clicks=%{x}<extra></extra>\",\"hovertext\":[\"nld\"],\"legendgroup\":\"\\ud83c\\uddf3\\ud83c\\uddf1\",\"marker\":{\"color\":\"#17BECF\",\"pattern\":{\"shape\":\"\"}},\"name\":\"\\ud83c\\uddf3\\ud83c\\uddf1\",\"offsetgroup\":\"\\ud83c\\uddf3\\ud83c\\uddf1\",\"orientation\":\"h\",\"showlegend\":true,\"textposition\":\"auto\",\"x\":[18],\"xaxis\":\"x\",\"y\":[\"\\ud83c\\uddf3\\ud83c\\uddf1\"],\"yaxis\":\"y\",\"type\":\"bar\"},{\"alignmentgroup\":\"True\",\"hovertemplate\":\"<b>%{hovertext}</b><br><br>flag=%{y}<br>date=2022-03-31<br>clicks=%{x}<extra></extra>\",\"hovertext\":[\"pak\"],\"legendgroup\":\"\\ud83c\\uddf5\\ud83c\\uddf0\",\"marker\":{\"color\":\"#1F77B4\",\"pattern\":{\"shape\":\"\"}},\"name\":\"\\ud83c\\uddf5\\ud83c\\uddf0\",\"offsetgroup\":\"\\ud83c\\uddf5\\ud83c\\uddf0\",\"orientation\":\"h\",\"showlegend\":true,\"textposition\":\"auto\",\"x\":[13],\"xaxis\":\"x\",\"y\":[\"\\ud83c\\uddf5\\ud83c\\uddf0\"],\"yaxis\":\"y\",\"type\":\"bar\"},{\"alignmentgroup\":\"True\",\"hovertemplate\":\"<b>%{hovertext}</b><br><br>flag=%{y}<br>date=2022-03-31<br>clicks=%{x}<extra></extra>\",\"hovertext\":[\"pol\"],\"legendgroup\":\"\\ud83c\\uddf5\\ud83c\\uddf1\",\"marker\":{\"color\":\"#FF7F0E\",\"pattern\":{\"shape\":\"\"}},\"name\":\"\\ud83c\\uddf5\\ud83c\\uddf1\",\"offsetgroup\":\"\\ud83c\\uddf5\\ud83c\\uddf1\",\"orientation\":\"h\",\"showlegend\":true,\"textposition\":\"auto\",\"x\":[23],\"xaxis\":\"x\",\"y\":[\"\\ud83c\\uddf5\\ud83c\\uddf1\"],\"yaxis\":\"y\",\"type\":\"bar\"},{\"alignmentgroup\":\"True\",\"hovertemplate\":\"<b>%{hovertext}</b><br><br>flag=%{y}<br>date=2022-03-31<br>clicks=%{x}<extra></extra>\",\"hovertext\":[\"rus\"],\"legendgroup\":\"\\ud83c\\uddf7\\ud83c\\uddfa\",\"marker\":{\"color\":\"#2CA02C\",\"pattern\":{\"shape\":\"\"}},\"name\":\"\\ud83c\\uddf7\\ud83c\\uddfa\",\"offsetgroup\":\"\\ud83c\\uddf7\\ud83c\\uddfa\",\"orientation\":\"h\",\"showlegend\":true,\"textposition\":\"auto\",\"x\":[24],\"xaxis\":\"x\",\"y\":[\"\\ud83c\\uddf7\\ud83c\\uddfa\"],\"yaxis\":\"y\",\"type\":\"bar\"},{\"alignmentgroup\":\"True\",\"hovertemplate\":\"<b>%{hovertext}</b><br><br>flag=%{y}<br>date=2022-03-31<br>clicks=%{x}<extra></extra>\",\"hovertext\":[\"vnm\"],\"legendgroup\":\"\\ud83c\\uddfb\\ud83c\\uddf3\",\"marker\":{\"color\":\"#D62728\",\"pattern\":{\"shape\":\"\"}},\"name\":\"\\ud83c\\uddfb\\ud83c\\uddf3\",\"offsetgroup\":\"\\ud83c\\uddfb\\ud83c\\uddf3\",\"orientation\":\"h\",\"showlegend\":true,\"textposition\":\"auto\",\"x\":[19],\"xaxis\":\"x\",\"y\":[\"\\ud83c\\uddfb\\ud83c\\uddf3\"],\"yaxis\":\"y\",\"type\":\"bar\"},{\"alignmentgroup\":\"True\",\"hovertemplate\":\"<b>%{hovertext}</b><br><br>flag=%{y}<br>date=2022-03-31<br>clicks=%{x}<extra></extra>\",\"hovertext\":[\"irn\"],\"legendgroup\":\"\\ud83c\\uddee\\ud83c\\uddf7\",\"marker\":{\"color\":\"#9467BD\",\"pattern\":{\"shape\":\"\"}},\"name\":\"\\ud83c\\uddee\\ud83c\\uddf7\",\"offsetgroup\":\"\\ud83c\\uddee\\ud83c\\uddf7\",\"orientation\":\"h\",\"showlegend\":true,\"textposition\":\"auto\",\"x\":[10],\"xaxis\":\"x\",\"y\":[\"\\ud83c\\uddee\\ud83c\\uddf7\"],\"yaxis\":\"y\",\"type\":\"bar\"}],\"name\":\"2022-03-31\"},{\"data\":[{\"alignmentgroup\":\"True\",\"hovertemplate\":\"<b>%{hovertext}</b><br><br>flag=%{y}<br>date=2022-04-30<br>clicks=%{x}<extra></extra>\",\"hovertext\":[\"usa\"],\"legendgroup\":\"\\ud83c\\uddfa\\ud83c\\uddf8\",\"marker\":{\"color\":\"#1F77B4\",\"pattern\":{\"shape\":\"\"}},\"name\":\"\\ud83c\\uddfa\\ud83c\\uddf8\",\"offsetgroup\":\"\\ud83c\\uddfa\\ud83c\\uddf8\",\"orientation\":\"h\",\"showlegend\":true,\"textposition\":\"auto\",\"x\":[397],\"xaxis\":\"x\",\"y\":[\"\\ud83c\\uddfa\\ud83c\\uddf8\"],\"yaxis\":\"y\",\"type\":\"bar\"},{\"alignmentgroup\":\"True\",\"hovertemplate\":\"<b>%{hovertext}</b><br><br>flag=%{y}<br>date=2022-04-30<br>clicks=%{x}<extra></extra>\",\"hovertext\":[\"ind\"],\"legendgroup\":\"\\ud83c\\uddee\\ud83c\\uddf3\",\"marker\":{\"color\":\"#FF7F0E\",\"pattern\":{\"shape\":\"\"}},\"name\":\"\\ud83c\\uddee\\ud83c\\uddf3\",\"offsetgroup\":\"\\ud83c\\uddee\\ud83c\\uddf3\",\"orientation\":\"h\",\"showlegend\":true,\"textposition\":\"auto\",\"x\":[288],\"xaxis\":\"x\",\"y\":[\"\\ud83c\\uddee\\ud83c\\uddf3\"],\"yaxis\":\"y\",\"type\":\"bar\"},{\"alignmentgroup\":\"True\",\"hovertemplate\":\"<b>%{hovertext}</b><br><br>flag=%{y}<br>date=2022-04-30<br>clicks=%{x}<extra></extra>\",\"hovertext\":[\"deu\"],\"legendgroup\":\"\\ud83c\\udde9\\ud83c\\uddea\",\"marker\":{\"color\":\"#2CA02C\",\"pattern\":{\"shape\":\"\"}},\"name\":\"\\ud83c\\udde9\\ud83c\\uddea\",\"offsetgroup\":\"\\ud83c\\udde9\\ud83c\\uddea\",\"orientation\":\"h\",\"showlegend\":true,\"textposition\":\"auto\",\"x\":[95],\"xaxis\":\"x\",\"y\":[\"\\ud83c\\udde9\\ud83c\\uddea\"],\"yaxis\":\"y\",\"type\":\"bar\"},{\"alignmentgroup\":\"True\",\"hovertemplate\":\"<b>%{hovertext}</b><br><br>flag=%{y}<br>date=2022-04-30<br>clicks=%{x}<extra></extra>\",\"hovertext\":[\"gbr\"],\"legendgroup\":\"\\ud83c\\uddec\\ud83c\\udde7\",\"marker\":{\"color\":\"#D62728\",\"pattern\":{\"shape\":\"\"}},\"name\":\"\\ud83c\\uddec\\ud83c\\udde7\",\"offsetgroup\":\"\\ud83c\\uddec\\ud83c\\udde7\",\"orientation\":\"h\",\"showlegend\":true,\"textposition\":\"auto\",\"x\":[99],\"xaxis\":\"x\",\"y\":[\"\\ud83c\\uddec\\ud83c\\udde7\"],\"yaxis\":\"y\",\"type\":\"bar\"},{\"alignmentgroup\":\"True\",\"hovertemplate\":\"<b>%{hovertext}</b><br><br>flag=%{y}<br>date=2022-04-30<br>clicks=%{x}<extra></extra>\",\"hovertext\":[\"fra\"],\"legendgroup\":\"\\ud83c\\uddeb\\ud83c\\uddf7\",\"marker\":{\"color\":\"#9467BD\",\"pattern\":{\"shape\":\"\"}},\"name\":\"\\ud83c\\uddeb\\ud83c\\uddf7\",\"offsetgroup\":\"\\ud83c\\uddeb\\ud83c\\uddf7\",\"orientation\":\"h\",\"showlegend\":true,\"textposition\":\"auto\",\"x\":[83],\"xaxis\":\"x\",\"y\":[\"\\ud83c\\uddeb\\ud83c\\uddf7\"],\"yaxis\":\"y\",\"type\":\"bar\"},{\"alignmentgroup\":\"True\",\"hovertemplate\":\"<b>%{hovertext}</b><br><br>flag=%{y}<br>date=2022-04-30<br>clicks=%{x}<extra></extra>\",\"hovertext\":[\"esp\"],\"legendgroup\":\"\\ud83c\\uddea\\ud83c\\uddf8\",\"marker\":{\"color\":\"#8C564B\",\"pattern\":{\"shape\":\"\"}},\"name\":\"\\ud83c\\uddea\\ud83c\\uddf8\",\"offsetgroup\":\"\\ud83c\\uddea\\ud83c\\uddf8\",\"orientation\":\"h\",\"showlegend\":true,\"textposition\":\"auto\",\"x\":[58],\"xaxis\":\"x\",\"y\":[\"\\ud83c\\uddea\\ud83c\\uddf8\"],\"yaxis\":\"y\",\"type\":\"bar\"},{\"alignmentgroup\":\"True\",\"hovertemplate\":\"<b>%{hovertext}</b><br><br>flag=%{y}<br>date=2022-04-30<br>clicks=%{x}<extra></extra>\",\"hovertext\":[\"can\"],\"legendgroup\":\"\\ud83c\\udde8\\ud83c\\udde6\",\"marker\":{\"color\":\"#E377C2\",\"pattern\":{\"shape\":\"\"}},\"name\":\"\\ud83c\\udde8\\ud83c\\udde6\",\"offsetgroup\":\"\\ud83c\\udde8\\ud83c\\udde6\",\"orientation\":\"h\",\"showlegend\":true,\"textposition\":\"auto\",\"x\":[38],\"xaxis\":\"x\",\"y\":[\"\\ud83c\\udde8\\ud83c\\udde6\"],\"yaxis\":\"y\",\"type\":\"bar\"},{\"alignmentgroup\":\"True\",\"hovertemplate\":\"<b>%{hovertext}</b><br><br>flag=%{y}<br>date=2022-04-30<br>clicks=%{x}<extra></extra>\",\"hovertext\":[\"tur\"],\"legendgroup\":\"\\ud83c\\uddf9\\ud83c\\uddf7\",\"marker\":{\"color\":\"#7F7F7F\",\"pattern\":{\"shape\":\"\"}},\"name\":\"\\ud83c\\uddf9\\ud83c\\uddf7\",\"offsetgroup\":\"\\ud83c\\uddf9\\ud83c\\uddf7\",\"orientation\":\"h\",\"showlegend\":true,\"textposition\":\"auto\",\"x\":[45],\"xaxis\":\"x\",\"y\":[\"\\ud83c\\uddf9\\ud83c\\uddf7\"],\"yaxis\":\"y\",\"type\":\"bar\"},{\"alignmentgroup\":\"True\",\"hovertemplate\":\"<b>%{hovertext}</b><br><br>flag=%{y}<br>date=2022-04-30<br>clicks=%{x}<extra></extra>\",\"hovertext\":[\"ita\"],\"legendgroup\":\"\\ud83c\\uddee\\ud83c\\uddf9\",\"marker\":{\"color\":\"#BCBD22\",\"pattern\":{\"shape\":\"\"}},\"name\":\"\\ud83c\\uddee\\ud83c\\uddf9\",\"offsetgroup\":\"\\ud83c\\uddee\\ud83c\\uddf9\",\"orientation\":\"h\",\"showlegend\":true,\"textposition\":\"auto\",\"x\":[44],\"xaxis\":\"x\",\"y\":[\"\\ud83c\\uddee\\ud83c\\uddf9\"],\"yaxis\":\"y\",\"type\":\"bar\"},{\"alignmentgroup\":\"True\",\"hovertemplate\":\"<b>%{hovertext}</b><br><br>flag=%{y}<br>date=2022-04-30<br>clicks=%{x}<extra></extra>\",\"hovertext\":[\"nld\"],\"legendgroup\":\"\\ud83c\\uddf3\\ud83c\\uddf1\",\"marker\":{\"color\":\"#17BECF\",\"pattern\":{\"shape\":\"\"}},\"name\":\"\\ud83c\\uddf3\\ud83c\\uddf1\",\"offsetgroup\":\"\\ud83c\\uddf3\\ud83c\\uddf1\",\"orientation\":\"h\",\"showlegend\":true,\"textposition\":\"auto\",\"x\":[38],\"xaxis\":\"x\",\"y\":[\"\\ud83c\\uddf3\\ud83c\\uddf1\"],\"yaxis\":\"y\",\"type\":\"bar\"},{\"alignmentgroup\":\"True\",\"hovertemplate\":\"<b>%{hovertext}</b><br><br>flag=%{y}<br>date=2022-04-30<br>clicks=%{x}<extra></extra>\",\"hovertext\":[\"pak\"],\"legendgroup\":\"\\ud83c\\uddf5\\ud83c\\uddf0\",\"marker\":{\"color\":\"#1F77B4\",\"pattern\":{\"shape\":\"\"}},\"name\":\"\\ud83c\\uddf5\\ud83c\\uddf0\",\"offsetgroup\":\"\\ud83c\\uddf5\\ud83c\\uddf0\",\"orientation\":\"h\",\"showlegend\":true,\"textposition\":\"auto\",\"x\":[20],\"xaxis\":\"x\",\"y\":[\"\\ud83c\\uddf5\\ud83c\\uddf0\"],\"yaxis\":\"y\",\"type\":\"bar\"},{\"alignmentgroup\":\"True\",\"hovertemplate\":\"<b>%{hovertext}</b><br><br>flag=%{y}<br>date=2022-04-30<br>clicks=%{x}<extra></extra>\",\"hovertext\":[\"pol\"],\"legendgroup\":\"\\ud83c\\uddf5\\ud83c\\uddf1\",\"marker\":{\"color\":\"#FF7F0E\",\"pattern\":{\"shape\":\"\"}},\"name\":\"\\ud83c\\uddf5\\ud83c\\uddf1\",\"offsetgroup\":\"\\ud83c\\uddf5\\ud83c\\uddf1\",\"orientation\":\"h\",\"showlegend\":true,\"textposition\":\"auto\",\"x\":[39],\"xaxis\":\"x\",\"y\":[\"\\ud83c\\uddf5\\ud83c\\uddf1\"],\"yaxis\":\"y\",\"type\":\"bar\"},{\"alignmentgroup\":\"True\",\"hovertemplate\":\"<b>%{hovertext}</b><br><br>flag=%{y}<br>date=2022-04-30<br>clicks=%{x}<extra></extra>\",\"hovertext\":[\"rus\"],\"legendgroup\":\"\\ud83c\\uddf7\\ud83c\\uddfa\",\"marker\":{\"color\":\"#2CA02C\",\"pattern\":{\"shape\":\"\"}},\"name\":\"\\ud83c\\uddf7\\ud83c\\uddfa\",\"offsetgroup\":\"\\ud83c\\uddf7\\ud83c\\uddfa\",\"orientation\":\"h\",\"showlegend\":true,\"textposition\":\"auto\",\"x\":[32],\"xaxis\":\"x\",\"y\":[\"\\ud83c\\uddf7\\ud83c\\uddfa\"],\"yaxis\":\"y\",\"type\":\"bar\"},{\"alignmentgroup\":\"True\",\"hovertemplate\":\"<b>%{hovertext}</b><br><br>flag=%{y}<br>date=2022-04-30<br>clicks=%{x}<extra></extra>\",\"hovertext\":[\"vnm\"],\"legendgroup\":\"\\ud83c\\uddfb\\ud83c\\uddf3\",\"marker\":{\"color\":\"#D62728\",\"pattern\":{\"shape\":\"\"}},\"name\":\"\\ud83c\\uddfb\\ud83c\\uddf3\",\"offsetgroup\":\"\\ud83c\\uddfb\\ud83c\\uddf3\",\"orientation\":\"h\",\"showlegend\":true,\"textposition\":\"auto\",\"x\":[18],\"xaxis\":\"x\",\"y\":[\"\\ud83c\\uddfb\\ud83c\\uddf3\"],\"yaxis\":\"y\",\"type\":\"bar\"},{\"alignmentgroup\":\"True\",\"hovertemplate\":\"<b>%{hovertext}</b><br><br>flag=%{y}<br>date=2022-04-30<br>clicks=%{x}<extra></extra>\",\"hovertext\":[\"irn\"],\"legendgroup\":\"\\ud83c\\uddee\\ud83c\\uddf7\",\"marker\":{\"color\":\"#9467BD\",\"pattern\":{\"shape\":\"\"}},\"name\":\"\\ud83c\\uddee\\ud83c\\uddf7\",\"offsetgroup\":\"\\ud83c\\uddee\\ud83c\\uddf7\",\"orientation\":\"h\",\"showlegend\":true,\"textposition\":\"auto\",\"x\":[28],\"xaxis\":\"x\",\"y\":[\"\\ud83c\\uddee\\ud83c\\uddf7\"],\"yaxis\":\"y\",\"type\":\"bar\"}],\"name\":\"2022-04-30\"},{\"data\":[{\"alignmentgroup\":\"True\",\"hovertemplate\":\"<b>%{hovertext}</b><br><br>flag=%{y}<br>date=2022-05-31<br>clicks=%{x}<extra></extra>\",\"hovertext\":[\"usa\"],\"legendgroup\":\"\\ud83c\\uddfa\\ud83c\\uddf8\",\"marker\":{\"color\":\"#1F77B4\",\"pattern\":{\"shape\":\"\"}},\"name\":\"\\ud83c\\uddfa\\ud83c\\uddf8\",\"offsetgroup\":\"\\ud83c\\uddfa\\ud83c\\uddf8\",\"orientation\":\"h\",\"showlegend\":true,\"textposition\":\"auto\",\"x\":[344],\"xaxis\":\"x\",\"y\":[\"\\ud83c\\uddfa\\ud83c\\uddf8\"],\"yaxis\":\"y\",\"type\":\"bar\"},{\"alignmentgroup\":\"True\",\"hovertemplate\":\"<b>%{hovertext}</b><br><br>flag=%{y}<br>date=2022-05-31<br>clicks=%{x}<extra></extra>\",\"hovertext\":[\"ind\"],\"legendgroup\":\"\\ud83c\\uddee\\ud83c\\uddf3\",\"marker\":{\"color\":\"#FF7F0E\",\"pattern\":{\"shape\":\"\"}},\"name\":\"\\ud83c\\uddee\\ud83c\\uddf3\",\"offsetgroup\":\"\\ud83c\\uddee\\ud83c\\uddf3\",\"orientation\":\"h\",\"showlegend\":true,\"textposition\":\"auto\",\"x\":[341],\"xaxis\":\"x\",\"y\":[\"\\ud83c\\uddee\\ud83c\\uddf3\"],\"yaxis\":\"y\",\"type\":\"bar\"},{\"alignmentgroup\":\"True\",\"hovertemplate\":\"<b>%{hovertext}</b><br><br>flag=%{y}<br>date=2022-05-31<br>clicks=%{x}<extra></extra>\",\"hovertext\":[\"deu\"],\"legendgroup\":\"\\ud83c\\udde9\\ud83c\\uddea\",\"marker\":{\"color\":\"#2CA02C\",\"pattern\":{\"shape\":\"\"}},\"name\":\"\\ud83c\\udde9\\ud83c\\uddea\",\"offsetgroup\":\"\\ud83c\\udde9\\ud83c\\uddea\",\"orientation\":\"h\",\"showlegend\":true,\"textposition\":\"auto\",\"x\":[144],\"xaxis\":\"x\",\"y\":[\"\\ud83c\\udde9\\ud83c\\uddea\"],\"yaxis\":\"y\",\"type\":\"bar\"},{\"alignmentgroup\":\"True\",\"hovertemplate\":\"<b>%{hovertext}</b><br><br>flag=%{y}<br>date=2022-05-31<br>clicks=%{x}<extra></extra>\",\"hovertext\":[\"gbr\"],\"legendgroup\":\"\\ud83c\\uddec\\ud83c\\udde7\",\"marker\":{\"color\":\"#D62728\",\"pattern\":{\"shape\":\"\"}},\"name\":\"\\ud83c\\uddec\\ud83c\\udde7\",\"offsetgroup\":\"\\ud83c\\uddec\\ud83c\\udde7\",\"orientation\":\"h\",\"showlegend\":true,\"textposition\":\"auto\",\"x\":[93],\"xaxis\":\"x\",\"y\":[\"\\ud83c\\uddec\\ud83c\\udde7\"],\"yaxis\":\"y\",\"type\":\"bar\"},{\"alignmentgroup\":\"True\",\"hovertemplate\":\"<b>%{hovertext}</b><br><br>flag=%{y}<br>date=2022-05-31<br>clicks=%{x}<extra></extra>\",\"hovertext\":[\"fra\"],\"legendgroup\":\"\\ud83c\\uddeb\\ud83c\\uddf7\",\"marker\":{\"color\":\"#9467BD\",\"pattern\":{\"shape\":\"\"}},\"name\":\"\\ud83c\\uddeb\\ud83c\\uddf7\",\"offsetgroup\":\"\\ud83c\\uddeb\\ud83c\\uddf7\",\"orientation\":\"h\",\"showlegend\":true,\"textposition\":\"auto\",\"x\":[76],\"xaxis\":\"x\",\"y\":[\"\\ud83c\\uddeb\\ud83c\\uddf7\"],\"yaxis\":\"y\",\"type\":\"bar\"},{\"alignmentgroup\":\"True\",\"hovertemplate\":\"<b>%{hovertext}</b><br><br>flag=%{y}<br>date=2022-05-31<br>clicks=%{x}<extra></extra>\",\"hovertext\":[\"esp\"],\"legendgroup\":\"\\ud83c\\uddea\\ud83c\\uddf8\",\"marker\":{\"color\":\"#8C564B\",\"pattern\":{\"shape\":\"\"}},\"name\":\"\\ud83c\\uddea\\ud83c\\uddf8\",\"offsetgroup\":\"\\ud83c\\uddea\\ud83c\\uddf8\",\"orientation\":\"h\",\"showlegend\":true,\"textposition\":\"auto\",\"x\":[58],\"xaxis\":\"x\",\"y\":[\"\\ud83c\\uddea\\ud83c\\uddf8\"],\"yaxis\":\"y\",\"type\":\"bar\"},{\"alignmentgroup\":\"True\",\"hovertemplate\":\"<b>%{hovertext}</b><br><br>flag=%{y}<br>date=2022-05-31<br>clicks=%{x}<extra></extra>\",\"hovertext\":[\"can\"],\"legendgroup\":\"\\ud83c\\udde8\\ud83c\\udde6\",\"marker\":{\"color\":\"#E377C2\",\"pattern\":{\"shape\":\"\"}},\"name\":\"\\ud83c\\udde8\\ud83c\\udde6\",\"offsetgroup\":\"\\ud83c\\udde8\\ud83c\\udde6\",\"orientation\":\"h\",\"showlegend\":true,\"textposition\":\"auto\",\"x\":[23],\"xaxis\":\"x\",\"y\":[\"\\ud83c\\udde8\\ud83c\\udde6\"],\"yaxis\":\"y\",\"type\":\"bar\"},{\"alignmentgroup\":\"True\",\"hovertemplate\":\"<b>%{hovertext}</b><br><br>flag=%{y}<br>date=2022-05-31<br>clicks=%{x}<extra></extra>\",\"hovertext\":[\"tur\"],\"legendgroup\":\"\\ud83c\\uddf9\\ud83c\\uddf7\",\"marker\":{\"color\":\"#7F7F7F\",\"pattern\":{\"shape\":\"\"}},\"name\":\"\\ud83c\\uddf9\\ud83c\\uddf7\",\"offsetgroup\":\"\\ud83c\\uddf9\\ud83c\\uddf7\",\"orientation\":\"h\",\"showlegend\":true,\"textposition\":\"auto\",\"x\":[58],\"xaxis\":\"x\",\"y\":[\"\\ud83c\\uddf9\\ud83c\\uddf7\"],\"yaxis\":\"y\",\"type\":\"bar\"},{\"alignmentgroup\":\"True\",\"hovertemplate\":\"<b>%{hovertext}</b><br><br>flag=%{y}<br>date=2022-05-31<br>clicks=%{x}<extra></extra>\",\"hovertext\":[\"ita\"],\"legendgroup\":\"\\ud83c\\uddee\\ud83c\\uddf9\",\"marker\":{\"color\":\"#BCBD22\",\"pattern\":{\"shape\":\"\"}},\"name\":\"\\ud83c\\uddee\\ud83c\\uddf9\",\"offsetgroup\":\"\\ud83c\\uddee\\ud83c\\uddf9\",\"orientation\":\"h\",\"showlegend\":true,\"textposition\":\"auto\",\"x\":[55],\"xaxis\":\"x\",\"y\":[\"\\ud83c\\uddee\\ud83c\\uddf9\"],\"yaxis\":\"y\",\"type\":\"bar\"},{\"alignmentgroup\":\"True\",\"hovertemplate\":\"<b>%{hovertext}</b><br><br>flag=%{y}<br>date=2022-05-31<br>clicks=%{x}<extra></extra>\",\"hovertext\":[\"nld\"],\"legendgroup\":\"\\ud83c\\uddf3\\ud83c\\uddf1\",\"marker\":{\"color\":\"#17BECF\",\"pattern\":{\"shape\":\"\"}},\"name\":\"\\ud83c\\uddf3\\ud83c\\uddf1\",\"offsetgroup\":\"\\ud83c\\uddf3\\ud83c\\uddf1\",\"orientation\":\"h\",\"showlegend\":true,\"textposition\":\"auto\",\"x\":[38],\"xaxis\":\"x\",\"y\":[\"\\ud83c\\uddf3\\ud83c\\uddf1\"],\"yaxis\":\"y\",\"type\":\"bar\"},{\"alignmentgroup\":\"True\",\"hovertemplate\":\"<b>%{hovertext}</b><br><br>flag=%{y}<br>date=2022-05-31<br>clicks=%{x}<extra></extra>\",\"hovertext\":[\"pak\"],\"legendgroup\":\"\\ud83c\\uddf5\\ud83c\\uddf0\",\"marker\":{\"color\":\"#1F77B4\",\"pattern\":{\"shape\":\"\"}},\"name\":\"\\ud83c\\uddf5\\ud83c\\uddf0\",\"offsetgroup\":\"\\ud83c\\uddf5\\ud83c\\uddf0\",\"orientation\":\"h\",\"showlegend\":true,\"textposition\":\"auto\",\"x\":[38],\"xaxis\":\"x\",\"y\":[\"\\ud83c\\uddf5\\ud83c\\uddf0\"],\"yaxis\":\"y\",\"type\":\"bar\"},{\"alignmentgroup\":\"True\",\"hovertemplate\":\"<b>%{hovertext}</b><br><br>flag=%{y}<br>date=2022-05-31<br>clicks=%{x}<extra></extra>\",\"hovertext\":[\"pol\"],\"legendgroup\":\"\\ud83c\\uddf5\\ud83c\\uddf1\",\"marker\":{\"color\":\"#FF7F0E\",\"pattern\":{\"shape\":\"\"}},\"name\":\"\\ud83c\\uddf5\\ud83c\\uddf1\",\"offsetgroup\":\"\\ud83c\\uddf5\\ud83c\\uddf1\",\"orientation\":\"h\",\"showlegend\":true,\"textposition\":\"auto\",\"x\":[56],\"xaxis\":\"x\",\"y\":[\"\\ud83c\\uddf5\\ud83c\\uddf1\"],\"yaxis\":\"y\",\"type\":\"bar\"},{\"alignmentgroup\":\"True\",\"hovertemplate\":\"<b>%{hovertext}</b><br><br>flag=%{y}<br>date=2022-05-31<br>clicks=%{x}<extra></extra>\",\"hovertext\":[\"rus\"],\"legendgroup\":\"\\ud83c\\uddf7\\ud83c\\uddfa\",\"marker\":{\"color\":\"#2CA02C\",\"pattern\":{\"shape\":\"\"}},\"name\":\"\\ud83c\\uddf7\\ud83c\\uddfa\",\"offsetgroup\":\"\\ud83c\\uddf7\\ud83c\\uddfa\",\"orientation\":\"h\",\"showlegend\":true,\"textposition\":\"auto\",\"x\":[35],\"xaxis\":\"x\",\"y\":[\"\\ud83c\\uddf7\\ud83c\\uddfa\"],\"yaxis\":\"y\",\"type\":\"bar\"},{\"alignmentgroup\":\"True\",\"hovertemplate\":\"<b>%{hovertext}</b><br><br>flag=%{y}<br>date=2022-05-31<br>clicks=%{x}<extra></extra>\",\"hovertext\":[\"vnm\"],\"legendgroup\":\"\\ud83c\\uddfb\\ud83c\\uddf3\",\"marker\":{\"color\":\"#D62728\",\"pattern\":{\"shape\":\"\"}},\"name\":\"\\ud83c\\uddfb\\ud83c\\uddf3\",\"offsetgroup\":\"\\ud83c\\uddfb\\ud83c\\uddf3\",\"orientation\":\"h\",\"showlegend\":true,\"textposition\":\"auto\",\"x\":[18],\"xaxis\":\"x\",\"y\":[\"\\ud83c\\uddfb\\ud83c\\uddf3\"],\"yaxis\":\"y\",\"type\":\"bar\"},{\"alignmentgroup\":\"True\",\"hovertemplate\":\"<b>%{hovertext}</b><br><br>flag=%{y}<br>date=2022-05-31<br>clicks=%{x}<extra></extra>\",\"hovertext\":[\"irn\"],\"legendgroup\":\"\\ud83c\\uddee\\ud83c\\uddf7\",\"marker\":{\"color\":\"#9467BD\",\"pattern\":{\"shape\":\"\"}},\"name\":\"\\ud83c\\uddee\\ud83c\\uddf7\",\"offsetgroup\":\"\\ud83c\\uddee\\ud83c\\uddf7\",\"orientation\":\"h\",\"showlegend\":true,\"textposition\":\"auto\",\"x\":[39],\"xaxis\":\"x\",\"y\":[\"\\ud83c\\uddee\\ud83c\\uddf7\"],\"yaxis\":\"y\",\"type\":\"bar\"}],\"name\":\"2022-05-31\"},{\"data\":[{\"alignmentgroup\":\"True\",\"hovertemplate\":\"<b>%{hovertext}</b><br><br>flag=%{y}<br>date=2022-06-30<br>clicks=%{x}<extra></extra>\",\"hovertext\":[\"usa\"],\"legendgroup\":\"\\ud83c\\uddfa\\ud83c\\uddf8\",\"marker\":{\"color\":\"#1F77B4\",\"pattern\":{\"shape\":\"\"}},\"name\":\"\\ud83c\\uddfa\\ud83c\\uddf8\",\"offsetgroup\":\"\\ud83c\\uddfa\\ud83c\\uddf8\",\"orientation\":\"h\",\"showlegend\":true,\"textposition\":\"auto\",\"x\":[352],\"xaxis\":\"x\",\"y\":[\"\\ud83c\\uddfa\\ud83c\\uddf8\"],\"yaxis\":\"y\",\"type\":\"bar\"},{\"alignmentgroup\":\"True\",\"hovertemplate\":\"<b>%{hovertext}</b><br><br>flag=%{y}<br>date=2022-06-30<br>clicks=%{x}<extra></extra>\",\"hovertext\":[\"ind\"],\"legendgroup\":\"\\ud83c\\uddee\\ud83c\\uddf3\",\"marker\":{\"color\":\"#FF7F0E\",\"pattern\":{\"shape\":\"\"}},\"name\":\"\\ud83c\\uddee\\ud83c\\uddf3\",\"offsetgroup\":\"\\ud83c\\uddee\\ud83c\\uddf3\",\"orientation\":\"h\",\"showlegend\":true,\"textposition\":\"auto\",\"x\":[269],\"xaxis\":\"x\",\"y\":[\"\\ud83c\\uddee\\ud83c\\uddf3\"],\"yaxis\":\"y\",\"type\":\"bar\"},{\"alignmentgroup\":\"True\",\"hovertemplate\":\"<b>%{hovertext}</b><br><br>flag=%{y}<br>date=2022-06-30<br>clicks=%{x}<extra></extra>\",\"hovertext\":[\"deu\"],\"legendgroup\":\"\\ud83c\\udde9\\ud83c\\uddea\",\"marker\":{\"color\":\"#2CA02C\",\"pattern\":{\"shape\":\"\"}},\"name\":\"\\ud83c\\udde9\\ud83c\\uddea\",\"offsetgroup\":\"\\ud83c\\udde9\\ud83c\\uddea\",\"orientation\":\"h\",\"showlegend\":true,\"textposition\":\"auto\",\"x\":[119],\"xaxis\":\"x\",\"y\":[\"\\ud83c\\udde9\\ud83c\\uddea\"],\"yaxis\":\"y\",\"type\":\"bar\"},{\"alignmentgroup\":\"True\",\"hovertemplate\":\"<b>%{hovertext}</b><br><br>flag=%{y}<br>date=2022-06-30<br>clicks=%{x}<extra></extra>\",\"hovertext\":[\"gbr\"],\"legendgroup\":\"\\ud83c\\uddec\\ud83c\\udde7\",\"marker\":{\"color\":\"#D62728\",\"pattern\":{\"shape\":\"\"}},\"name\":\"\\ud83c\\uddec\\ud83c\\udde7\",\"offsetgroup\":\"\\ud83c\\uddec\\ud83c\\udde7\",\"orientation\":\"h\",\"showlegend\":true,\"textposition\":\"auto\",\"x\":[78],\"xaxis\":\"x\",\"y\":[\"\\ud83c\\uddec\\ud83c\\udde7\"],\"yaxis\":\"y\",\"type\":\"bar\"},{\"alignmentgroup\":\"True\",\"hovertemplate\":\"<b>%{hovertext}</b><br><br>flag=%{y}<br>date=2022-06-30<br>clicks=%{x}<extra></extra>\",\"hovertext\":[\"fra\"],\"legendgroup\":\"\\ud83c\\uddeb\\ud83c\\uddf7\",\"marker\":{\"color\":\"#9467BD\",\"pattern\":{\"shape\":\"\"}},\"name\":\"\\ud83c\\uddeb\\ud83c\\uddf7\",\"offsetgroup\":\"\\ud83c\\uddeb\\ud83c\\uddf7\",\"orientation\":\"h\",\"showlegend\":true,\"textposition\":\"auto\",\"x\":[71],\"xaxis\":\"x\",\"y\":[\"\\ud83c\\uddeb\\ud83c\\uddf7\"],\"yaxis\":\"y\",\"type\":\"bar\"},{\"alignmentgroup\":\"True\",\"hovertemplate\":\"<b>%{hovertext}</b><br><br>flag=%{y}<br>date=2022-06-30<br>clicks=%{x}<extra></extra>\",\"hovertext\":[\"esp\"],\"legendgroup\":\"\\ud83c\\uddea\\ud83c\\uddf8\",\"marker\":{\"color\":\"#8C564B\",\"pattern\":{\"shape\":\"\"}},\"name\":\"\\ud83c\\uddea\\ud83c\\uddf8\",\"offsetgroup\":\"\\ud83c\\uddea\\ud83c\\uddf8\",\"orientation\":\"h\",\"showlegend\":true,\"textposition\":\"auto\",\"x\":[62],\"xaxis\":\"x\",\"y\":[\"\\ud83c\\uddea\\ud83c\\uddf8\"],\"yaxis\":\"y\",\"type\":\"bar\"},{\"alignmentgroup\":\"True\",\"hovertemplate\":\"<b>%{hovertext}</b><br><br>flag=%{y}<br>date=2022-06-30<br>clicks=%{x}<extra></extra>\",\"hovertext\":[\"can\"],\"legendgroup\":\"\\ud83c\\udde8\\ud83c\\udde6\",\"marker\":{\"color\":\"#E377C2\",\"pattern\":{\"shape\":\"\"}},\"name\":\"\\ud83c\\udde8\\ud83c\\udde6\",\"offsetgroup\":\"\\ud83c\\udde8\\ud83c\\udde6\",\"orientation\":\"h\",\"showlegend\":true,\"textposition\":\"auto\",\"x\":[32],\"xaxis\":\"x\",\"y\":[\"\\ud83c\\udde8\\ud83c\\udde6\"],\"yaxis\":\"y\",\"type\":\"bar\"},{\"alignmentgroup\":\"True\",\"hovertemplate\":\"<b>%{hovertext}</b><br><br>flag=%{y}<br>date=2022-06-30<br>clicks=%{x}<extra></extra>\",\"hovertext\":[\"tur\"],\"legendgroup\":\"\\ud83c\\uddf9\\ud83c\\uddf7\",\"marker\":{\"color\":\"#7F7F7F\",\"pattern\":{\"shape\":\"\"}},\"name\":\"\\ud83c\\uddf9\\ud83c\\uddf7\",\"offsetgroup\":\"\\ud83c\\uddf9\\ud83c\\uddf7\",\"orientation\":\"h\",\"showlegend\":true,\"textposition\":\"auto\",\"x\":[45],\"xaxis\":\"x\",\"y\":[\"\\ud83c\\uddf9\\ud83c\\uddf7\"],\"yaxis\":\"y\",\"type\":\"bar\"},{\"alignmentgroup\":\"True\",\"hovertemplate\":\"<b>%{hovertext}</b><br><br>flag=%{y}<br>date=2022-06-30<br>clicks=%{x}<extra></extra>\",\"hovertext\":[\"ita\"],\"legendgroup\":\"\\ud83c\\uddee\\ud83c\\uddf9\",\"marker\":{\"color\":\"#BCBD22\",\"pattern\":{\"shape\":\"\"}},\"name\":\"\\ud83c\\uddee\\ud83c\\uddf9\",\"offsetgroup\":\"\\ud83c\\uddee\\ud83c\\uddf9\",\"orientation\":\"h\",\"showlegend\":true,\"textposition\":\"auto\",\"x\":[42],\"xaxis\":\"x\",\"y\":[\"\\ud83c\\uddee\\ud83c\\uddf9\"],\"yaxis\":\"y\",\"type\":\"bar\"},{\"alignmentgroup\":\"True\",\"hovertemplate\":\"<b>%{hovertext}</b><br><br>flag=%{y}<br>date=2022-06-30<br>clicks=%{x}<extra></extra>\",\"hovertext\":[\"nld\"],\"legendgroup\":\"\\ud83c\\uddf3\\ud83c\\uddf1\",\"marker\":{\"color\":\"#17BECF\",\"pattern\":{\"shape\":\"\"}},\"name\":\"\\ud83c\\uddf3\\ud83c\\uddf1\",\"offsetgroup\":\"\\ud83c\\uddf3\\ud83c\\uddf1\",\"orientation\":\"h\",\"showlegend\":true,\"textposition\":\"auto\",\"x\":[30],\"xaxis\":\"x\",\"y\":[\"\\ud83c\\uddf3\\ud83c\\uddf1\"],\"yaxis\":\"y\",\"type\":\"bar\"},{\"alignmentgroup\":\"True\",\"hovertemplate\":\"<b>%{hovertext}</b><br><br>flag=%{y}<br>date=2022-06-30<br>clicks=%{x}<extra></extra>\",\"hovertext\":[\"pak\"],\"legendgroup\":\"\\ud83c\\uddf5\\ud83c\\uddf0\",\"marker\":{\"color\":\"#1F77B4\",\"pattern\":{\"shape\":\"\"}},\"name\":\"\\ud83c\\uddf5\\ud83c\\uddf0\",\"offsetgroup\":\"\\ud83c\\uddf5\\ud83c\\uddf0\",\"orientation\":\"h\",\"showlegend\":true,\"textposition\":\"auto\",\"x\":[23],\"xaxis\":\"x\",\"y\":[\"\\ud83c\\uddf5\\ud83c\\uddf0\"],\"yaxis\":\"y\",\"type\":\"bar\"},{\"alignmentgroup\":\"True\",\"hovertemplate\":\"<b>%{hovertext}</b><br><br>flag=%{y}<br>date=2022-06-30<br>clicks=%{x}<extra></extra>\",\"hovertext\":[\"pol\"],\"legendgroup\":\"\\ud83c\\uddf5\\ud83c\\uddf1\",\"marker\":{\"color\":\"#FF7F0E\",\"pattern\":{\"shape\":\"\"}},\"name\":\"\\ud83c\\uddf5\\ud83c\\uddf1\",\"offsetgroup\":\"\\ud83c\\uddf5\\ud83c\\uddf1\",\"orientation\":\"h\",\"showlegend\":true,\"textposition\":\"auto\",\"x\":[38],\"xaxis\":\"x\",\"y\":[\"\\ud83c\\uddf5\\ud83c\\uddf1\"],\"yaxis\":\"y\",\"type\":\"bar\"},{\"alignmentgroup\":\"True\",\"hovertemplate\":\"<b>%{hovertext}</b><br><br>flag=%{y}<br>date=2022-06-30<br>clicks=%{x}<extra></extra>\",\"hovertext\":[\"rus\"],\"legendgroup\":\"\\ud83c\\uddf7\\ud83c\\uddfa\",\"marker\":{\"color\":\"#2CA02C\",\"pattern\":{\"shape\":\"\"}},\"name\":\"\\ud83c\\uddf7\\ud83c\\uddfa\",\"offsetgroup\":\"\\ud83c\\uddf7\\ud83c\\uddfa\",\"orientation\":\"h\",\"showlegend\":true,\"textposition\":\"auto\",\"x\":[24],\"xaxis\":\"x\",\"y\":[\"\\ud83c\\uddf7\\ud83c\\uddfa\"],\"yaxis\":\"y\",\"type\":\"bar\"},{\"alignmentgroup\":\"True\",\"hovertemplate\":\"<b>%{hovertext}</b><br><br>flag=%{y}<br>date=2022-06-30<br>clicks=%{x}<extra></extra>\",\"hovertext\":[\"vnm\"],\"legendgroup\":\"\\ud83c\\uddfb\\ud83c\\uddf3\",\"marker\":{\"color\":\"#D62728\",\"pattern\":{\"shape\":\"\"}},\"name\":\"\\ud83c\\uddfb\\ud83c\\uddf3\",\"offsetgroup\":\"\\ud83c\\uddfb\\ud83c\\uddf3\",\"orientation\":\"h\",\"showlegend\":true,\"textposition\":\"auto\",\"x\":[28],\"xaxis\":\"x\",\"y\":[\"\\ud83c\\uddfb\\ud83c\\uddf3\"],\"yaxis\":\"y\",\"type\":\"bar\"},{\"alignmentgroup\":\"True\",\"hovertemplate\":\"<b>%{hovertext}</b><br><br>flag=%{y}<br>date=2022-06-30<br>clicks=%{x}<extra></extra>\",\"hovertext\":[\"irn\"],\"legendgroup\":\"\\ud83c\\uddee\\ud83c\\uddf7\",\"marker\":{\"color\":\"#9467BD\",\"pattern\":{\"shape\":\"\"}},\"name\":\"\\ud83c\\uddee\\ud83c\\uddf7\",\"offsetgroup\":\"\\ud83c\\uddee\\ud83c\\uddf7\",\"orientation\":\"h\",\"showlegend\":true,\"textposition\":\"auto\",\"x\":[27],\"xaxis\":\"x\",\"y\":[\"\\ud83c\\uddee\\ud83c\\uddf7\"],\"yaxis\":\"y\",\"type\":\"bar\"}],\"name\":\"2022-06-30\"},{\"data\":[{\"alignmentgroup\":\"True\",\"hovertemplate\":\"<b>%{hovertext}</b><br><br>flag=%{y}<br>date=2022-07-31<br>clicks=%{x}<extra></extra>\",\"hovertext\":[\"usa\"],\"legendgroup\":\"\\ud83c\\uddfa\\ud83c\\uddf8\",\"marker\":{\"color\":\"#1F77B4\",\"pattern\":{\"shape\":\"\"}},\"name\":\"\\ud83c\\uddfa\\ud83c\\uddf8\",\"offsetgroup\":\"\\ud83c\\uddfa\\ud83c\\uddf8\",\"orientation\":\"h\",\"showlegend\":true,\"textposition\":\"auto\",\"x\":[359],\"xaxis\":\"x\",\"y\":[\"\\ud83c\\uddfa\\ud83c\\uddf8\"],\"yaxis\":\"y\",\"type\":\"bar\"},{\"alignmentgroup\":\"True\",\"hovertemplate\":\"<b>%{hovertext}</b><br><br>flag=%{y}<br>date=2022-07-31<br>clicks=%{x}<extra></extra>\",\"hovertext\":[\"ind\"],\"legendgroup\":\"\\ud83c\\uddee\\ud83c\\uddf3\",\"marker\":{\"color\":\"#FF7F0E\",\"pattern\":{\"shape\":\"\"}},\"name\":\"\\ud83c\\uddee\\ud83c\\uddf3\",\"offsetgroup\":\"\\ud83c\\uddee\\ud83c\\uddf3\",\"orientation\":\"h\",\"showlegend\":true,\"textposition\":\"auto\",\"x\":[315],\"xaxis\":\"x\",\"y\":[\"\\ud83c\\uddee\\ud83c\\uddf3\"],\"yaxis\":\"y\",\"type\":\"bar\"},{\"alignmentgroup\":\"True\",\"hovertemplate\":\"<b>%{hovertext}</b><br><br>flag=%{y}<br>date=2022-07-31<br>clicks=%{x}<extra></extra>\",\"hovertext\":[\"deu\"],\"legendgroup\":\"\\ud83c\\udde9\\ud83c\\uddea\",\"marker\":{\"color\":\"#2CA02C\",\"pattern\":{\"shape\":\"\"}},\"name\":\"\\ud83c\\udde9\\ud83c\\uddea\",\"offsetgroup\":\"\\ud83c\\udde9\\ud83c\\uddea\",\"orientation\":\"h\",\"showlegend\":true,\"textposition\":\"auto\",\"x\":[121],\"xaxis\":\"x\",\"y\":[\"\\ud83c\\udde9\\ud83c\\uddea\"],\"yaxis\":\"y\",\"type\":\"bar\"},{\"alignmentgroup\":\"True\",\"hovertemplate\":\"<b>%{hovertext}</b><br><br>flag=%{y}<br>date=2022-07-31<br>clicks=%{x}<extra></extra>\",\"hovertext\":[\"gbr\"],\"legendgroup\":\"\\ud83c\\uddec\\ud83c\\udde7\",\"marker\":{\"color\":\"#D62728\",\"pattern\":{\"shape\":\"\"}},\"name\":\"\\ud83c\\uddec\\ud83c\\udde7\",\"offsetgroup\":\"\\ud83c\\uddec\\ud83c\\udde7\",\"orientation\":\"h\",\"showlegend\":true,\"textposition\":\"auto\",\"x\":[70],\"xaxis\":\"x\",\"y\":[\"\\ud83c\\uddec\\ud83c\\udde7\"],\"yaxis\":\"y\",\"type\":\"bar\"},{\"alignmentgroup\":\"True\",\"hovertemplate\":\"<b>%{hovertext}</b><br><br>flag=%{y}<br>date=2022-07-31<br>clicks=%{x}<extra></extra>\",\"hovertext\":[\"fra\"],\"legendgroup\":\"\\ud83c\\uddeb\\ud83c\\uddf7\",\"marker\":{\"color\":\"#9467BD\",\"pattern\":{\"shape\":\"\"}},\"name\":\"\\ud83c\\uddeb\\ud83c\\uddf7\",\"offsetgroup\":\"\\ud83c\\uddeb\\ud83c\\uddf7\",\"orientation\":\"h\",\"showlegend\":true,\"textposition\":\"auto\",\"x\":[82],\"xaxis\":\"x\",\"y\":[\"\\ud83c\\uddeb\\ud83c\\uddf7\"],\"yaxis\":\"y\",\"type\":\"bar\"},{\"alignmentgroup\":\"True\",\"hovertemplate\":\"<b>%{hovertext}</b><br><br>flag=%{y}<br>date=2022-07-31<br>clicks=%{x}<extra></extra>\",\"hovertext\":[\"esp\"],\"legendgroup\":\"\\ud83c\\uddea\\ud83c\\uddf8\",\"marker\":{\"color\":\"#8C564B\",\"pattern\":{\"shape\":\"\"}},\"name\":\"\\ud83c\\uddea\\ud83c\\uddf8\",\"offsetgroup\":\"\\ud83c\\uddea\\ud83c\\uddf8\",\"orientation\":\"h\",\"showlegend\":true,\"textposition\":\"auto\",\"x\":[40],\"xaxis\":\"x\",\"y\":[\"\\ud83c\\uddea\\ud83c\\uddf8\"],\"yaxis\":\"y\",\"type\":\"bar\"},{\"alignmentgroup\":\"True\",\"hovertemplate\":\"<b>%{hovertext}</b><br><br>flag=%{y}<br>date=2022-07-31<br>clicks=%{x}<extra></extra>\",\"hovertext\":[\"can\"],\"legendgroup\":\"\\ud83c\\udde8\\ud83c\\udde6\",\"marker\":{\"color\":\"#E377C2\",\"pattern\":{\"shape\":\"\"}},\"name\":\"\\ud83c\\udde8\\ud83c\\udde6\",\"offsetgroup\":\"\\ud83c\\udde8\\ud83c\\udde6\",\"orientation\":\"h\",\"showlegend\":true,\"textposition\":\"auto\",\"x\":[35],\"xaxis\":\"x\",\"y\":[\"\\ud83c\\udde8\\ud83c\\udde6\"],\"yaxis\":\"y\",\"type\":\"bar\"},{\"alignmentgroup\":\"True\",\"hovertemplate\":\"<b>%{hovertext}</b><br><br>flag=%{y}<br>date=2022-07-31<br>clicks=%{x}<extra></extra>\",\"hovertext\":[\"tur\"],\"legendgroup\":\"\\ud83c\\uddf9\\ud83c\\uddf7\",\"marker\":{\"color\":\"#7F7F7F\",\"pattern\":{\"shape\":\"\"}},\"name\":\"\\ud83c\\uddf9\\ud83c\\uddf7\",\"offsetgroup\":\"\\ud83c\\uddf9\\ud83c\\uddf7\",\"orientation\":\"h\",\"showlegend\":true,\"textposition\":\"auto\",\"x\":[42],\"xaxis\":\"x\",\"y\":[\"\\ud83c\\uddf9\\ud83c\\uddf7\"],\"yaxis\":\"y\",\"type\":\"bar\"},{\"alignmentgroup\":\"True\",\"hovertemplate\":\"<b>%{hovertext}</b><br><br>flag=%{y}<br>date=2022-07-31<br>clicks=%{x}<extra></extra>\",\"hovertext\":[\"ita\"],\"legendgroup\":\"\\ud83c\\uddee\\ud83c\\uddf9\",\"marker\":{\"color\":\"#BCBD22\",\"pattern\":{\"shape\":\"\"}},\"name\":\"\\ud83c\\uddee\\ud83c\\uddf9\",\"offsetgroup\":\"\\ud83c\\uddee\\ud83c\\uddf9\",\"orientation\":\"h\",\"showlegend\":true,\"textposition\":\"auto\",\"x\":[28],\"xaxis\":\"x\",\"y\":[\"\\ud83c\\uddee\\ud83c\\uddf9\"],\"yaxis\":\"y\",\"type\":\"bar\"},{\"alignmentgroup\":\"True\",\"hovertemplate\":\"<b>%{hovertext}</b><br><br>flag=%{y}<br>date=2022-07-31<br>clicks=%{x}<extra></extra>\",\"hovertext\":[\"nld\"],\"legendgroup\":\"\\ud83c\\uddf3\\ud83c\\uddf1\",\"marker\":{\"color\":\"#17BECF\",\"pattern\":{\"shape\":\"\"}},\"name\":\"\\ud83c\\uddf3\\ud83c\\uddf1\",\"offsetgroup\":\"\\ud83c\\uddf3\\ud83c\\uddf1\",\"orientation\":\"h\",\"showlegend\":true,\"textposition\":\"auto\",\"x\":[33],\"xaxis\":\"x\",\"y\":[\"\\ud83c\\uddf3\\ud83c\\uddf1\"],\"yaxis\":\"y\",\"type\":\"bar\"},{\"alignmentgroup\":\"True\",\"hovertemplate\":\"<b>%{hovertext}</b><br><br>flag=%{y}<br>date=2022-07-31<br>clicks=%{x}<extra></extra>\",\"hovertext\":[\"pak\"],\"legendgroup\":\"\\ud83c\\uddf5\\ud83c\\uddf0\",\"marker\":{\"color\":\"#1F77B4\",\"pattern\":{\"shape\":\"\"}},\"name\":\"\\ud83c\\uddf5\\ud83c\\uddf0\",\"offsetgroup\":\"\\ud83c\\uddf5\\ud83c\\uddf0\",\"orientation\":\"h\",\"showlegend\":true,\"textposition\":\"auto\",\"x\":[15],\"xaxis\":\"x\",\"y\":[\"\\ud83c\\uddf5\\ud83c\\uddf0\"],\"yaxis\":\"y\",\"type\":\"bar\"},{\"alignmentgroup\":\"True\",\"hovertemplate\":\"<b>%{hovertext}</b><br><br>flag=%{y}<br>date=2022-07-31<br>clicks=%{x}<extra></extra>\",\"hovertext\":[\"pol\"],\"legendgroup\":\"\\ud83c\\uddf5\\ud83c\\uddf1\",\"marker\":{\"color\":\"#FF7F0E\",\"pattern\":{\"shape\":\"\"}},\"name\":\"\\ud83c\\uddf5\\ud83c\\uddf1\",\"offsetgroup\":\"\\ud83c\\uddf5\\ud83c\\uddf1\",\"orientation\":\"h\",\"showlegend\":true,\"textposition\":\"auto\",\"x\":[28],\"xaxis\":\"x\",\"y\":[\"\\ud83c\\uddf5\\ud83c\\uddf1\"],\"yaxis\":\"y\",\"type\":\"bar\"},{\"alignmentgroup\":\"True\",\"hovertemplate\":\"<b>%{hovertext}</b><br><br>flag=%{y}<br>date=2022-07-31<br>clicks=%{x}<extra></extra>\",\"hovertext\":[\"rus\"],\"legendgroup\":\"\\ud83c\\uddf7\\ud83c\\uddfa\",\"marker\":{\"color\":\"#2CA02C\",\"pattern\":{\"shape\":\"\"}},\"name\":\"\\ud83c\\uddf7\\ud83c\\uddfa\",\"offsetgroup\":\"\\ud83c\\uddf7\\ud83c\\uddfa\",\"orientation\":\"h\",\"showlegend\":true,\"textposition\":\"auto\",\"x\":[28],\"xaxis\":\"x\",\"y\":[\"\\ud83c\\uddf7\\ud83c\\uddfa\"],\"yaxis\":\"y\",\"type\":\"bar\"},{\"alignmentgroup\":\"True\",\"hovertemplate\":\"<b>%{hovertext}</b><br><br>flag=%{y}<br>date=2022-07-31<br>clicks=%{x}<extra></extra>\",\"hovertext\":[\"vnm\"],\"legendgroup\":\"\\ud83c\\uddfb\\ud83c\\uddf3\",\"marker\":{\"color\":\"#D62728\",\"pattern\":{\"shape\":\"\"}},\"name\":\"\\ud83c\\uddfb\\ud83c\\uddf3\",\"offsetgroup\":\"\\ud83c\\uddfb\\ud83c\\uddf3\",\"orientation\":\"h\",\"showlegend\":true,\"textposition\":\"auto\",\"x\":[21],\"xaxis\":\"x\",\"y\":[\"\\ud83c\\uddfb\\ud83c\\uddf3\"],\"yaxis\":\"y\",\"type\":\"bar\"},{\"alignmentgroup\":\"True\",\"hovertemplate\":\"<b>%{hovertext}</b><br><br>flag=%{y}<br>date=2022-07-31<br>clicks=%{x}<extra></extra>\",\"hovertext\":[\"irn\"],\"legendgroup\":\"\\ud83c\\uddee\\ud83c\\uddf7\",\"marker\":{\"color\":\"#9467BD\",\"pattern\":{\"shape\":\"\"}},\"name\":\"\\ud83c\\uddee\\ud83c\\uddf7\",\"offsetgroup\":\"\\ud83c\\uddee\\ud83c\\uddf7\",\"orientation\":\"h\",\"showlegend\":true,\"textposition\":\"auto\",\"x\":[21],\"xaxis\":\"x\",\"y\":[\"\\ud83c\\uddee\\ud83c\\uddf7\"],\"yaxis\":\"y\",\"type\":\"bar\"}],\"name\":\"2022-07-31\"},{\"data\":[{\"alignmentgroup\":\"True\",\"hovertemplate\":\"<b>%{hovertext}</b><br><br>flag=%{y}<br>date=2022-08-31<br>clicks=%{x}<extra></extra>\",\"hovertext\":[\"usa\"],\"legendgroup\":\"\\ud83c\\uddfa\\ud83c\\uddf8\",\"marker\":{\"color\":\"#1F77B4\",\"pattern\":{\"shape\":\"\"}},\"name\":\"\\ud83c\\uddfa\\ud83c\\uddf8\",\"offsetgroup\":\"\\ud83c\\uddfa\\ud83c\\uddf8\",\"orientation\":\"h\",\"showlegend\":true,\"textposition\":\"auto\",\"x\":[375],\"xaxis\":\"x\",\"y\":[\"\\ud83c\\uddfa\\ud83c\\uddf8\"],\"yaxis\":\"y\",\"type\":\"bar\"},{\"alignmentgroup\":\"True\",\"hovertemplate\":\"<b>%{hovertext}</b><br><br>flag=%{y}<br>date=2022-08-31<br>clicks=%{x}<extra></extra>\",\"hovertext\":[\"ind\"],\"legendgroup\":\"\\ud83c\\uddee\\ud83c\\uddf3\",\"marker\":{\"color\":\"#FF7F0E\",\"pattern\":{\"shape\":\"\"}},\"name\":\"\\ud83c\\uddee\\ud83c\\uddf3\",\"offsetgroup\":\"\\ud83c\\uddee\\ud83c\\uddf3\",\"orientation\":\"h\",\"showlegend\":true,\"textposition\":\"auto\",\"x\":[411],\"xaxis\":\"x\",\"y\":[\"\\ud83c\\uddee\\ud83c\\uddf3\"],\"yaxis\":\"y\",\"type\":\"bar\"},{\"alignmentgroup\":\"True\",\"hovertemplate\":\"<b>%{hovertext}</b><br><br>flag=%{y}<br>date=2022-08-31<br>clicks=%{x}<extra></extra>\",\"hovertext\":[\"deu\"],\"legendgroup\":\"\\ud83c\\udde9\\ud83c\\uddea\",\"marker\":{\"color\":\"#2CA02C\",\"pattern\":{\"shape\":\"\"}},\"name\":\"\\ud83c\\udde9\\ud83c\\uddea\",\"offsetgroup\":\"\\ud83c\\udde9\\ud83c\\uddea\",\"orientation\":\"h\",\"showlegend\":true,\"textposition\":\"auto\",\"x\":[116],\"xaxis\":\"x\",\"y\":[\"\\ud83c\\udde9\\ud83c\\uddea\"],\"yaxis\":\"y\",\"type\":\"bar\"},{\"alignmentgroup\":\"True\",\"hovertemplate\":\"<b>%{hovertext}</b><br><br>flag=%{y}<br>date=2022-08-31<br>clicks=%{x}<extra></extra>\",\"hovertext\":[\"gbr\"],\"legendgroup\":\"\\ud83c\\uddec\\ud83c\\udde7\",\"marker\":{\"color\":\"#D62728\",\"pattern\":{\"shape\":\"\"}},\"name\":\"\\ud83c\\uddec\\ud83c\\udde7\",\"offsetgroup\":\"\\ud83c\\uddec\\ud83c\\udde7\",\"orientation\":\"h\",\"showlegend\":true,\"textposition\":\"auto\",\"x\":[84],\"xaxis\":\"x\",\"y\":[\"\\ud83c\\uddec\\ud83c\\udde7\"],\"yaxis\":\"y\",\"type\":\"bar\"},{\"alignmentgroup\":\"True\",\"hovertemplate\":\"<b>%{hovertext}</b><br><br>flag=%{y}<br>date=2022-08-31<br>clicks=%{x}<extra></extra>\",\"hovertext\":[\"fra\"],\"legendgroup\":\"\\ud83c\\uddeb\\ud83c\\uddf7\",\"marker\":{\"color\":\"#9467BD\",\"pattern\":{\"shape\":\"\"}},\"name\":\"\\ud83c\\uddeb\\ud83c\\uddf7\",\"offsetgroup\":\"\\ud83c\\uddeb\\ud83c\\uddf7\",\"orientation\":\"h\",\"showlegend\":true,\"textposition\":\"auto\",\"x\":[55],\"xaxis\":\"x\",\"y\":[\"\\ud83c\\uddeb\\ud83c\\uddf7\"],\"yaxis\":\"y\",\"type\":\"bar\"},{\"alignmentgroup\":\"True\",\"hovertemplate\":\"<b>%{hovertext}</b><br><br>flag=%{y}<br>date=2022-08-31<br>clicks=%{x}<extra></extra>\",\"hovertext\":[\"esp\"],\"legendgroup\":\"\\ud83c\\uddea\\ud83c\\uddf8\",\"marker\":{\"color\":\"#8C564B\",\"pattern\":{\"shape\":\"\"}},\"name\":\"\\ud83c\\uddea\\ud83c\\uddf8\",\"offsetgroup\":\"\\ud83c\\uddea\\ud83c\\uddf8\",\"orientation\":\"h\",\"showlegend\":true,\"textposition\":\"auto\",\"x\":[42],\"xaxis\":\"x\",\"y\":[\"\\ud83c\\uddea\\ud83c\\uddf8\"],\"yaxis\":\"y\",\"type\":\"bar\"},{\"alignmentgroup\":\"True\",\"hovertemplate\":\"<b>%{hovertext}</b><br><br>flag=%{y}<br>date=2022-08-31<br>clicks=%{x}<extra></extra>\",\"hovertext\":[\"can\"],\"legendgroup\":\"\\ud83c\\udde8\\ud83c\\udde6\",\"marker\":{\"color\":\"#E377C2\",\"pattern\":{\"shape\":\"\"}},\"name\":\"\\ud83c\\udde8\\ud83c\\udde6\",\"offsetgroup\":\"\\ud83c\\udde8\\ud83c\\udde6\",\"orientation\":\"h\",\"showlegend\":true,\"textposition\":\"auto\",\"x\":[34],\"xaxis\":\"x\",\"y\":[\"\\ud83c\\udde8\\ud83c\\udde6\"],\"yaxis\":\"y\",\"type\":\"bar\"},{\"alignmentgroup\":\"True\",\"hovertemplate\":\"<b>%{hovertext}</b><br><br>flag=%{y}<br>date=2022-08-31<br>clicks=%{x}<extra></extra>\",\"hovertext\":[\"tur\"],\"legendgroup\":\"\\ud83c\\uddf9\\ud83c\\uddf7\",\"marker\":{\"color\":\"#7F7F7F\",\"pattern\":{\"shape\":\"\"}},\"name\":\"\\ud83c\\uddf9\\ud83c\\uddf7\",\"offsetgroup\":\"\\ud83c\\uddf9\\ud83c\\uddf7\",\"orientation\":\"h\",\"showlegend\":true,\"textposition\":\"auto\",\"x\":[47],\"xaxis\":\"x\",\"y\":[\"\\ud83c\\uddf9\\ud83c\\uddf7\"],\"yaxis\":\"y\",\"type\":\"bar\"},{\"alignmentgroup\":\"True\",\"hovertemplate\":\"<b>%{hovertext}</b><br><br>flag=%{y}<br>date=2022-08-31<br>clicks=%{x}<extra></extra>\",\"hovertext\":[\"ita\"],\"legendgroup\":\"\\ud83c\\uddee\\ud83c\\uddf9\",\"marker\":{\"color\":\"#BCBD22\",\"pattern\":{\"shape\":\"\"}},\"name\":\"\\ud83c\\uddee\\ud83c\\uddf9\",\"offsetgroup\":\"\\ud83c\\uddee\\ud83c\\uddf9\",\"orientation\":\"h\",\"showlegend\":true,\"textposition\":\"auto\",\"x\":[28],\"xaxis\":\"x\",\"y\":[\"\\ud83c\\uddee\\ud83c\\uddf9\"],\"yaxis\":\"y\",\"type\":\"bar\"},{\"alignmentgroup\":\"True\",\"hovertemplate\":\"<b>%{hovertext}</b><br><br>flag=%{y}<br>date=2022-08-31<br>clicks=%{x}<extra></extra>\",\"hovertext\":[\"nld\"],\"legendgroup\":\"\\ud83c\\uddf3\\ud83c\\uddf1\",\"marker\":{\"color\":\"#17BECF\",\"pattern\":{\"shape\":\"\"}},\"name\":\"\\ud83c\\uddf3\\ud83c\\uddf1\",\"offsetgroup\":\"\\ud83c\\uddf3\\ud83c\\uddf1\",\"orientation\":\"h\",\"showlegend\":true,\"textposition\":\"auto\",\"x\":[24],\"xaxis\":\"x\",\"y\":[\"\\ud83c\\uddf3\\ud83c\\uddf1\"],\"yaxis\":\"y\",\"type\":\"bar\"},{\"alignmentgroup\":\"True\",\"hovertemplate\":\"<b>%{hovertext}</b><br><br>flag=%{y}<br>date=2022-08-31<br>clicks=%{x}<extra></extra>\",\"hovertext\":[\"pak\"],\"legendgroup\":\"\\ud83c\\uddf5\\ud83c\\uddf0\",\"marker\":{\"color\":\"#1F77B4\",\"pattern\":{\"shape\":\"\"}},\"name\":\"\\ud83c\\uddf5\\ud83c\\uddf0\",\"offsetgroup\":\"\\ud83c\\uddf5\\ud83c\\uddf0\",\"orientation\":\"h\",\"showlegend\":true,\"textposition\":\"auto\",\"x\":[25],\"xaxis\":\"x\",\"y\":[\"\\ud83c\\uddf5\\ud83c\\uddf0\"],\"yaxis\":\"y\",\"type\":\"bar\"},{\"alignmentgroup\":\"True\",\"hovertemplate\":\"<b>%{hovertext}</b><br><br>flag=%{y}<br>date=2022-08-31<br>clicks=%{x}<extra></extra>\",\"hovertext\":[\"pol\"],\"legendgroup\":\"\\ud83c\\uddf5\\ud83c\\uddf1\",\"marker\":{\"color\":\"#FF7F0E\",\"pattern\":{\"shape\":\"\"}},\"name\":\"\\ud83c\\uddf5\\ud83c\\uddf1\",\"offsetgroup\":\"\\ud83c\\uddf5\\ud83c\\uddf1\",\"orientation\":\"h\",\"showlegend\":true,\"textposition\":\"auto\",\"x\":[26],\"xaxis\":\"x\",\"y\":[\"\\ud83c\\uddf5\\ud83c\\uddf1\"],\"yaxis\":\"y\",\"type\":\"bar\"},{\"alignmentgroup\":\"True\",\"hovertemplate\":\"<b>%{hovertext}</b><br><br>flag=%{y}<br>date=2022-08-31<br>clicks=%{x}<extra></extra>\",\"hovertext\":[\"rus\"],\"legendgroup\":\"\\ud83c\\uddf7\\ud83c\\uddfa\",\"marker\":{\"color\":\"#2CA02C\",\"pattern\":{\"shape\":\"\"}},\"name\":\"\\ud83c\\uddf7\\ud83c\\uddfa\",\"offsetgroup\":\"\\ud83c\\uddf7\\ud83c\\uddfa\",\"orientation\":\"h\",\"showlegend\":true,\"textposition\":\"auto\",\"x\":[31],\"xaxis\":\"x\",\"y\":[\"\\ud83c\\uddf7\\ud83c\\uddfa\"],\"yaxis\":\"y\",\"type\":\"bar\"},{\"alignmentgroup\":\"True\",\"hovertemplate\":\"<b>%{hovertext}</b><br><br>flag=%{y}<br>date=2022-08-31<br>clicks=%{x}<extra></extra>\",\"hovertext\":[\"vnm\"],\"legendgroup\":\"\\ud83c\\uddfb\\ud83c\\uddf3\",\"marker\":{\"color\":\"#D62728\",\"pattern\":{\"shape\":\"\"}},\"name\":\"\\ud83c\\uddfb\\ud83c\\uddf3\",\"offsetgroup\":\"\\ud83c\\uddfb\\ud83c\\uddf3\",\"orientation\":\"h\",\"showlegend\":true,\"textposition\":\"auto\",\"x\":[27],\"xaxis\":\"x\",\"y\":[\"\\ud83c\\uddfb\\ud83c\\uddf3\"],\"yaxis\":\"y\",\"type\":\"bar\"},{\"alignmentgroup\":\"True\",\"hovertemplate\":\"<b>%{hovertext}</b><br><br>flag=%{y}<br>date=2022-08-31<br>clicks=%{x}<extra></extra>\",\"hovertext\":[\"irn\"],\"legendgroup\":\"\\ud83c\\uddee\\ud83c\\uddf7\",\"marker\":{\"color\":\"#9467BD\",\"pattern\":{\"shape\":\"\"}},\"name\":\"\\ud83c\\uddee\\ud83c\\uddf7\",\"offsetgroup\":\"\\ud83c\\uddee\\ud83c\\uddf7\",\"orientation\":\"h\",\"showlegend\":true,\"textposition\":\"auto\",\"x\":[29],\"xaxis\":\"x\",\"y\":[\"\\ud83c\\uddee\\ud83c\\uddf7\"],\"yaxis\":\"y\",\"type\":\"bar\"}],\"name\":\"2022-08-31\"},{\"data\":[{\"alignmentgroup\":\"True\",\"hovertemplate\":\"<b>%{hovertext}</b><br><br>flag=%{y}<br>date=2022-09-30<br>clicks=%{x}<extra></extra>\",\"hovertext\":[\"usa\"],\"legendgroup\":\"\\ud83c\\uddfa\\ud83c\\uddf8\",\"marker\":{\"color\":\"#1F77B4\",\"pattern\":{\"shape\":\"\"}},\"name\":\"\\ud83c\\uddfa\\ud83c\\uddf8\",\"offsetgroup\":\"\\ud83c\\uddfa\\ud83c\\uddf8\",\"orientation\":\"h\",\"showlegend\":true,\"textposition\":\"auto\",\"x\":[351],\"xaxis\":\"x\",\"y\":[\"\\ud83c\\uddfa\\ud83c\\uddf8\"],\"yaxis\":\"y\",\"type\":\"bar\"},{\"alignmentgroup\":\"True\",\"hovertemplate\":\"<b>%{hovertext}</b><br><br>flag=%{y}<br>date=2022-09-30<br>clicks=%{x}<extra></extra>\",\"hovertext\":[\"ind\"],\"legendgroup\":\"\\ud83c\\uddee\\ud83c\\uddf3\",\"marker\":{\"color\":\"#FF7F0E\",\"pattern\":{\"shape\":\"\"}},\"name\":\"\\ud83c\\uddee\\ud83c\\uddf3\",\"offsetgroup\":\"\\ud83c\\uddee\\ud83c\\uddf3\",\"orientation\":\"h\",\"showlegend\":true,\"textposition\":\"auto\",\"x\":[377],\"xaxis\":\"x\",\"y\":[\"\\ud83c\\uddee\\ud83c\\uddf3\"],\"yaxis\":\"y\",\"type\":\"bar\"},{\"alignmentgroup\":\"True\",\"hovertemplate\":\"<b>%{hovertext}</b><br><br>flag=%{y}<br>date=2022-09-30<br>clicks=%{x}<extra></extra>\",\"hovertext\":[\"deu\"],\"legendgroup\":\"\\ud83c\\udde9\\ud83c\\uddea\",\"marker\":{\"color\":\"#2CA02C\",\"pattern\":{\"shape\":\"\"}},\"name\":\"\\ud83c\\udde9\\ud83c\\uddea\",\"offsetgroup\":\"\\ud83c\\udde9\\ud83c\\uddea\",\"orientation\":\"h\",\"showlegend\":true,\"textposition\":\"auto\",\"x\":[112],\"xaxis\":\"x\",\"y\":[\"\\ud83c\\udde9\\ud83c\\uddea\"],\"yaxis\":\"y\",\"type\":\"bar\"},{\"alignmentgroup\":\"True\",\"hovertemplate\":\"<b>%{hovertext}</b><br><br>flag=%{y}<br>date=2022-09-30<br>clicks=%{x}<extra></extra>\",\"hovertext\":[\"gbr\"],\"legendgroup\":\"\\ud83c\\uddec\\ud83c\\udde7\",\"marker\":{\"color\":\"#D62728\",\"pattern\":{\"shape\":\"\"}},\"name\":\"\\ud83c\\uddec\\ud83c\\udde7\",\"offsetgroup\":\"\\ud83c\\uddec\\ud83c\\udde7\",\"orientation\":\"h\",\"showlegend\":true,\"textposition\":\"auto\",\"x\":[76],\"xaxis\":\"x\",\"y\":[\"\\ud83c\\uddec\\ud83c\\udde7\"],\"yaxis\":\"y\",\"type\":\"bar\"},{\"alignmentgroup\":\"True\",\"hovertemplate\":\"<b>%{hovertext}</b><br><br>flag=%{y}<br>date=2022-09-30<br>clicks=%{x}<extra></extra>\",\"hovertext\":[\"fra\"],\"legendgroup\":\"\\ud83c\\uddeb\\ud83c\\uddf7\",\"marker\":{\"color\":\"#9467BD\",\"pattern\":{\"shape\":\"\"}},\"name\":\"\\ud83c\\uddeb\\ud83c\\uddf7\",\"offsetgroup\":\"\\ud83c\\uddeb\\ud83c\\uddf7\",\"orientation\":\"h\",\"showlegend\":true,\"textposition\":\"auto\",\"x\":[67],\"xaxis\":\"x\",\"y\":[\"\\ud83c\\uddeb\\ud83c\\uddf7\"],\"yaxis\":\"y\",\"type\":\"bar\"},{\"alignmentgroup\":\"True\",\"hovertemplate\":\"<b>%{hovertext}</b><br><br>flag=%{y}<br>date=2022-09-30<br>clicks=%{x}<extra></extra>\",\"hovertext\":[\"esp\"],\"legendgroup\":\"\\ud83c\\uddea\\ud83c\\uddf8\",\"marker\":{\"color\":\"#8C564B\",\"pattern\":{\"shape\":\"\"}},\"name\":\"\\ud83c\\uddea\\ud83c\\uddf8\",\"offsetgroup\":\"\\ud83c\\uddea\\ud83c\\uddf8\",\"orientation\":\"h\",\"showlegend\":true,\"textposition\":\"auto\",\"x\":[34],\"xaxis\":\"x\",\"y\":[\"\\ud83c\\uddea\\ud83c\\uddf8\"],\"yaxis\":\"y\",\"type\":\"bar\"},{\"alignmentgroup\":\"True\",\"hovertemplate\":\"<b>%{hovertext}</b><br><br>flag=%{y}<br>date=2022-09-30<br>clicks=%{x}<extra></extra>\",\"hovertext\":[\"can\"],\"legendgroup\":\"\\ud83c\\udde8\\ud83c\\udde6\",\"marker\":{\"color\":\"#E377C2\",\"pattern\":{\"shape\":\"\"}},\"name\":\"\\ud83c\\udde8\\ud83c\\udde6\",\"offsetgroup\":\"\\ud83c\\udde8\\ud83c\\udde6\",\"orientation\":\"h\",\"showlegend\":true,\"textposition\":\"auto\",\"x\":[42],\"xaxis\":\"x\",\"y\":[\"\\ud83c\\udde8\\ud83c\\udde6\"],\"yaxis\":\"y\",\"type\":\"bar\"},{\"alignmentgroup\":\"True\",\"hovertemplate\":\"<b>%{hovertext}</b><br><br>flag=%{y}<br>date=2022-09-30<br>clicks=%{x}<extra></extra>\",\"hovertext\":[\"tur\"],\"legendgroup\":\"\\ud83c\\uddf9\\ud83c\\uddf7\",\"marker\":{\"color\":\"#7F7F7F\",\"pattern\":{\"shape\":\"\"}},\"name\":\"\\ud83c\\uddf9\\ud83c\\uddf7\",\"offsetgroup\":\"\\ud83c\\uddf9\\ud83c\\uddf7\",\"orientation\":\"h\",\"showlegend\":true,\"textposition\":\"auto\",\"x\":[67],\"xaxis\":\"x\",\"y\":[\"\\ud83c\\uddf9\\ud83c\\uddf7\"],\"yaxis\":\"y\",\"type\":\"bar\"},{\"alignmentgroup\":\"True\",\"hovertemplate\":\"<b>%{hovertext}</b><br><br>flag=%{y}<br>date=2022-09-30<br>clicks=%{x}<extra></extra>\",\"hovertext\":[\"ita\"],\"legendgroup\":\"\\ud83c\\uddee\\ud83c\\uddf9\",\"marker\":{\"color\":\"#BCBD22\",\"pattern\":{\"shape\":\"\"}},\"name\":\"\\ud83c\\uddee\\ud83c\\uddf9\",\"offsetgroup\":\"\\ud83c\\uddee\\ud83c\\uddf9\",\"orientation\":\"h\",\"showlegend\":true,\"textposition\":\"auto\",\"x\":[42],\"xaxis\":\"x\",\"y\":[\"\\ud83c\\uddee\\ud83c\\uddf9\"],\"yaxis\":\"y\",\"type\":\"bar\"},{\"alignmentgroup\":\"True\",\"hovertemplate\":\"<b>%{hovertext}</b><br><br>flag=%{y}<br>date=2022-09-30<br>clicks=%{x}<extra></extra>\",\"hovertext\":[\"nld\"],\"legendgroup\":\"\\ud83c\\uddf3\\ud83c\\uddf1\",\"marker\":{\"color\":\"#17BECF\",\"pattern\":{\"shape\":\"\"}},\"name\":\"\\ud83c\\uddf3\\ud83c\\uddf1\",\"offsetgroup\":\"\\ud83c\\uddf3\\ud83c\\uddf1\",\"orientation\":\"h\",\"showlegend\":true,\"textposition\":\"auto\",\"x\":[42],\"xaxis\":\"x\",\"y\":[\"\\ud83c\\uddf3\\ud83c\\uddf1\"],\"yaxis\":\"y\",\"type\":\"bar\"},{\"alignmentgroup\":\"True\",\"hovertemplate\":\"<b>%{hovertext}</b><br><br>flag=%{y}<br>date=2022-09-30<br>clicks=%{x}<extra></extra>\",\"hovertext\":[\"pak\"],\"legendgroup\":\"\\ud83c\\uddf5\\ud83c\\uddf0\",\"marker\":{\"color\":\"#1F77B4\",\"pattern\":{\"shape\":\"\"}},\"name\":\"\\ud83c\\uddf5\\ud83c\\uddf0\",\"offsetgroup\":\"\\ud83c\\uddf5\\ud83c\\uddf0\",\"orientation\":\"h\",\"showlegend\":true,\"textposition\":\"auto\",\"x\":[13],\"xaxis\":\"x\",\"y\":[\"\\ud83c\\uddf5\\ud83c\\uddf0\"],\"yaxis\":\"y\",\"type\":\"bar\"},{\"alignmentgroup\":\"True\",\"hovertemplate\":\"<b>%{hovertext}</b><br><br>flag=%{y}<br>date=2022-09-30<br>clicks=%{x}<extra></extra>\",\"hovertext\":[\"pol\"],\"legendgroup\":\"\\ud83c\\uddf5\\ud83c\\uddf1\",\"marker\":{\"color\":\"#FF7F0E\",\"pattern\":{\"shape\":\"\"}},\"name\":\"\\ud83c\\uddf5\\ud83c\\uddf1\",\"offsetgroup\":\"\\ud83c\\uddf5\\ud83c\\uddf1\",\"orientation\":\"h\",\"showlegend\":true,\"textposition\":\"auto\",\"x\":[35],\"xaxis\":\"x\",\"y\":[\"\\ud83c\\uddf5\\ud83c\\uddf1\"],\"yaxis\":\"y\",\"type\":\"bar\"},{\"alignmentgroup\":\"True\",\"hovertemplate\":\"<b>%{hovertext}</b><br><br>flag=%{y}<br>date=2022-09-30<br>clicks=%{x}<extra></extra>\",\"hovertext\":[\"rus\"],\"legendgroup\":\"\\ud83c\\uddf7\\ud83c\\uddfa\",\"marker\":{\"color\":\"#2CA02C\",\"pattern\":{\"shape\":\"\"}},\"name\":\"\\ud83c\\uddf7\\ud83c\\uddfa\",\"offsetgroup\":\"\\ud83c\\uddf7\\ud83c\\uddfa\",\"orientation\":\"h\",\"showlegend\":true,\"textposition\":\"auto\",\"x\":[21],\"xaxis\":\"x\",\"y\":[\"\\ud83c\\uddf7\\ud83c\\uddfa\"],\"yaxis\":\"y\",\"type\":\"bar\"},{\"alignmentgroup\":\"True\",\"hovertemplate\":\"<b>%{hovertext}</b><br><br>flag=%{y}<br>date=2022-09-30<br>clicks=%{x}<extra></extra>\",\"hovertext\":[\"vnm\"],\"legendgroup\":\"\\ud83c\\uddfb\\ud83c\\uddf3\",\"marker\":{\"color\":\"#D62728\",\"pattern\":{\"shape\":\"\"}},\"name\":\"\\ud83c\\uddfb\\ud83c\\uddf3\",\"offsetgroup\":\"\\ud83c\\uddfb\\ud83c\\uddf3\",\"orientation\":\"h\",\"showlegend\":true,\"textposition\":\"auto\",\"x\":[9],\"xaxis\":\"x\",\"y\":[\"\\ud83c\\uddfb\\ud83c\\uddf3\"],\"yaxis\":\"y\",\"type\":\"bar\"},{\"alignmentgroup\":\"True\",\"hovertemplate\":\"<b>%{hovertext}</b><br><br>flag=%{y}<br>date=2022-09-30<br>clicks=%{x}<extra></extra>\",\"hovertext\":[\"irn\"],\"legendgroup\":\"\\ud83c\\uddee\\ud83c\\uddf7\",\"marker\":{\"color\":\"#9467BD\",\"pattern\":{\"shape\":\"\"}},\"name\":\"\\ud83c\\uddee\\ud83c\\uddf7\",\"offsetgroup\":\"\\ud83c\\uddee\\ud83c\\uddf7\",\"orientation\":\"h\",\"showlegend\":true,\"textposition\":\"auto\",\"x\":[31],\"xaxis\":\"x\",\"y\":[\"\\ud83c\\uddee\\ud83c\\uddf7\"],\"yaxis\":\"y\",\"type\":\"bar\"}],\"name\":\"2022-09-30\"},{\"data\":[{\"alignmentgroup\":\"True\",\"hovertemplate\":\"<b>%{hovertext}</b><br><br>flag=%{y}<br>date=2022-10-31<br>clicks=%{x}<extra></extra>\",\"hovertext\":[\"usa\"],\"legendgroup\":\"\\ud83c\\uddfa\\ud83c\\uddf8\",\"marker\":{\"color\":\"#1F77B4\",\"pattern\":{\"shape\":\"\"}},\"name\":\"\\ud83c\\uddfa\\ud83c\\uddf8\",\"offsetgroup\":\"\\ud83c\\uddfa\\ud83c\\uddf8\",\"orientation\":\"h\",\"showlegend\":true,\"textposition\":\"auto\",\"x\":[438],\"xaxis\":\"x\",\"y\":[\"\\ud83c\\uddfa\\ud83c\\uddf8\"],\"yaxis\":\"y\",\"type\":\"bar\"},{\"alignmentgroup\":\"True\",\"hovertemplate\":\"<b>%{hovertext}</b><br><br>flag=%{y}<br>date=2022-10-31<br>clicks=%{x}<extra></extra>\",\"hovertext\":[\"ind\"],\"legendgroup\":\"\\ud83c\\uddee\\ud83c\\uddf3\",\"marker\":{\"color\":\"#FF7F0E\",\"pattern\":{\"shape\":\"\"}},\"name\":\"\\ud83c\\uddee\\ud83c\\uddf3\",\"offsetgroup\":\"\\ud83c\\uddee\\ud83c\\uddf3\",\"orientation\":\"h\",\"showlegend\":true,\"textposition\":\"auto\",\"x\":[349],\"xaxis\":\"x\",\"y\":[\"\\ud83c\\uddee\\ud83c\\uddf3\"],\"yaxis\":\"y\",\"type\":\"bar\"},{\"alignmentgroup\":\"True\",\"hovertemplate\":\"<b>%{hovertext}</b><br><br>flag=%{y}<br>date=2022-10-31<br>clicks=%{x}<extra></extra>\",\"hovertext\":[\"deu\"],\"legendgroup\":\"\\ud83c\\udde9\\ud83c\\uddea\",\"marker\":{\"color\":\"#2CA02C\",\"pattern\":{\"shape\":\"\"}},\"name\":\"\\ud83c\\udde9\\ud83c\\uddea\",\"offsetgroup\":\"\\ud83c\\udde9\\ud83c\\uddea\",\"orientation\":\"h\",\"showlegend\":true,\"textposition\":\"auto\",\"x\":[127],\"xaxis\":\"x\",\"y\":[\"\\ud83c\\udde9\\ud83c\\uddea\"],\"yaxis\":\"y\",\"type\":\"bar\"},{\"alignmentgroup\":\"True\",\"hovertemplate\":\"<b>%{hovertext}</b><br><br>flag=%{y}<br>date=2022-10-31<br>clicks=%{x}<extra></extra>\",\"hovertext\":[\"gbr\"],\"legendgroup\":\"\\ud83c\\uddec\\ud83c\\udde7\",\"marker\":{\"color\":\"#D62728\",\"pattern\":{\"shape\":\"\"}},\"name\":\"\\ud83c\\uddec\\ud83c\\udde7\",\"offsetgroup\":\"\\ud83c\\uddec\\ud83c\\udde7\",\"orientation\":\"h\",\"showlegend\":true,\"textposition\":\"auto\",\"x\":[108],\"xaxis\":\"x\",\"y\":[\"\\ud83c\\uddec\\ud83c\\udde7\"],\"yaxis\":\"y\",\"type\":\"bar\"},{\"alignmentgroup\":\"True\",\"hovertemplate\":\"<b>%{hovertext}</b><br><br>flag=%{y}<br>date=2022-10-31<br>clicks=%{x}<extra></extra>\",\"hovertext\":[\"fra\"],\"legendgroup\":\"\\ud83c\\uddeb\\ud83c\\uddf7\",\"marker\":{\"color\":\"#9467BD\",\"pattern\":{\"shape\":\"\"}},\"name\":\"\\ud83c\\uddeb\\ud83c\\uddf7\",\"offsetgroup\":\"\\ud83c\\uddeb\\ud83c\\uddf7\",\"orientation\":\"h\",\"showlegend\":true,\"textposition\":\"auto\",\"x\":[99],\"xaxis\":\"x\",\"y\":[\"\\ud83c\\uddeb\\ud83c\\uddf7\"],\"yaxis\":\"y\",\"type\":\"bar\"},{\"alignmentgroup\":\"True\",\"hovertemplate\":\"<b>%{hovertext}</b><br><br>flag=%{y}<br>date=2022-10-31<br>clicks=%{x}<extra></extra>\",\"hovertext\":[\"esp\"],\"legendgroup\":\"\\ud83c\\uddea\\ud83c\\uddf8\",\"marker\":{\"color\":\"#8C564B\",\"pattern\":{\"shape\":\"\"}},\"name\":\"\\ud83c\\uddea\\ud83c\\uddf8\",\"offsetgroup\":\"\\ud83c\\uddea\\ud83c\\uddf8\",\"orientation\":\"h\",\"showlegend\":true,\"textposition\":\"auto\",\"x\":[56],\"xaxis\":\"x\",\"y\":[\"\\ud83c\\uddea\\ud83c\\uddf8\"],\"yaxis\":\"y\",\"type\":\"bar\"},{\"alignmentgroup\":\"True\",\"hovertemplate\":\"<b>%{hovertext}</b><br><br>flag=%{y}<br>date=2022-10-31<br>clicks=%{x}<extra></extra>\",\"hovertext\":[\"can\"],\"legendgroup\":\"\\ud83c\\udde8\\ud83c\\udde6\",\"marker\":{\"color\":\"#E377C2\",\"pattern\":{\"shape\":\"\"}},\"name\":\"\\ud83c\\udde8\\ud83c\\udde6\",\"offsetgroup\":\"\\ud83c\\udde8\\ud83c\\udde6\",\"orientation\":\"h\",\"showlegend\":true,\"textposition\":\"auto\",\"x\":[69],\"xaxis\":\"x\",\"y\":[\"\\ud83c\\udde8\\ud83c\\udde6\"],\"yaxis\":\"y\",\"type\":\"bar\"},{\"alignmentgroup\":\"True\",\"hovertemplate\":\"<b>%{hovertext}</b><br><br>flag=%{y}<br>date=2022-10-31<br>clicks=%{x}<extra></extra>\",\"hovertext\":[\"tur\"],\"legendgroup\":\"\\ud83c\\uddf9\\ud83c\\uddf7\",\"marker\":{\"color\":\"#7F7F7F\",\"pattern\":{\"shape\":\"\"}},\"name\":\"\\ud83c\\uddf9\\ud83c\\uddf7\",\"offsetgroup\":\"\\ud83c\\uddf9\\ud83c\\uddf7\",\"orientation\":\"h\",\"showlegend\":true,\"textposition\":\"auto\",\"x\":[55],\"xaxis\":\"x\",\"y\":[\"\\ud83c\\uddf9\\ud83c\\uddf7\"],\"yaxis\":\"y\",\"type\":\"bar\"},{\"alignmentgroup\":\"True\",\"hovertemplate\":\"<b>%{hovertext}</b><br><br>flag=%{y}<br>date=2022-10-31<br>clicks=%{x}<extra></extra>\",\"hovertext\":[\"ita\"],\"legendgroup\":\"\\ud83c\\uddee\\ud83c\\uddf9\",\"marker\":{\"color\":\"#BCBD22\",\"pattern\":{\"shape\":\"\"}},\"name\":\"\\ud83c\\uddee\\ud83c\\uddf9\",\"offsetgroup\":\"\\ud83c\\uddee\\ud83c\\uddf9\",\"orientation\":\"h\",\"showlegend\":true,\"textposition\":\"auto\",\"x\":[53],\"xaxis\":\"x\",\"y\":[\"\\ud83c\\uddee\\ud83c\\uddf9\"],\"yaxis\":\"y\",\"type\":\"bar\"},{\"alignmentgroup\":\"True\",\"hovertemplate\":\"<b>%{hovertext}</b><br><br>flag=%{y}<br>date=2022-10-31<br>clicks=%{x}<extra></extra>\",\"hovertext\":[\"nld\"],\"legendgroup\":\"\\ud83c\\uddf3\\ud83c\\uddf1\",\"marker\":{\"color\":\"#17BECF\",\"pattern\":{\"shape\":\"\"}},\"name\":\"\\ud83c\\uddf3\\ud83c\\uddf1\",\"offsetgroup\":\"\\ud83c\\uddf3\\ud83c\\uddf1\",\"orientation\":\"h\",\"showlegend\":true,\"textposition\":\"auto\",\"x\":[53],\"xaxis\":\"x\",\"y\":[\"\\ud83c\\uddf3\\ud83c\\uddf1\"],\"yaxis\":\"y\",\"type\":\"bar\"},{\"alignmentgroup\":\"True\",\"hovertemplate\":\"<b>%{hovertext}</b><br><br>flag=%{y}<br>date=2022-10-31<br>clicks=%{x}<extra></extra>\",\"hovertext\":[\"pak\"],\"legendgroup\":\"\\ud83c\\uddf5\\ud83c\\uddf0\",\"marker\":{\"color\":\"#1F77B4\",\"pattern\":{\"shape\":\"\"}},\"name\":\"\\ud83c\\uddf5\\ud83c\\uddf0\",\"offsetgroup\":\"\\ud83c\\uddf5\\ud83c\\uddf0\",\"orientation\":\"h\",\"showlegend\":true,\"textposition\":\"auto\",\"x\":[50],\"xaxis\":\"x\",\"y\":[\"\\ud83c\\uddf5\\ud83c\\uddf0\"],\"yaxis\":\"y\",\"type\":\"bar\"},{\"alignmentgroup\":\"True\",\"hovertemplate\":\"<b>%{hovertext}</b><br><br>flag=%{y}<br>date=2022-10-31<br>clicks=%{x}<extra></extra>\",\"hovertext\":[\"pol\"],\"legendgroup\":\"\\ud83c\\uddf5\\ud83c\\uddf1\",\"marker\":{\"color\":\"#FF7F0E\",\"pattern\":{\"shape\":\"\"}},\"name\":\"\\ud83c\\uddf5\\ud83c\\uddf1\",\"offsetgroup\":\"\\ud83c\\uddf5\\ud83c\\uddf1\",\"orientation\":\"h\",\"showlegend\":true,\"textposition\":\"auto\",\"x\":[31],\"xaxis\":\"x\",\"y\":[\"\\ud83c\\uddf5\\ud83c\\uddf1\"],\"yaxis\":\"y\",\"type\":\"bar\"},{\"alignmentgroup\":\"True\",\"hovertemplate\":\"<b>%{hovertext}</b><br><br>flag=%{y}<br>date=2022-10-31<br>clicks=%{x}<extra></extra>\",\"hovertext\":[\"rus\"],\"legendgroup\":\"\\ud83c\\uddf7\\ud83c\\uddfa\",\"marker\":{\"color\":\"#2CA02C\",\"pattern\":{\"shape\":\"\"}},\"name\":\"\\ud83c\\uddf7\\ud83c\\uddfa\",\"offsetgroup\":\"\\ud83c\\uddf7\\ud83c\\uddfa\",\"orientation\":\"h\",\"showlegend\":true,\"textposition\":\"auto\",\"x\":[50],\"xaxis\":\"x\",\"y\":[\"\\ud83c\\uddf7\\ud83c\\uddfa\"],\"yaxis\":\"y\",\"type\":\"bar\"},{\"alignmentgroup\":\"True\",\"hovertemplate\":\"<b>%{hovertext}</b><br><br>flag=%{y}<br>date=2022-10-31<br>clicks=%{x}<extra></extra>\",\"hovertext\":[\"vnm\"],\"legendgroup\":\"\\ud83c\\uddfb\\ud83c\\uddf3\",\"marker\":{\"color\":\"#D62728\",\"pattern\":{\"shape\":\"\"}},\"name\":\"\\ud83c\\uddfb\\ud83c\\uddf3\",\"offsetgroup\":\"\\ud83c\\uddfb\\ud83c\\uddf3\",\"orientation\":\"h\",\"showlegend\":true,\"textposition\":\"auto\",\"x\":[34],\"xaxis\":\"x\",\"y\":[\"\\ud83c\\uddfb\\ud83c\\uddf3\"],\"yaxis\":\"y\",\"type\":\"bar\"},{\"alignmentgroup\":\"True\",\"hovertemplate\":\"<b>%{hovertext}</b><br><br>flag=%{y}<br>date=2022-10-31<br>clicks=%{x}<extra></extra>\",\"hovertext\":[\"irn\"],\"legendgroup\":\"\\ud83c\\uddee\\ud83c\\uddf7\",\"marker\":{\"color\":\"#9467BD\",\"pattern\":{\"shape\":\"\"}},\"name\":\"\\ud83c\\uddee\\ud83c\\uddf7\",\"offsetgroup\":\"\\ud83c\\uddee\\ud83c\\uddf7\",\"orientation\":\"h\",\"showlegend\":true,\"textposition\":\"auto\",\"x\":[30],\"xaxis\":\"x\",\"y\":[\"\\ud83c\\uddee\\ud83c\\uddf7\"],\"yaxis\":\"y\",\"type\":\"bar\"}],\"name\":\"2022-10-31\"},{\"data\":[{\"alignmentgroup\":\"True\",\"hovertemplate\":\"<b>%{hovertext}</b><br><br>flag=%{y}<br>date=2022-11-30<br>clicks=%{x}<extra></extra>\",\"hovertext\":[\"usa\"],\"legendgroup\":\"\\ud83c\\uddfa\\ud83c\\uddf8\",\"marker\":{\"color\":\"#1F77B4\",\"pattern\":{\"shape\":\"\"}},\"name\":\"\\ud83c\\uddfa\\ud83c\\uddf8\",\"offsetgroup\":\"\\ud83c\\uddfa\\ud83c\\uddf8\",\"orientation\":\"h\",\"showlegend\":true,\"textposition\":\"auto\",\"x\":[462],\"xaxis\":\"x\",\"y\":[\"\\ud83c\\uddfa\\ud83c\\uddf8\"],\"yaxis\":\"y\",\"type\":\"bar\"},{\"alignmentgroup\":\"True\",\"hovertemplate\":\"<b>%{hovertext}</b><br><br>flag=%{y}<br>date=2022-11-30<br>clicks=%{x}<extra></extra>\",\"hovertext\":[\"ind\"],\"legendgroup\":\"\\ud83c\\uddee\\ud83c\\uddf3\",\"marker\":{\"color\":\"#FF7F0E\",\"pattern\":{\"shape\":\"\"}},\"name\":\"\\ud83c\\uddee\\ud83c\\uddf3\",\"offsetgroup\":\"\\ud83c\\uddee\\ud83c\\uddf3\",\"orientation\":\"h\",\"showlegend\":true,\"textposition\":\"auto\",\"x\":[474],\"xaxis\":\"x\",\"y\":[\"\\ud83c\\uddee\\ud83c\\uddf3\"],\"yaxis\":\"y\",\"type\":\"bar\"},{\"alignmentgroup\":\"True\",\"hovertemplate\":\"<b>%{hovertext}</b><br><br>flag=%{y}<br>date=2022-11-30<br>clicks=%{x}<extra></extra>\",\"hovertext\":[\"deu\"],\"legendgroup\":\"\\ud83c\\udde9\\ud83c\\uddea\",\"marker\":{\"color\":\"#2CA02C\",\"pattern\":{\"shape\":\"\"}},\"name\":\"\\ud83c\\udde9\\ud83c\\uddea\",\"offsetgroup\":\"\\ud83c\\udde9\\ud83c\\uddea\",\"orientation\":\"h\",\"showlegend\":true,\"textposition\":\"auto\",\"x\":[119],\"xaxis\":\"x\",\"y\":[\"\\ud83c\\udde9\\ud83c\\uddea\"],\"yaxis\":\"y\",\"type\":\"bar\"},{\"alignmentgroup\":\"True\",\"hovertemplate\":\"<b>%{hovertext}</b><br><br>flag=%{y}<br>date=2022-11-30<br>clicks=%{x}<extra></extra>\",\"hovertext\":[\"gbr\"],\"legendgroup\":\"\\ud83c\\uddec\\ud83c\\udde7\",\"marker\":{\"color\":\"#D62728\",\"pattern\":{\"shape\":\"\"}},\"name\":\"\\ud83c\\uddec\\ud83c\\udde7\",\"offsetgroup\":\"\\ud83c\\uddec\\ud83c\\udde7\",\"orientation\":\"h\",\"showlegend\":true,\"textposition\":\"auto\",\"x\":[120],\"xaxis\":\"x\",\"y\":[\"\\ud83c\\uddec\\ud83c\\udde7\"],\"yaxis\":\"y\",\"type\":\"bar\"},{\"alignmentgroup\":\"True\",\"hovertemplate\":\"<b>%{hovertext}</b><br><br>flag=%{y}<br>date=2022-11-30<br>clicks=%{x}<extra></extra>\",\"hovertext\":[\"fra\"],\"legendgroup\":\"\\ud83c\\uddeb\\ud83c\\uddf7\",\"marker\":{\"color\":\"#9467BD\",\"pattern\":{\"shape\":\"\"}},\"name\":\"\\ud83c\\uddeb\\ud83c\\uddf7\",\"offsetgroup\":\"\\ud83c\\uddeb\\ud83c\\uddf7\",\"orientation\":\"h\",\"showlegend\":true,\"textposition\":\"auto\",\"x\":[108],\"xaxis\":\"x\",\"y\":[\"\\ud83c\\uddeb\\ud83c\\uddf7\"],\"yaxis\":\"y\",\"type\":\"bar\"},{\"alignmentgroup\":\"True\",\"hovertemplate\":\"<b>%{hovertext}</b><br><br>flag=%{y}<br>date=2022-11-30<br>clicks=%{x}<extra></extra>\",\"hovertext\":[\"esp\"],\"legendgroup\":\"\\ud83c\\uddea\\ud83c\\uddf8\",\"marker\":{\"color\":\"#8C564B\",\"pattern\":{\"shape\":\"\"}},\"name\":\"\\ud83c\\uddea\\ud83c\\uddf8\",\"offsetgroup\":\"\\ud83c\\uddea\\ud83c\\uddf8\",\"orientation\":\"h\",\"showlegend\":true,\"textposition\":\"auto\",\"x\":[54],\"xaxis\":\"x\",\"y\":[\"\\ud83c\\uddea\\ud83c\\uddf8\"],\"yaxis\":\"y\",\"type\":\"bar\"},{\"alignmentgroup\":\"True\",\"hovertemplate\":\"<b>%{hovertext}</b><br><br>flag=%{y}<br>date=2022-11-30<br>clicks=%{x}<extra></extra>\",\"hovertext\":[\"can\"],\"legendgroup\":\"\\ud83c\\udde8\\ud83c\\udde6\",\"marker\":{\"color\":\"#E377C2\",\"pattern\":{\"shape\":\"\"}},\"name\":\"\\ud83c\\udde8\\ud83c\\udde6\",\"offsetgroup\":\"\\ud83c\\udde8\\ud83c\\udde6\",\"orientation\":\"h\",\"showlegend\":true,\"textposition\":\"auto\",\"x\":[67],\"xaxis\":\"x\",\"y\":[\"\\ud83c\\udde8\\ud83c\\udde6\"],\"yaxis\":\"y\",\"type\":\"bar\"},{\"alignmentgroup\":\"True\",\"hovertemplate\":\"<b>%{hovertext}</b><br><br>flag=%{y}<br>date=2022-11-30<br>clicks=%{x}<extra></extra>\",\"hovertext\":[\"tur\"],\"legendgroup\":\"\\ud83c\\uddf9\\ud83c\\uddf7\",\"marker\":{\"color\":\"#7F7F7F\",\"pattern\":{\"shape\":\"\"}},\"name\":\"\\ud83c\\uddf9\\ud83c\\uddf7\",\"offsetgroup\":\"\\ud83c\\uddf9\\ud83c\\uddf7\",\"orientation\":\"h\",\"showlegend\":true,\"textposition\":\"auto\",\"x\":[50],\"xaxis\":\"x\",\"y\":[\"\\ud83c\\uddf9\\ud83c\\uddf7\"],\"yaxis\":\"y\",\"type\":\"bar\"},{\"alignmentgroup\":\"True\",\"hovertemplate\":\"<b>%{hovertext}</b><br><br>flag=%{y}<br>date=2022-11-30<br>clicks=%{x}<extra></extra>\",\"hovertext\":[\"ita\"],\"legendgroup\":\"\\ud83c\\uddee\\ud83c\\uddf9\",\"marker\":{\"color\":\"#BCBD22\",\"pattern\":{\"shape\":\"\"}},\"name\":\"\\ud83c\\uddee\\ud83c\\uddf9\",\"offsetgroup\":\"\\ud83c\\uddee\\ud83c\\uddf9\",\"orientation\":\"h\",\"showlegend\":true,\"textposition\":\"auto\",\"x\":[57],\"xaxis\":\"x\",\"y\":[\"\\ud83c\\uddee\\ud83c\\uddf9\"],\"yaxis\":\"y\",\"type\":\"bar\"},{\"alignmentgroup\":\"True\",\"hovertemplate\":\"<b>%{hovertext}</b><br><br>flag=%{y}<br>date=2022-11-30<br>clicks=%{x}<extra></extra>\",\"hovertext\":[\"nld\"],\"legendgroup\":\"\\ud83c\\uddf3\\ud83c\\uddf1\",\"marker\":{\"color\":\"#17BECF\",\"pattern\":{\"shape\":\"\"}},\"name\":\"\\ud83c\\uddf3\\ud83c\\uddf1\",\"offsetgroup\":\"\\ud83c\\uddf3\\ud83c\\uddf1\",\"orientation\":\"h\",\"showlegend\":true,\"textposition\":\"auto\",\"x\":[47],\"xaxis\":\"x\",\"y\":[\"\\ud83c\\uddf3\\ud83c\\uddf1\"],\"yaxis\":\"y\",\"type\":\"bar\"},{\"alignmentgroup\":\"True\",\"hovertemplate\":\"<b>%{hovertext}</b><br><br>flag=%{y}<br>date=2022-11-30<br>clicks=%{x}<extra></extra>\",\"hovertext\":[\"pak\"],\"legendgroup\":\"\\ud83c\\uddf5\\ud83c\\uddf0\",\"marker\":{\"color\":\"#1F77B4\",\"pattern\":{\"shape\":\"\"}},\"name\":\"\\ud83c\\uddf5\\ud83c\\uddf0\",\"offsetgroup\":\"\\ud83c\\uddf5\\ud83c\\uddf0\",\"orientation\":\"h\",\"showlegend\":true,\"textposition\":\"auto\",\"x\":[28],\"xaxis\":\"x\",\"y\":[\"\\ud83c\\uddf5\\ud83c\\uddf0\"],\"yaxis\":\"y\",\"type\":\"bar\"},{\"alignmentgroup\":\"True\",\"hovertemplate\":\"<b>%{hovertext}</b><br><br>flag=%{y}<br>date=2022-11-30<br>clicks=%{x}<extra></extra>\",\"hovertext\":[\"pol\"],\"legendgroup\":\"\\ud83c\\uddf5\\ud83c\\uddf1\",\"marker\":{\"color\":\"#FF7F0E\",\"pattern\":{\"shape\":\"\"}},\"name\":\"\\ud83c\\uddf5\\ud83c\\uddf1\",\"offsetgroup\":\"\\ud83c\\uddf5\\ud83c\\uddf1\",\"orientation\":\"h\",\"showlegend\":true,\"textposition\":\"auto\",\"x\":[40],\"xaxis\":\"x\",\"y\":[\"\\ud83c\\uddf5\\ud83c\\uddf1\"],\"yaxis\":\"y\",\"type\":\"bar\"},{\"alignmentgroup\":\"True\",\"hovertemplate\":\"<b>%{hovertext}</b><br><br>flag=%{y}<br>date=2022-11-30<br>clicks=%{x}<extra></extra>\",\"hovertext\":[\"rus\"],\"legendgroup\":\"\\ud83c\\uddf7\\ud83c\\uddfa\",\"marker\":{\"color\":\"#2CA02C\",\"pattern\":{\"shape\":\"\"}},\"name\":\"\\ud83c\\uddf7\\ud83c\\uddfa\",\"offsetgroup\":\"\\ud83c\\uddf7\\ud83c\\uddfa\",\"orientation\":\"h\",\"showlegend\":true,\"textposition\":\"auto\",\"x\":[42],\"xaxis\":\"x\",\"y\":[\"\\ud83c\\uddf7\\ud83c\\uddfa\"],\"yaxis\":\"y\",\"type\":\"bar\"},{\"alignmentgroup\":\"True\",\"hovertemplate\":\"<b>%{hovertext}</b><br><br>flag=%{y}<br>date=2022-11-30<br>clicks=%{x}<extra></extra>\",\"hovertext\":[\"vnm\"],\"legendgroup\":\"\\ud83c\\uddfb\\ud83c\\uddf3\",\"marker\":{\"color\":\"#D62728\",\"pattern\":{\"shape\":\"\"}},\"name\":\"\\ud83c\\uddfb\\ud83c\\uddf3\",\"offsetgroup\":\"\\ud83c\\uddfb\\ud83c\\uddf3\",\"orientation\":\"h\",\"showlegend\":true,\"textposition\":\"auto\",\"x\":[35],\"xaxis\":\"x\",\"y\":[\"\\ud83c\\uddfb\\ud83c\\uddf3\"],\"yaxis\":\"y\",\"type\":\"bar\"},{\"alignmentgroup\":\"True\",\"hovertemplate\":\"<b>%{hovertext}</b><br><br>flag=%{y}<br>date=2022-11-30<br>clicks=%{x}<extra></extra>\",\"hovertext\":[\"irn\"],\"legendgroup\":\"\\ud83c\\uddee\\ud83c\\uddf7\",\"marker\":{\"color\":\"#9467BD\",\"pattern\":{\"shape\":\"\"}},\"name\":\"\\ud83c\\uddee\\ud83c\\uddf7\",\"offsetgroup\":\"\\ud83c\\uddee\\ud83c\\uddf7\",\"orientation\":\"h\",\"showlegend\":true,\"textposition\":\"auto\",\"x\":[19],\"xaxis\":\"x\",\"y\":[\"\\ud83c\\uddee\\ud83c\\uddf7\"],\"yaxis\":\"y\",\"type\":\"bar\"}],\"name\":\"2022-11-30\"},{\"data\":[{\"alignmentgroup\":\"True\",\"hovertemplate\":\"<b>%{hovertext}</b><br><br>flag=%{y}<br>date=2022-12-31<br>clicks=%{x}<extra></extra>\",\"hovertext\":[\"usa\"],\"legendgroup\":\"\\ud83c\\uddfa\\ud83c\\uddf8\",\"marker\":{\"color\":\"#1F77B4\",\"pattern\":{\"shape\":\"\"}},\"name\":\"\\ud83c\\uddfa\\ud83c\\uddf8\",\"offsetgroup\":\"\\ud83c\\uddfa\\ud83c\\uddf8\",\"orientation\":\"h\",\"showlegend\":true,\"textposition\":\"auto\",\"x\":[329],\"xaxis\":\"x\",\"y\":[\"\\ud83c\\uddfa\\ud83c\\uddf8\"],\"yaxis\":\"y\",\"type\":\"bar\"},{\"alignmentgroup\":\"True\",\"hovertemplate\":\"<b>%{hovertext}</b><br><br>flag=%{y}<br>date=2022-12-31<br>clicks=%{x}<extra></extra>\",\"hovertext\":[\"ind\"],\"legendgroup\":\"\\ud83c\\uddee\\ud83c\\uddf3\",\"marker\":{\"color\":\"#FF7F0E\",\"pattern\":{\"shape\":\"\"}},\"name\":\"\\ud83c\\uddee\\ud83c\\uddf3\",\"offsetgroup\":\"\\ud83c\\uddee\\ud83c\\uddf3\",\"orientation\":\"h\",\"showlegend\":true,\"textposition\":\"auto\",\"x\":[414],\"xaxis\":\"x\",\"y\":[\"\\ud83c\\uddee\\ud83c\\uddf3\"],\"yaxis\":\"y\",\"type\":\"bar\"},{\"alignmentgroup\":\"True\",\"hovertemplate\":\"<b>%{hovertext}</b><br><br>flag=%{y}<br>date=2022-12-31<br>clicks=%{x}<extra></extra>\",\"hovertext\":[\"deu\"],\"legendgroup\":\"\\ud83c\\udde9\\ud83c\\uddea\",\"marker\":{\"color\":\"#2CA02C\",\"pattern\":{\"shape\":\"\"}},\"name\":\"\\ud83c\\udde9\\ud83c\\uddea\",\"offsetgroup\":\"\\ud83c\\udde9\\ud83c\\uddea\",\"orientation\":\"h\",\"showlegend\":true,\"textposition\":\"auto\",\"x\":[102],\"xaxis\":\"x\",\"y\":[\"\\ud83c\\udde9\\ud83c\\uddea\"],\"yaxis\":\"y\",\"type\":\"bar\"},{\"alignmentgroup\":\"True\",\"hovertemplate\":\"<b>%{hovertext}</b><br><br>flag=%{y}<br>date=2022-12-31<br>clicks=%{x}<extra></extra>\",\"hovertext\":[\"gbr\"],\"legendgroup\":\"\\ud83c\\uddec\\ud83c\\udde7\",\"marker\":{\"color\":\"#D62728\",\"pattern\":{\"shape\":\"\"}},\"name\":\"\\ud83c\\uddec\\ud83c\\udde7\",\"offsetgroup\":\"\\ud83c\\uddec\\ud83c\\udde7\",\"orientation\":\"h\",\"showlegend\":true,\"textposition\":\"auto\",\"x\":[74],\"xaxis\":\"x\",\"y\":[\"\\ud83c\\uddec\\ud83c\\udde7\"],\"yaxis\":\"y\",\"type\":\"bar\"},{\"alignmentgroup\":\"True\",\"hovertemplate\":\"<b>%{hovertext}</b><br><br>flag=%{y}<br>date=2022-12-31<br>clicks=%{x}<extra></extra>\",\"hovertext\":[\"fra\"],\"legendgroup\":\"\\ud83c\\uddeb\\ud83c\\uddf7\",\"marker\":{\"color\":\"#9467BD\",\"pattern\":{\"shape\":\"\"}},\"name\":\"\\ud83c\\uddeb\\ud83c\\uddf7\",\"offsetgroup\":\"\\ud83c\\uddeb\\ud83c\\uddf7\",\"orientation\":\"h\",\"showlegend\":true,\"textposition\":\"auto\",\"x\":[81],\"xaxis\":\"x\",\"y\":[\"\\ud83c\\uddeb\\ud83c\\uddf7\"],\"yaxis\":\"y\",\"type\":\"bar\"},{\"alignmentgroup\":\"True\",\"hovertemplate\":\"<b>%{hovertext}</b><br><br>flag=%{y}<br>date=2022-12-31<br>clicks=%{x}<extra></extra>\",\"hovertext\":[\"esp\"],\"legendgroup\":\"\\ud83c\\uddea\\ud83c\\uddf8\",\"marker\":{\"color\":\"#8C564B\",\"pattern\":{\"shape\":\"\"}},\"name\":\"\\ud83c\\uddea\\ud83c\\uddf8\",\"offsetgroup\":\"\\ud83c\\uddea\\ud83c\\uddf8\",\"orientation\":\"h\",\"showlegend\":true,\"textposition\":\"auto\",\"x\":[55],\"xaxis\":\"x\",\"y\":[\"\\ud83c\\uddea\\ud83c\\uddf8\"],\"yaxis\":\"y\",\"type\":\"bar\"},{\"alignmentgroup\":\"True\",\"hovertemplate\":\"<b>%{hovertext}</b><br><br>flag=%{y}<br>date=2022-12-31<br>clicks=%{x}<extra></extra>\",\"hovertext\":[\"can\"],\"legendgroup\":\"\\ud83c\\udde8\\ud83c\\udde6\",\"marker\":{\"color\":\"#E377C2\",\"pattern\":{\"shape\":\"\"}},\"name\":\"\\ud83c\\udde8\\ud83c\\udde6\",\"offsetgroup\":\"\\ud83c\\udde8\\ud83c\\udde6\",\"orientation\":\"h\",\"showlegend\":true,\"textposition\":\"auto\",\"x\":[46],\"xaxis\":\"x\",\"y\":[\"\\ud83c\\udde8\\ud83c\\udde6\"],\"yaxis\":\"y\",\"type\":\"bar\"},{\"alignmentgroup\":\"True\",\"hovertemplate\":\"<b>%{hovertext}</b><br><br>flag=%{y}<br>date=2022-12-31<br>clicks=%{x}<extra></extra>\",\"hovertext\":[\"tur\"],\"legendgroup\":\"\\ud83c\\uddf9\\ud83c\\uddf7\",\"marker\":{\"color\":\"#7F7F7F\",\"pattern\":{\"shape\":\"\"}},\"name\":\"\\ud83c\\uddf9\\ud83c\\uddf7\",\"offsetgroup\":\"\\ud83c\\uddf9\\ud83c\\uddf7\",\"orientation\":\"h\",\"showlegend\":true,\"textposition\":\"auto\",\"x\":[48],\"xaxis\":\"x\",\"y\":[\"\\ud83c\\uddf9\\ud83c\\uddf7\"],\"yaxis\":\"y\",\"type\":\"bar\"},{\"alignmentgroup\":\"True\",\"hovertemplate\":\"<b>%{hovertext}</b><br><br>flag=%{y}<br>date=2022-12-31<br>clicks=%{x}<extra></extra>\",\"hovertext\":[\"ita\"],\"legendgroup\":\"\\ud83c\\uddee\\ud83c\\uddf9\",\"marker\":{\"color\":\"#BCBD22\",\"pattern\":{\"shape\":\"\"}},\"name\":\"\\ud83c\\uddee\\ud83c\\uddf9\",\"offsetgroup\":\"\\ud83c\\uddee\\ud83c\\uddf9\",\"orientation\":\"h\",\"showlegend\":true,\"textposition\":\"auto\",\"x\":[61],\"xaxis\":\"x\",\"y\":[\"\\ud83c\\uddee\\ud83c\\uddf9\"],\"yaxis\":\"y\",\"type\":\"bar\"},{\"alignmentgroup\":\"True\",\"hovertemplate\":\"<b>%{hovertext}</b><br><br>flag=%{y}<br>date=2022-12-31<br>clicks=%{x}<extra></extra>\",\"hovertext\":[\"nld\"],\"legendgroup\":\"\\ud83c\\uddf3\\ud83c\\uddf1\",\"marker\":{\"color\":\"#17BECF\",\"pattern\":{\"shape\":\"\"}},\"name\":\"\\ud83c\\uddf3\\ud83c\\uddf1\",\"offsetgroup\":\"\\ud83c\\uddf3\\ud83c\\uddf1\",\"orientation\":\"h\",\"showlegend\":true,\"textposition\":\"auto\",\"x\":[39],\"xaxis\":\"x\",\"y\":[\"\\ud83c\\uddf3\\ud83c\\uddf1\"],\"yaxis\":\"y\",\"type\":\"bar\"},{\"alignmentgroup\":\"True\",\"hovertemplate\":\"<b>%{hovertext}</b><br><br>flag=%{y}<br>date=2022-12-31<br>clicks=%{x}<extra></extra>\",\"hovertext\":[\"pak\"],\"legendgroup\":\"\\ud83c\\uddf5\\ud83c\\uddf0\",\"marker\":{\"color\":\"#1F77B4\",\"pattern\":{\"shape\":\"\"}},\"name\":\"\\ud83c\\uddf5\\ud83c\\uddf0\",\"offsetgroup\":\"\\ud83c\\uddf5\\ud83c\\uddf0\",\"orientation\":\"h\",\"showlegend\":true,\"textposition\":\"auto\",\"x\":[33],\"xaxis\":\"x\",\"y\":[\"\\ud83c\\uddf5\\ud83c\\uddf0\"],\"yaxis\":\"y\",\"type\":\"bar\"},{\"alignmentgroup\":\"True\",\"hovertemplate\":\"<b>%{hovertext}</b><br><br>flag=%{y}<br>date=2022-12-31<br>clicks=%{x}<extra></extra>\",\"hovertext\":[\"pol\"],\"legendgroup\":\"\\ud83c\\uddf5\\ud83c\\uddf1\",\"marker\":{\"color\":\"#FF7F0E\",\"pattern\":{\"shape\":\"\"}},\"name\":\"\\ud83c\\uddf5\\ud83c\\uddf1\",\"offsetgroup\":\"\\ud83c\\uddf5\\ud83c\\uddf1\",\"orientation\":\"h\",\"showlegend\":true,\"textposition\":\"auto\",\"x\":[39],\"xaxis\":\"x\",\"y\":[\"\\ud83c\\uddf5\\ud83c\\uddf1\"],\"yaxis\":\"y\",\"type\":\"bar\"},{\"alignmentgroup\":\"True\",\"hovertemplate\":\"<b>%{hovertext}</b><br><br>flag=%{y}<br>date=2022-12-31<br>clicks=%{x}<extra></extra>\",\"hovertext\":[\"rus\"],\"legendgroup\":\"\\ud83c\\uddf7\\ud83c\\uddfa\",\"marker\":{\"color\":\"#2CA02C\",\"pattern\":{\"shape\":\"\"}},\"name\":\"\\ud83c\\uddf7\\ud83c\\uddfa\",\"offsetgroup\":\"\\ud83c\\uddf7\\ud83c\\uddfa\",\"orientation\":\"h\",\"showlegend\":true,\"textposition\":\"auto\",\"x\":[37],\"xaxis\":\"x\",\"y\":[\"\\ud83c\\uddf7\\ud83c\\uddfa\"],\"yaxis\":\"y\",\"type\":\"bar\"},{\"alignmentgroup\":\"True\",\"hovertemplate\":\"<b>%{hovertext}</b><br><br>flag=%{y}<br>date=2022-12-31<br>clicks=%{x}<extra></extra>\",\"hovertext\":[\"vnm\"],\"legendgroup\":\"\\ud83c\\uddfb\\ud83c\\uddf3\",\"marker\":{\"color\":\"#D62728\",\"pattern\":{\"shape\":\"\"}},\"name\":\"\\ud83c\\uddfb\\ud83c\\uddf3\",\"offsetgroup\":\"\\ud83c\\uddfb\\ud83c\\uddf3\",\"orientation\":\"h\",\"showlegend\":true,\"textposition\":\"auto\",\"x\":[35],\"xaxis\":\"x\",\"y\":[\"\\ud83c\\uddfb\\ud83c\\uddf3\"],\"yaxis\":\"y\",\"type\":\"bar\"},{\"alignmentgroup\":\"True\",\"hovertemplate\":\"<b>%{hovertext}</b><br><br>flag=%{y}<br>date=2022-12-31<br>clicks=%{x}<extra></extra>\",\"hovertext\":[\"irn\"],\"legendgroup\":\"\\ud83c\\uddee\\ud83c\\uddf7\",\"marker\":{\"color\":\"#9467BD\",\"pattern\":{\"shape\":\"\"}},\"name\":\"\\ud83c\\uddee\\ud83c\\uddf7\",\"offsetgroup\":\"\\ud83c\\uddee\\ud83c\\uddf7\",\"orientation\":\"h\",\"showlegend\":true,\"textposition\":\"auto\",\"x\":[36],\"xaxis\":\"x\",\"y\":[\"\\ud83c\\uddee\\ud83c\\uddf7\"],\"yaxis\":\"y\",\"type\":\"bar\"}],\"name\":\"2022-12-31\"}]);\n",
       "                        }).then(function(){\n",
       "                            \n",
       "var gd = document.getElementById('d57fa33e-ed08-4d09-8611-8d38b41ad99f');\n",
       "var x = new MutationObserver(function (mutations, observer) {{\n",
       "        var display = window.getComputedStyle(gd).display;\n",
       "        if (!display || display === 'none') {{\n",
       "            console.log([gd, 'removed!']);\n",
       "            Plotly.purge(gd);\n",
       "            observer.disconnect();\n",
       "        }}\n",
       "}});\n",
       "\n",
       "// Listen for the removal of the full notebook cells\n",
       "var notebookContainer = gd.closest('#notebook-container');\n",
       "if (notebookContainer) {{\n",
       "    x.observe(notebookContainer, {childList: true});\n",
       "}}\n",
       "\n",
       "// Listen for the clearing of the current output cell\n",
       "var outputEl = gd.closest('.output');\n",
       "if (outputEl) {{\n",
       "    x.observe(outputEl, {childList: true});\n",
       "}}\n",
       "\n",
       "                        })                };                });            </script>        </div>"
      ]
     },
     "metadata": {},
     "output_type": "display_data"
    }
   ],
   "source": [
    "fig = px.bar(\n",
    "    country_df[country_df['flag'].isin(top_last_month)],\n",
    "    x='clicks',\n",
    "    y='flag',\n",
    "    animation_frame='date',\n",
    "    title=f'<b>Google Search Console - Top {n} countries clicks</b><br>2022 monthly. By: <a href=\"https://twitter.com/eliasdabbas\">@EliasDabbas<a>',\n",
    "    color='flag',\n",
    "    hover_name='country',\n",
    "    color_discrete_sequence=px.colors.qualitative.D3,\n",
    "    template='plotly_dark',\n",
    "    height=750)\n",
    "\n",
    "fig.layout.yaxis.categoryarray = top_last_month\n",
    "fig.layout.yaxis.tickfont.size = 25\n",
    "fig.layout.yaxis.title = None\n",
    "fig.layout.showlegend = False\n",
    "fig"
   ]
  },
  {
   "cell_type": "markdown",
   "id": "c35a3055-8337-4ba2-83b2-f0b684be7bad",
   "metadata": {},
   "source": [
    "## Write to an HTML file"
   ]
  },
  {
   "cell_type": "code",
   "execution_count": null,
   "id": "a4d1d070-c1e1-4991-8729-11c49af0a0bc",
   "metadata": {},
   "outputs": [],
   "source": [
    "fig.write_html('gsc_monthly_top_10_countries_bar_race.html')"
   ]
  }
 ],
 "metadata": {
  "kernelspec": {
   "display_name": "python3",
   "language": "python",
   "name": "python3"
  },
  "widgets": {
   "application/vnd.jupyter.widget-state+json": {
    "state": {},
    "version_major": 2,
    "version_minor": 0
   }
  }
 },
 "nbformat": 4,
 "nbformat_minor": 5
}
